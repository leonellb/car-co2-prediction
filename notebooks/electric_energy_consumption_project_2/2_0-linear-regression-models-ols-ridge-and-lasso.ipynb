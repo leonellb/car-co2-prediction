{
 "cells": [
  {
   "cell_type": "markdown",
   "metadata": {},
   "source": [
    "># **Linear Regression Models: OLS, Ridge, and Lasso**\n",
    ">\n",
    ">The dataframe used in this notebook originates from the preprocessing steps \n",
    ">performed in the `\"1_4b-preprocessing-feature-engineering-and-preprocessing-for-predictive-models.ipynb\"` notebook.\n",
    ">The final refinement of selected variables is conducted here to meet the \n",
    ">specific requirements of the models being developed, based on insights from \n",
    ">the aforementioned notebook."
   ]
  },
  {
   "cell_type": "markdown",
   "metadata": {},
   "source": [
    ">## Multilinear Regression (OLS)"
   ]
  },
  {
   "cell_type": "code",
   "execution_count": null,
   "metadata": {},
   "outputs": [],
   "source": [
    "# Importing Required Libraries\n",
    "\n",
    "import pandas as pd\n",
    "import numpy as np\n",
    "import joblib\n",
    "from statsmodels.stats.outliers_influence import variance_inflation_factor\n",
    "import statsmodels.api as sm\n",
    "from sklearn.linear_model import RidgeCV\n",
    "from sklearn.linear_model import LassoCV\n",
    "from sklearn.model_selection import train_test_split\n",
    "from sklearn.preprocessing import StandardScaler\n",
    "from sklearn.metrics import mean_absolute_error, mean_squared_error, r2_score\n"
   ]
  },
  {
   "cell_type": "code",
   "execution_count": null,
   "metadata": {},
   "outputs": [],
   "source": [
    "# Loading the Dataset\n",
    "\n",
    "df = pd.read_csv(\"preprocessing_for_prediction_models_final.csv\", index_col = 0, sep = \",\")"
   ]
  },
  {
   "cell_type": "code",
   "execution_count": null,
   "metadata": {},
   "outputs": [],
   "source": [
    "# Droping rows without values for the target variable\n",
    "df = df.dropna(subset=[\"electric_energy_consumption\"])\n",
    "df = df[df[\"electric_energy_consumption\"] != 0]"
   ]
  },
  {
   "cell_type": "code",
   "execution_count": null,
   "metadata": {},
   "outputs": [
    {
     "name": "stdout",
     "output_type": "stream",
     "text": [
      "                  feature       VIF\n",
      "0            mass_vehicle  2.528779\n",
      "1            engine_power  2.382914\n",
      "2         engine_capacity  1.979144\n",
      "3          electric_range  2.288244\n",
      "4        fuel_consumption  2.743936\n",
      "5  specific_co2_emissions  4.035319\n"
     ]
    }
   ],
   "source": [
    "# Testing the existence of multicolinearity using VIF\n",
    "\n",
    "x = df[[\"mass_vehicle\", \"engine_power\", \"engine_capacity\",\n",
    "\"electric_range\", \"fuel_consumption\", \"specific_co2_emissions\"]].dropna()\n",
    "\n",
    "# Standardization for better VIF scaling\n",
    "x_scaled = StandardScaler().fit_transform(x)\n",
    "\n",
    "# Calculate VIF\n",
    "vif_data = pd.DataFrame()\n",
    "vif_data[\"feature\"] = x.columns\n",
    "vif_data[\"VIF\"] = [variance_inflation_factor(x_scaled, i) for i in range(x.shape[1])]\n",
    "print(vif_data)\n"
   ]
  },
  {
   "cell_type": "code",
   "execution_count": null,
   "metadata": {},
   "outputs": [],
   "source": [
    "# Transforming the variables with non-visibles linearity trends\n",
    "\n",
    "df[\"log_engine_power\"] = np.log1p(df[\"engine_power\"])\n",
    "df[\"log_engine_capacity\"] = np.log1p(df[\"engine_capacity\"])\n",
    "df[\"inv_electric_range\"] = 1 / df[\"electric_range\"].replace(0, np.nan)\n",
    "df[\"electric_range\"] = df[\"electric_range\"].fillna(0)\n",
    "df[\"inv_electric_range\"] = 1 / df[\"electric_range\"].replace(np.nan, 0)\n"
   ]
  },
  {
   "cell_type": "code",
   "execution_count": 31,
   "metadata": {},
   "outputs": [
    {
     "data": {
      "text/plain": [
       "mass_vehicle                   0\n",
       "engine_capacity                0\n",
       "engine_power                   0\n",
       "erwltp                         0\n",
       "year                           0\n",
       "electric_range                 0\n",
       "fuel_consumption               0\n",
       "specific_co2_emissions         0\n",
       "electric_energy_consumption    0\n",
       "fuel_type_diesel/electric      0\n",
       "fuel_type_e85                  0\n",
       "fuel_type_lpg                  0\n",
       "fuel_type_ng                   0\n",
       "fuel_type_petrol               0\n",
       "fuel_type_petrol/electric      0\n",
       "has_innovation                 0\n",
       "col_0                          0\n",
       "col_1                          0\n",
       "col_2                          0\n",
       "col_3                          0\n",
       "col_4                          0\n",
       "col_5                          0\n",
       "col_6                          0\n",
       "col_7                          0\n",
       "log_engine_power               0\n",
       "log_engine_capacity            0\n",
       "inv_electric_range             0\n",
       "dtype: int64"
      ]
     },
     "execution_count": 31,
     "metadata": {},
     "output_type": "execute_result"
    }
   ],
   "source": [
    "df.isna().sum()"
   ]
  },
  {
   "cell_type": "code",
   "execution_count": 32,
   "metadata": {},
   "outputs": [
    {
     "data": {
      "text/html": [
       "<div>\n",
       "<style scoped>\n",
       "    .dataframe tbody tr th:only-of-type {\n",
       "        vertical-align: middle;\n",
       "    }\n",
       "\n",
       "    .dataframe tbody tr th {\n",
       "        vertical-align: top;\n",
       "    }\n",
       "\n",
       "    .dataframe thead th {\n",
       "        text-align: right;\n",
       "    }\n",
       "</style>\n",
       "<table border=\"1\" class=\"dataframe\">\n",
       "  <thead>\n",
       "    <tr style=\"text-align: right;\">\n",
       "      <th></th>\n",
       "      <th>mass_vehicle</th>\n",
       "      <th>engine_capacity</th>\n",
       "      <th>engine_power</th>\n",
       "      <th>erwltp</th>\n",
       "      <th>year</th>\n",
       "      <th>electric_range</th>\n",
       "      <th>fuel_consumption</th>\n",
       "      <th>specific_co2_emissions</th>\n",
       "      <th>electric_energy_consumption</th>\n",
       "      <th>fuel_type_diesel/electric</th>\n",
       "      <th>...</th>\n",
       "      <th>col_1</th>\n",
       "      <th>col_2</th>\n",
       "      <th>col_3</th>\n",
       "      <th>col_4</th>\n",
       "      <th>col_5</th>\n",
       "      <th>col_6</th>\n",
       "      <th>col_7</th>\n",
       "      <th>log_engine_power</th>\n",
       "      <th>log_engine_capacity</th>\n",
       "      <th>inv_electric_range</th>\n",
       "    </tr>\n",
       "    <tr>\n",
       "      <th>ID</th>\n",
       "      <th></th>\n",
       "      <th></th>\n",
       "      <th></th>\n",
       "      <th></th>\n",
       "      <th></th>\n",
       "      <th></th>\n",
       "      <th></th>\n",
       "      <th></th>\n",
       "      <th></th>\n",
       "      <th></th>\n",
       "      <th></th>\n",
       "      <th></th>\n",
       "      <th></th>\n",
       "      <th></th>\n",
       "      <th></th>\n",
       "      <th></th>\n",
       "      <th></th>\n",
       "      <th></th>\n",
       "      <th></th>\n",
       "      <th></th>\n",
       "      <th></th>\n",
       "    </tr>\n",
       "  </thead>\n",
       "  <tbody>\n",
       "    <tr>\n",
       "      <th>56003435</th>\n",
       "      <td>2005.0</td>\n",
       "      <td>2487.0</td>\n",
       "      <td>136.0</td>\n",
       "      <td>0.0</td>\n",
       "      <td>2021</td>\n",
       "      <td>75.0</td>\n",
       "      <td>1.0</td>\n",
       "      <td>22.0</td>\n",
       "      <td>166.0</td>\n",
       "      <td>0.0</td>\n",
       "      <td>...</td>\n",
       "      <td>0.0</td>\n",
       "      <td>0.0</td>\n",
       "      <td>0.0</td>\n",
       "      <td>0.0</td>\n",
       "      <td>0.0</td>\n",
       "      <td>0.0</td>\n",
       "      <td>0.0</td>\n",
       "      <td>4.919981</td>\n",
       "      <td>7.819234</td>\n",
       "      <td>0.013333</td>\n",
       "    </tr>\n",
       "    <tr>\n",
       "      <th>56003436</th>\n",
       "      <td>1985.0</td>\n",
       "      <td>2487.0</td>\n",
       "      <td>136.0</td>\n",
       "      <td>0.0</td>\n",
       "      <td>2021</td>\n",
       "      <td>75.0</td>\n",
       "      <td>1.0</td>\n",
       "      <td>22.0</td>\n",
       "      <td>166.0</td>\n",
       "      <td>0.0</td>\n",
       "      <td>...</td>\n",
       "      <td>0.0</td>\n",
       "      <td>0.0</td>\n",
       "      <td>0.0</td>\n",
       "      <td>0.0</td>\n",
       "      <td>0.0</td>\n",
       "      <td>0.0</td>\n",
       "      <td>0.0</td>\n",
       "      <td>4.919981</td>\n",
       "      <td>7.819234</td>\n",
       "      <td>0.013333</td>\n",
       "    </tr>\n",
       "    <tr>\n",
       "      <th>56003437</th>\n",
       "      <td>1985.0</td>\n",
       "      <td>2487.0</td>\n",
       "      <td>136.0</td>\n",
       "      <td>0.0</td>\n",
       "      <td>2021</td>\n",
       "      <td>75.0</td>\n",
       "      <td>1.0</td>\n",
       "      <td>22.0</td>\n",
       "      <td>166.0</td>\n",
       "      <td>0.0</td>\n",
       "      <td>...</td>\n",
       "      <td>0.0</td>\n",
       "      <td>0.0</td>\n",
       "      <td>0.0</td>\n",
       "      <td>0.0</td>\n",
       "      <td>0.0</td>\n",
       "      <td>0.0</td>\n",
       "      <td>0.0</td>\n",
       "      <td>4.919981</td>\n",
       "      <td>7.819234</td>\n",
       "      <td>0.013333</td>\n",
       "    </tr>\n",
       "    <tr>\n",
       "      <th>56003438</th>\n",
       "      <td>1985.0</td>\n",
       "      <td>2487.0</td>\n",
       "      <td>136.0</td>\n",
       "      <td>0.0</td>\n",
       "      <td>2021</td>\n",
       "      <td>75.0</td>\n",
       "      <td>1.0</td>\n",
       "      <td>22.0</td>\n",
       "      <td>166.0</td>\n",
       "      <td>0.0</td>\n",
       "      <td>...</td>\n",
       "      <td>0.0</td>\n",
       "      <td>0.0</td>\n",
       "      <td>0.0</td>\n",
       "      <td>0.0</td>\n",
       "      <td>0.0</td>\n",
       "      <td>0.0</td>\n",
       "      <td>0.0</td>\n",
       "      <td>4.919981</td>\n",
       "      <td>7.819234</td>\n",
       "      <td>0.013333</td>\n",
       "    </tr>\n",
       "    <tr>\n",
       "      <th>56003439</th>\n",
       "      <td>1985.0</td>\n",
       "      <td>2487.0</td>\n",
       "      <td>136.0</td>\n",
       "      <td>0.0</td>\n",
       "      <td>2021</td>\n",
       "      <td>75.0</td>\n",
       "      <td>1.0</td>\n",
       "      <td>22.0</td>\n",
       "      <td>166.0</td>\n",
       "      <td>0.0</td>\n",
       "      <td>...</td>\n",
       "      <td>0.0</td>\n",
       "      <td>0.0</td>\n",
       "      <td>0.0</td>\n",
       "      <td>0.0</td>\n",
       "      <td>0.0</td>\n",
       "      <td>0.0</td>\n",
       "      <td>0.0</td>\n",
       "      <td>4.919981</td>\n",
       "      <td>7.819234</td>\n",
       "      <td>0.013333</td>\n",
       "    </tr>\n",
       "  </tbody>\n",
       "</table>\n",
       "<p>5 rows × 27 columns</p>\n",
       "</div>"
      ],
      "text/plain": [
       "          mass_vehicle  engine_capacity  engine_power  erwltp  year  \\\n",
       "ID                                                                    \n",
       "56003435        2005.0           2487.0         136.0     0.0  2021   \n",
       "56003436        1985.0           2487.0         136.0     0.0  2021   \n",
       "56003437        1985.0           2487.0         136.0     0.0  2021   \n",
       "56003438        1985.0           2487.0         136.0     0.0  2021   \n",
       "56003439        1985.0           2487.0         136.0     0.0  2021   \n",
       "\n",
       "          electric_range  fuel_consumption  specific_co2_emissions  \\\n",
       "ID                                                                   \n",
       "56003435            75.0               1.0                    22.0   \n",
       "56003436            75.0               1.0                    22.0   \n",
       "56003437            75.0               1.0                    22.0   \n",
       "56003438            75.0               1.0                    22.0   \n",
       "56003439            75.0               1.0                    22.0   \n",
       "\n",
       "          electric_energy_consumption  fuel_type_diesel/electric  ...  col_1  \\\n",
       "ID                                                                ...          \n",
       "56003435                        166.0                        0.0  ...    0.0   \n",
       "56003436                        166.0                        0.0  ...    0.0   \n",
       "56003437                        166.0                        0.0  ...    0.0   \n",
       "56003438                        166.0                        0.0  ...    0.0   \n",
       "56003439                        166.0                        0.0  ...    0.0   \n",
       "\n",
       "          col_2  col_3  col_4  col_5  col_6  col_7  log_engine_power  \\\n",
       "ID                                                                     \n",
       "56003435    0.0    0.0    0.0    0.0    0.0    0.0          4.919981   \n",
       "56003436    0.0    0.0    0.0    0.0    0.0    0.0          4.919981   \n",
       "56003437    0.0    0.0    0.0    0.0    0.0    0.0          4.919981   \n",
       "56003438    0.0    0.0    0.0    0.0    0.0    0.0          4.919981   \n",
       "56003439    0.0    0.0    0.0    0.0    0.0    0.0          4.919981   \n",
       "\n",
       "          log_engine_capacity  inv_electric_range  \n",
       "ID                                                 \n",
       "56003435             7.819234            0.013333  \n",
       "56003436             7.819234            0.013333  \n",
       "56003437             7.819234            0.013333  \n",
       "56003438             7.819234            0.013333  \n",
       "56003439             7.819234            0.013333  \n",
       "\n",
       "[5 rows x 27 columns]"
      ]
     },
     "execution_count": 32,
     "metadata": {},
     "output_type": "execute_result"
    }
   ],
   "source": [
    "df.head()"
   ]
  },
  {
   "cell_type": "code",
   "execution_count": null,
   "metadata": {},
   "outputs": [],
   "source": [
    "# Splitting Data and Converting Dataset to Float32\n",
    "\n",
    "X = df.drop(columns = [\"electric_energy_consumption\"])\n",
    "y = df[\"electric_energy_consumption\"]\n",
    "\n",
    "x = x.astype(\"float32\")\n",
    "y = y.astype(\"float32\")"
   ]
  },
  {
   "cell_type": "code",
   "execution_count": 37,
   "metadata": {},
   "outputs": [
    {
     "name": "stdout",
     "output_type": "stream",
     "text": [
      "Splitted data saved successfully!\n"
     ]
    }
   ],
   "source": [
    "# Save the datasets (train-test split)\n",
    "joblib.dump((x, y), \"split_data_linear_model.pkl\")\n",
    "\n",
    "print(\"Splitted data saved successfully!\")"
   ]
  },
  {
   "cell_type": "code",
   "execution_count": null,
   "metadata": {},
   "outputs": [
    {
     "name": "stdout",
     "output_type": "stream",
     "text": [
      "                                 OLS Regression Results                                \n",
      "=======================================================================================\n",
      "Dep. Variable:     electric_energy_consumption   R-squared:                       0.667\n",
      "Model:                                     OLS   Adj. R-squared:                  0.667\n",
      "Method:                          Least Squares   F-statistic:                 7.050e+05\n",
      "Date:                         Mon, 24 Mar 2025   Prob (F-statistic):               0.00\n",
      "Time:                                 21:50:36   Log-Likelihood:            -9.6856e+06\n",
      "No. Observations:                      2115211   AIC:                         1.937e+07\n",
      "Df Residuals:                          2115204   BIC:                         1.937e+07\n",
      "Df Model:                                    6                                         \n",
      "Covariance Type:                     nonrobust                                         \n",
      "==========================================================================================\n",
      "                             coef    std err          t      P>|t|      [0.025      0.975]\n",
      "------------------------------------------------------------------------------------------\n",
      "const                    -77.3766      0.151   -513.355      0.000     -77.672     -77.081\n",
      "mass_vehicle               0.1366      0.000   1354.205      0.000       0.136       0.137\n",
      "engine_power               0.0324      0.001     58.691      0.000       0.031       0.034\n",
      "engine_capacity           -0.0121   4.83e-05   -249.831      0.000      -0.012      -0.012\n",
      "electric_range             0.0441      0.001     33.300      0.000       0.042       0.047\n",
      "fuel_consumption          -1.9470      0.037    -52.950      0.000      -2.019      -1.875\n",
      "specific_co2_emissions     0.3137      0.002    128.621      0.000       0.309       0.318\n",
      "==============================================================================\n",
      "Omnibus:                   498496.892   Durbin-Watson:                   0.638\n",
      "Prob(Omnibus):                  0.000   Jarque-Bera (JB):          1482930.283\n",
      "Skew:                           1.227   Prob(JB):                         0.00\n",
      "Kurtosis:                       6.287   Cond. No.                     2.53e+04\n",
      "==============================================================================\n",
      "\n",
      "Notes:\n",
      "[1] Standard Errors assume that the covariance matrix of the errors is correctly specified.\n",
      "[2] The condition number is large, 2.53e+04. This might indicate that there are\n",
      "strong multicollinearity or other numerical problems.\n"
     ]
    }
   ],
   "source": [
    "# OLS Model\n",
    "\n",
    "# Add constant (intercept)\n",
    "x_const = sm.add_constant(x)\n",
    "\n",
    "# OLS Model\n",
    "model = sm.OLS(y, x_const).fit()\n",
    "print(model.summary())"
   ]
  },
  {
   "cell_type": "markdown",
   "metadata": {},
   "source": [
    "># RidgeCV"
   ]
  },
  {
   "cell_type": "code",
   "execution_count": null,
   "metadata": {},
   "outputs": [
    {
     "name": "stdout",
     "output_type": "stream",
     "text": [
      "Splitted data saved successfully!\n"
     ]
    }
   ],
   "source": [
    "# Load the datasets\n",
    "x, y = joblib.load(\"split_data_linear_model.pkl\")\n",
    "\n",
    "print(\"Splitted data saved successfully!\")"
   ]
  },
  {
   "cell_type": "code",
   "execution_count": 7,
   "metadata": {},
   "outputs": [],
   "source": [
    "# Train-test split\n",
    "x_train, x_test, y_train, y_test = train_test_split(x, y, test_size = 0.2, random_state = 42)"
   ]
  },
  {
   "cell_type": "code",
   "execution_count": 8,
   "metadata": {},
   "outputs": [],
   "source": [
    "# Feature scaling\n",
    "scaler = StandardScaler()\n",
    "x_train_scaled = scaler.fit_transform(x_train)\n",
    "x_test_scaled = scaler.transform(x_test)"
   ]
  },
  {
   "cell_type": "code",
   "execution_count": 10,
   "metadata": {},
   "outputs": [
    {
     "name": "stdout",
     "output_type": "stream",
     "text": [
      "Best alpha: 11.51395\n",
      "MAE: 16.51\n",
      "RMSE: 23.60\n",
      "R²: 0.67\n",
      "                  Feature  Ridge Coefficient\n",
      "0            mass_vehicle          34.898453\n",
      "1            engine_power           1.455802\n",
      "2         engine_capacity          -5.704918\n",
      "3          electric_range           0.820035\n",
      "4        fuel_consumption          -1.413962\n",
      "5  specific_co2_emissions           4.189258\n"
     ]
    }
   ],
   "source": [
    "# RidgeCV with cross-validation over a range of alpha values\n",
    "alphas = np.logspace(-4, 4, 50)\n",
    "ridge = RidgeCV(alphas = alphas, scoring = \"neg_mean_squared_error\", cv = 5)\n",
    "ridge.fit(x_train_scaled, y_train)\n",
    "\n",
    "# Prediction and evaluation\n",
    "y_pred = ridge.predict(x_test_scaled)\n",
    "rmse = np.sqrt(mean_squared_error(y_test, y_pred))\n",
    "mae = mean_absolute_error(y_test, y_pred)\n",
    "r2 = r2_score(y_test, y_pred)\n",
    "\n",
    "# Display results\n",
    "print(f\"Best alpha: {ridge.alpha_:.5f}\")\n",
    "print(f\"MAE: {mae:.2f}\")\n",
    "print(f\"RMSE: {rmse:.2f}\")\n",
    "print(f\"R²: {r2:.2f}\")\n",
    "\n",
    "# Show feature coefficients\n",
    "coef_df = pd.DataFrame({\n",
    "    \"Feature\": x.columns,\n",
    "    \"Ridge Coefficient\": ridge.coef_})\n",
    "print(coef_df)\n"
   ]
  },
  {
   "cell_type": "markdown",
   "metadata": {},
   "source": [
    "># LassoCV"
   ]
  },
  {
   "cell_type": "code",
   "execution_count": 11,
   "metadata": {},
   "outputs": [],
   "source": [
    "# Scale features\n",
    "scaler = StandardScaler()\n",
    "x_train_scaled = scaler.fit_transform(x_train)\n",
    "x_test_scaled = scaler.transform(x_test)"
   ]
  },
  {
   "cell_type": "code",
   "execution_count": null,
   "metadata": {},
   "outputs": [
    {
     "name": "stdout",
     "output_type": "stream",
     "text": [
      "Best alpha: 0.00032\n",
      "MAE: 16.51\n",
      "RMSE: 23.60\n",
      "R²: 0.67\n",
      "                  Feature  Lasso Coefficient\n",
      "0            mass_vehicle          34.898235\n",
      "1            engine_power           1.455708\n",
      "2         engine_capacity          -5.704424\n",
      "3          electric_range           0.819414\n",
      "4        fuel_consumption          -1.412677\n",
      "5  specific_co2_emissions           4.187680\n"
     ]
    },
    {
     "name": "stderr",
     "output_type": "stream",
     "text": [
      "c:\\Users\\leone\\Project\\local_project\\Lib\\site-packages\\sklearn\\linear_model\\_coordinate_descent.py:695: ConvergenceWarning: Objective did not converge. You might want to increase the number of iterations, check the scale of the features or consider increasing regularisation. Duality gap: 9.225e+07, tolerance: 2.818e+05\n",
      "  model = cd_fast.enet_coordinate_descent(\n"
     ]
    }
   ],
   "source": [
    "# LassoCV with automatic alpha selection via cross-validation\n",
    "alphas = np.logspace(-4, 1, 50)\n",
    "lasso = LassoCV(alphas=alphas, cv = 5, max_iter = 10000, random_state = 42)\n",
    "lasso.fit(x_train_scaled, y_train)\n",
    "\n",
    "# Predictions and evaluation\n",
    "y_pred = lasso.predict(x_test_scaled)\n",
    "rmse = np.sqrt(mean_squared_error(y_test, y_pred))\n",
    "mae = mean_absolute_error(y_test, y_pred)\n",
    "r2 = r2_score(y_test, y_pred)\n",
    "\n",
    "# Print results\n",
    "print(f\"Best alpha: {lasso.alpha_:.5f}\")\n",
    "print(f\"MAE: {mae:.2f}\")\n",
    "print(f\"RMSE: {rmse:.2f}\")\n",
    "print(f\"R²: {r2:.2f}\")\n",
    "\n",
    "# Coefficients table\n",
    "coef_df = pd.DataFrame({\n",
    "    \"Feature\": x.columns,\n",
    "    \"Lasso Coefficient\": lasso.coef_\n",
    "})\n",
    "print(coef_df)"
   ]
  },
  {
   "cell_type": "markdown",
   "metadata": {},
   "source": [
    "## Conclusion\n",
    "\n",
    "The performance of the three linear models — **OLS**, **Ridge**, and **Lasso** — was evaluated as a first benchmark. Despite the theoretical appeal of these models, their performance on this dataset was overall modest, with relatively low R² values and non-negligible prediction errors (MAE and RMSE).\n",
    "\n",
    "- **OLS** served as a baseline, but struggled to capture the complexity of the underlying relationships in the data.\n",
    "- **Ridge Regression** introduced L2 regularization, which helped stabilize coefficients but offered only marginal improvement in predictive power.\n",
    "- **Lasso Regression**, while helpful in reducing the number of active features, also failed to significantly outperform the baseline.\n",
    "\n",
    "These results suggest that **linear models are insufficient to capture the non-linear or interaction effects** likely present in the data. This is not unexpected, given the complexity of the relationships involved in electric energy consumption.\n",
    "\n",
    "Although it would have been possible to improve performance by conducting a more specific preprocessing phase tailored to these linear models — including transformations, interaction terms, or advanced feature selection — this path was deliberately not pursued. \n",
    "\n",
    "Instead, the project will now advance to the use of **more sophisticated models**, beginning with a range of **machine learning algorithms** (such as tree-based models and ensemble techniques), and later extending to **deep learning architectures**. These are expected to yield substantially better predictive accuracy and capture the complex patterns inherent in the data.\n"
   ]
  }
 ],
 "metadata": {
  "kernelspec": {
   "display_name": "local_project",
   "language": "python",
   "name": "python3"
  },
  "language_info": {
   "codemirror_mode": {
    "name": "ipython",
    "version": 3
   },
   "file_extension": ".py",
   "mimetype": "text/x-python",
   "name": "python",
   "nbconvert_exporter": "python",
   "pygments_lexer": "ipython3",
   "version": "3.13.1"
  }
 },
 "nbformat": 4,
 "nbformat_minor": 2
}
