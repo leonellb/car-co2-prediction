{
 "cells": [
  {
   "cell_type": "code",
   "execution_count": null,
   "metadata": {},
   "outputs": [],
   "source": [
    "\"\"\"\n",
    "Merge database_files created from 1_1-prep_database_file_generator into one single file.\n",
    "For now we only use *.csv export from EU database\n",
    "\n",
    "This process can be skipped if downloaded data is already \"merged\" through selection of multiple years.\n",
    "\"\"\"\n",
    "\n",
    "import pandas as pd\n",
    "from config import PREP_DATA_FILES, DATABASE_FILE_DTYPES, DATABASE_FILE_INDEX, MERGED_DATA_FILE"
   ]
  },
  {
   "cell_type": "code",
   "execution_count": 2,
   "metadata": {},
   "outputs": [],
   "source": [
    "# read in files from 1_1-prep_database_file_generator PREP_DATA_FILES as df and merge dataframes\n",
    "for i in range(0, len(PREP_DATA_FILES)):\n",
    "    # if first we just load the file\n",
    "    if i == 0:\n",
    "        # read in file as df\n",
    "        df = pd.read_csv(PREP_DATA_FILES[i], dtype=DATABASE_FILE_DTYPES, index_col=DATABASE_FILE_INDEX)\n",
    "    else:\n",
    "        # merge current df (from prev. i==0 step) with new df (through pd.read_csv())\n",
    "        df = pd.concat([df, pd.read_csv(PREP_DATA_FILES[i], dtype=DATABASE_FILE_DTYPES, index_col=DATABASE_FILE_INDEX)], sort=False)"
   ]
  },
  {
   "cell_type": "code",
   "execution_count": 3,
   "metadata": {},
   "outputs": [],
   "source": [
    "# export merged file to csv \n",
    "df.to_csv(MERGED_DATA_FILE, index=True)"
   ]
  }
 ],
 "metadata": {
  "kernelspec": {
   "display_name": "venv",
   "language": "python",
   "name": "python3"
  },
  "language_info": {
   "codemirror_mode": {
    "name": "ipython",
    "version": 3
   },
   "file_extension": ".py",
   "mimetype": "text/x-python",
   "name": "python",
   "nbconvert_exporter": "python",
   "pygments_lexer": "ipython3",
   "version": "3.9.11"
  }
 },
 "nbformat": 4,
 "nbformat_minor": 2
}
