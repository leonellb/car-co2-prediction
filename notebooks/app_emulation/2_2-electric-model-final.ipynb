{
 "cells": [
  {
   "cell_type": "markdown",
   "metadata": {},
   "source": [
    "Use hyperparameters from model-tuning notebook and train model on entire dataset."
   ]
  },
  {
   "cell_type": "code",
   "execution_count": 2,
   "metadata": {},
   "outputs": [],
   "source": [
    "# Model: ExtraTreeRegressor\n",
    "#   RandomizedSearchCV:\n",
    "#     Best Params: {'min_samples_split': 2, 'min_samples_leaf': 2, 'max_features': None, 'max_depth': 20}\n",
    "#     Best CV Score: 0.966285\n",
    "#     Test R Squared score: 0.96"
   ]
  },
  {
   "cell_type": "code",
   "execution_count": 1,
   "metadata": {},
   "outputs": [],
   "source": [
    "import joblib\n",
    "from config import ELECTRIC_MODEL_FILE, TRAIN_TEST_SPLIT_ELECTRIC_FILE\n",
    "from sklearn.metrics import mean_squared_error, r2_score, root_mean_squared_error\n",
    "from sklearn.tree._classes import ExtraTreeRegressor"
   ]
  },
  {
   "cell_type": "code",
   "execution_count": 2,
   "metadata": {},
   "outputs": [],
   "source": [
    "# load train_test_split objects\n",
    "X_train, X_test, y_train, y_test = joblib.load(TRAIN_TEST_SPLIT_ELECTRIC_FILE)"
   ]
  },
  {
   "cell_type": "code",
   "execution_count": null,
   "metadata": {},
   "outputs": [],
   "source": [
    "model = ExtraTreeRegressor(\n",
    "    min_samples_split=2,\n",
    "    min_samples_leaf=2,\n",
    "    max_features=None,\n",
    "    max_depth=20\n",
    ")\n",
    "\n",
    "model.fit(X_train, y_train)"
   ]
  },
  {
   "cell_type": "code",
   "execution_count": 4,
   "metadata": {},
   "outputs": [],
   "source": [
    "# Predict on test set\n",
    "y_pred = model.predict(X_test)"
   ]
  },
  {
   "cell_type": "code",
   "execution_count": 5,
   "metadata": {},
   "outputs": [
    {
     "name": "stdout",
     "output_type": "stream",
     "text": [
      "R-Squared:  0.9706514944335698\n",
      "Adjusted R-Squared:  0.9706438238558385\n",
      "MSE:  17.6157250532277\n",
      "RMSE:  4.197109130488234\n"
     ]
    }
   ],
   "source": [
    "# calculate metrics\n",
    "\n",
    "# R-Squared\n",
    "r2 = r2_score(y_test, y_pred)\n",
    "print(\"R-Squared: \",r2)\n",
    "\n",
    "# Adjusted R-Squared\n",
    "n = len(y_test)  # Number of samples\n",
    "p = X_test.shape[1]  # Number of predictors\n",
    "adjusted_r2 = 1 - (1 - r2) * (n - 1) / (n - p - 1)\n",
    "print(\"Adjusted R-Squared: \",adjusted_r2)\n",
    "\n",
    "# MSE\n",
    "mean_squared_error_reg = mean_squared_error(y_true=y_test, y_pred=y_pred)\n",
    "print(\"MSE: \",mean_squared_error_reg)\n",
    "\n",
    "# RMSE\n",
    "root_mean_squared_error_reg = root_mean_squared_error(y_true=y_test, y_pred=y_pred)\n",
    "print(\"RMSE: \",root_mean_squared_error_reg)\n"
   ]
  },
  {
   "cell_type": "code",
   "execution_count": 6,
   "metadata": {},
   "outputs": [
    {
     "data": {
      "text/plain": [
       "['files/output/models/electric-model.pkl']"
      ]
     },
     "execution_count": 6,
     "metadata": {},
     "output_type": "execute_result"
    }
   ],
   "source": [
    "# Store model\n",
    "joblib.dump(model, ELECTRIC_MODEL_FILE)"
   ]
  }
 ],
 "metadata": {
  "kernelspec": {
   "display_name": "venv",
   "language": "python",
   "name": "python3"
  },
  "language_info": {
   "codemirror_mode": {
    "name": "ipython",
    "version": 3
   },
   "file_extension": ".py",
   "mimetype": "text/x-python",
   "name": "python",
   "nbconvert_exporter": "python",
   "pygments_lexer": "ipython3",
   "version": "3.9.11"
  }
 },
 "nbformat": 4,
 "nbformat_minor": 2
}
