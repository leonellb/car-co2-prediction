{
 "cells": [
  {
   "cell_type": "markdown",
   "metadata": {},
   "source": [
    "# Preprocessing for electric dataset\n",
    "\n",
    "TODO's\n",
    "- consider PCA"
   ]
  },
  {
   "cell_type": "code",
   "execution_count": 1,
   "metadata": {},
   "outputs": [],
   "source": [
    "import pandas as pd\n",
    "from config import DATABASE_FILE_DTYPES, DATABASE_FILE_INDEX, DENSITY_THRESHOLD, ELECTRIC_TARGET, MERGED_ELECTRIC_FILE, REPLACE_STRING_OTHER\n",
    "from sklearn.compose import ColumnTransformer\n",
    "from sklearn.impute import SimpleImputer\n",
    "from sklearn.preprocessing import OneHotEncoder"
   ]
  },
  {
   "cell_type": "code",
   "execution_count": 2,
   "metadata": {},
   "outputs": [],
   "source": [
    "# load dataset for electric cars\n",
    "df = pd.read_csv(MERGED_ELECTRIC_FILE, dtype=DATABASE_FILE_DTYPES, index_col=DATABASE_FILE_INDEX)"
   ]
  },
  {
   "cell_type": "code",
   "execution_count": 3,
   "metadata": {},
   "outputs": [
    {
     "data": {
      "text/plain": [
       "Index(['member_state', 'manufacturer_name_eu', 'vehicle_type',\n",
       "       'commercial_name', 'category_of_vehicle', 'fuel_type', 'fuel_mode',\n",
       "       'innovative_technologies', 'mass_vehicle', 'weltp_test_mass',\n",
       "       'engine_capacity', 'engine_power', 'erwltp', 'year', 'electric_range',\n",
       "       'electric_energy_consumption', 'fuel_consumption',\n",
       "       'specific_co2_emissions'],\n",
       "      dtype='object')"
      ]
     },
     "execution_count": 3,
     "metadata": {},
     "output_type": "execute_result"
    }
   ],
   "source": [
    "df.columns"
   ]
  },
  {
   "cell_type": "code",
   "execution_count": 4,
   "metadata": {},
   "outputs": [
    {
     "name": "stdout",
     "output_type": "stream",
     "text": [
      "<class 'pandas.core.frame.DataFrame'>\n",
      "Index: 3945297 entries, 56003781 to 134630842\n",
      "Data columns (total 18 columns):\n",
      " #   Column                       Dtype  \n",
      "---  ------                       -----  \n",
      " 0   member_state                 object \n",
      " 1   manufacturer_name_eu         object \n",
      " 2   vehicle_type                 object \n",
      " 3   commercial_name              object \n",
      " 4   category_of_vehicle          object \n",
      " 5   fuel_type                    object \n",
      " 6   fuel_mode                    object \n",
      " 7   innovative_technologies      object \n",
      " 8   mass_vehicle                 float64\n",
      " 9   weltp_test_mass              float64\n",
      " 10  engine_capacity              float64\n",
      " 11  engine_power                 float64\n",
      " 12  erwltp                       float64\n",
      " 13  year                         int64  \n",
      " 14  electric_range               float64\n",
      " 15  electric_energy_consumption  float64\n",
      " 16  fuel_consumption             float64\n",
      " 17  specific_co2_emissions       float64\n",
      "dtypes: float64(9), int64(1), object(8)\n",
      "memory usage: 571.9+ MB\n"
     ]
    }
   ],
   "source": [
    "df.info()"
   ]
  },
  {
   "cell_type": "code",
   "execution_count": 5,
   "metadata": {},
   "outputs": [],
   "source": [
    "def categorize_categorical_quantitive_cols(df):\n",
    "    cat_cols = pd.DataFrame.select_dtypes(df, include=[\"object\"]).columns\n",
    "    quant_cols = df.select_dtypes(exclude=[\"object\"]).columns\n",
    "\n",
    "    return cat_cols, quant_cols"
   ]
  },
  {
   "cell_type": "code",
   "execution_count": 6,
   "metadata": {},
   "outputs": [],
   "source": [
    "cols_to_be_dropped = list()\n",
    "\n",
    "cat_cols, quant_cols = categorize_categorical_quantitive_cols(df)"
   ]
  },
  {
   "cell_type": "markdown",
   "metadata": {},
   "source": [
    "## Remove columns below density threshold"
   ]
  },
  {
   "cell_type": "code",
   "execution_count": 7,
   "metadata": {},
   "outputs": [
    {
     "name": "stdout",
     "output_type": "stream",
     "text": [
      "member_state                   0.000000\n",
      "manufacturer_name_eu           0.000000\n",
      "vehicle_type                   0.000221\n",
      "commercial_name                0.005351\n",
      "category_of_vehicle            0.005234\n",
      "fuel_type                      0.000000\n",
      "fuel_mode                      0.000000\n",
      "innovative_technologies        0.999567\n",
      "mass_vehicle                   0.000016\n",
      "weltp_test_mass                0.043012\n",
      "engine_capacity                1.000000\n",
      "engine_power                   0.069891\n",
      "erwltp                         1.000000\n",
      "year                           0.000000\n",
      "electric_range                 0.115409\n",
      "electric_energy_consumption    0.036422\n",
      "fuel_consumption               0.999976\n",
      "specific_co2_emissions         0.000003\n",
      "dtype: float64\n"
     ]
    }
   ],
   "source": [
    "missing_percentage = df.isna().sum() / len(df)\n",
    "print(missing_percentage)"
   ]
  },
  {
   "cell_type": "code",
   "execution_count": 8,
   "metadata": {},
   "outputs": [
    {
     "name": "stdout",
     "output_type": "stream",
     "text": [
      "Columns to be dropped due to availability density below threshold: ['innovative_technologies', 'engine_capacity', 'erwltp', 'fuel_consumption']\n"
     ]
    }
   ],
   "source": [
    "cols_to_be_dropped = list()\n",
    "\n",
    "for col, percentage in missing_percentage.items():\n",
    "    if percentage > DENSITY_THRESHOLD:\n",
    "        cols_to_be_dropped.append(col)\n",
    "\n",
    "print(f\"Columns to be dropped due to availability density below threshold: {cols_to_be_dropped}\")"
   ]
  },
  {
   "cell_type": "code",
   "execution_count": 9,
   "metadata": {},
   "outputs": [
    {
     "name": "stdout",
     "output_type": "stream",
     "text": [
      "member_state                   0.000000\n",
      "manufacturer_name_eu           0.000000\n",
      "vehicle_type                   0.000221\n",
      "commercial_name                0.005351\n",
      "category_of_vehicle            0.005234\n",
      "fuel_type                      0.000000\n",
      "fuel_mode                      0.000000\n",
      "innovative_technologies        0.999567\n",
      "mass_vehicle                   0.000016\n",
      "weltp_test_mass                0.043012\n",
      "engine_capacity                1.000000\n",
      "engine_power                   0.069891\n",
      "erwltp                         1.000000\n",
      "year                           0.000000\n",
      "electric_range                 0.115409\n",
      "electric_energy_consumption    0.036422\n",
      "fuel_consumption               0.999976\n",
      "specific_co2_emissions         0.000003\n",
      "dtype: float64\n"
     ]
    }
   ],
   "source": [
    "missing_percentage = df.isna().sum() / len(df)\n",
    "print(missing_percentage)"
   ]
  },
  {
   "cell_type": "markdown",
   "metadata": {},
   "source": [
    "## Quantitative columns\n",
    "\n",
    "- replace missing values with median of variable\n",
    "- drop missing values if replacement is no option (e.g. for target variable)"
   ]
  },
  {
   "cell_type": "code",
   "execution_count": 10,
   "metadata": {},
   "outputs": [],
   "source": [
    "df[\"specific_co2_emissions\"].value_counts(normalize=True)\n",
    "# -> all values are 0 -> no use for us\n",
    "cols_to_be_dropped.append(\"specific_co2_emissions\")"
   ]
  },
  {
   "cell_type": "code",
   "execution_count": 11,
   "metadata": {},
   "outputs": [],
   "source": [
    "# electric_energy_consumption is our target and we should only keep rows with value\n",
    "df.dropna(subset=[\"electric_energy_consumption\"], inplace=True)"
   ]
  },
  {
   "cell_type": "code",
   "execution_count": 12,
   "metadata": {},
   "outputs": [
    {
     "name": "stdout",
     "output_type": "stream",
     "text": [
      "Dropping columns:  ['innovative_technologies', 'engine_capacity', 'erwltp', 'fuel_consumption', 'specific_co2_emissions']\n"
     ]
    }
   ],
   "source": [
    "print(\"Dropping columns: \", cols_to_be_dropped)\n",
    "df.drop(columns=cols_to_be_dropped, inplace=True)\n",
    "\n",
    "# reinit\n",
    "cols_to_be_dropped = list()"
   ]
  },
  {
   "cell_type": "code",
   "execution_count": 13,
   "metadata": {},
   "outputs": [],
   "source": [
    "# replace NaN with median\n",
    "imputer = SimpleImputer(strategy='median')\n",
    "cat_cols, quant_cols = categorize_categorical_quantitive_cols(df)\n",
    "# make sure we don't accidentely manipulate target variable\n",
    "quant_cols_replace = list(quant_cols)\n",
    "quant_cols_replace.remove(ELECTRIC_TARGET)\n",
    "# we don't want to replace anything in year column\n",
    "quant_cols_replace.remove(\"year\")\n",
    "\n",
    "df[quant_cols] = imputer.fit_transform(df[quant_cols])"
   ]
  },
  {
   "cell_type": "code",
   "execution_count": 14,
   "metadata": {},
   "outputs": [
    {
     "name": "stdout",
     "output_type": "stream",
     "text": [
      "member_state                   0.000000\n",
      "manufacturer_name_eu           0.000000\n",
      "vehicle_type                   0.000009\n",
      "commercial_name                0.005487\n",
      "category_of_vehicle            0.000000\n",
      "fuel_type                      0.000000\n",
      "fuel_mode                      0.000000\n",
      "mass_vehicle                   0.000000\n",
      "weltp_test_mass                0.000000\n",
      "engine_power                   0.000000\n",
      "year                           0.000000\n",
      "electric_range                 0.000000\n",
      "electric_energy_consumption    0.000000\n",
      "dtype: float64\n"
     ]
    }
   ],
   "source": [
    "missing_percentage = df.isna().sum() / len(df)\n",
    "print(missing_percentage)"
   ]
  },
  {
   "cell_type": "markdown",
   "metadata": {},
   "source": [
    "## Categorical Columns"
   ]
  },
  {
   "cell_type": "markdown",
   "metadata": {},
   "source": [
    "### Analyze and preprocess columns based on value distribution & uniqueness"
   ]
  },
  {
   "cell_type": "code",
   "execution_count": 15,
   "metadata": {},
   "outputs": [
    {
     "name": "stdout",
     "output_type": "stream",
     "text": [
      "member_state  unique vals:  29\n",
      "manufacturer_name_eu  unique vals:  72\n",
      "vehicle_type  unique vals:  286\n",
      "commercial_name  unique vals:  1452\n",
      "category_of_vehicle  unique vals:  4\n",
      "fuel_type  unique vals:  1\n",
      "fuel_mode  unique vals:  1\n"
     ]
    }
   ],
   "source": [
    "# analyze uniqueness\n",
    "for col in cat_cols:\n",
    "    len_unique = len(df[col].unique())\n",
    "    print(col, \" unique vals: \", len_unique)\n",
    "    if len_unique == 1:\n",
    "        # we don't need cols with only one value -> drop\n",
    "        cols_to_be_dropped.append(col)\n"
   ]
  },
  {
   "cell_type": "code",
   "execution_count": 16,
   "metadata": {},
   "outputs": [
    {
     "name": "stdout",
     "output_type": "stream",
     "text": [
      "Dropping columns:  ['fuel_type', 'fuel_mode']\n"
     ]
    }
   ],
   "source": [
    "print(\"Dropping columns: \", cols_to_be_dropped)\n",
    "df.drop(columns=cols_to_be_dropped, inplace=True)"
   ]
  },
  {
   "cell_type": "markdown",
   "metadata": {},
   "source": [
    "- Reduce number of unique values through adding a \"other\" value/class representing all values below a certain threshold.\n",
    "- Additionally we'll replace Na values with REPLACE_STRING_OTHER"
   ]
  },
  {
   "cell_type": "code",
   "execution_count": 17,
   "metadata": {},
   "outputs": [],
   "source": [
    "# replace Na values for cat_cols with REPLACE_STRING_OTHER\n",
    "\n",
    "cat_cols, quant_cols = categorize_categorical_quantitive_cols(df)\n",
    "df[cat_cols] = df[cat_cols].fillna(value=REPLACE_STRING_OTHER)"
   ]
  },
  {
   "cell_type": "code",
   "execution_count": 18,
   "metadata": {},
   "outputs": [],
   "source": [
    "def reduce_unique_col_vals_through_other(df, col, threshold=0.01):\n",
    "    # check if we can reduce the number of unique values in a column\n",
    "    # by grouping the values that have a frequency of less than threshold\n",
    "    # into a new category\n",
    "    # returns the modified dataframe and the new unique values\n",
    "    value_counts = df[col].value_counts(normalize=True)\n",
    "    other_vals = value_counts[value_counts < threshold].index\n",
    "    df[col] = df[col].apply(lambda x: REPLACE_STRING_OTHER if x in other_vals else x)\n",
    "    return df"
   ]
  },
  {
   "cell_type": "code",
   "execution_count": 19,
   "metadata": {},
   "outputs": [
    {
     "name": "stdout",
     "output_type": "stream",
     "text": [
      "member_state            0.0\n",
      "manufacturer_name_eu    0.0\n",
      "vehicle_type            0.0\n",
      "commercial_name         0.0\n",
      "category_of_vehicle     0.0\n",
      "dtype: float64\n"
     ]
    }
   ],
   "source": [
    "cat_cols, quant_cols = categorize_categorical_quantitive_cols(df)\n",
    "\n",
    "missing_percentage = df[cat_cols].isna().sum() / len(df)\n",
    "print(missing_percentage)"
   ]
  },
  {
   "cell_type": "code",
   "execution_count": 20,
   "metadata": {},
   "outputs": [
    {
     "name": "stdout",
     "output_type": "stream",
     "text": [
      "Reduced unique vals of manufacturer_name_eu to:  22\n"
     ]
    },
    {
     "data": {
      "text/plain": [
       "manufacturer_name_eu\n",
       "TESLA                       0.141083\n",
       "VOLKSWAGEN                  0.115710\n",
       "BMW AG                      0.077433\n",
       "STELLANTIS AUTO             0.073975\n",
       "RENAULT                     0.066638\n",
       "MERCEDES-BENZ AG            0.064153\n",
       "AUDI AG                     0.045662\n",
       "other                       0.045388\n",
       "KIA                         0.042644\n",
       "SKODA                       0.038538\n",
       "DACIA                       0.035599\n",
       "STELLANTIS EUROPE           0.035227\n",
       "SAIC MOTOR CORPORATION      0.033021\n",
       "VOLVO                       0.031792\n",
       "PSA                         0.028290\n",
       "HYUNDAI                     0.028079\n",
       "HYUNDAI CZECH               0.023124\n",
       "SEAT                        0.018831\n",
       "NISSAN AUTOMOTIVE EUROPE    0.018339\n",
       "FORD WERKE GMBH             0.013361\n",
       "POLESTAR                    0.012542\n",
       "FIAT GROUP                  0.010568\n",
       "Name: proportion, dtype: float64"
      ]
     },
     "execution_count": 20,
     "metadata": {},
     "output_type": "execute_result"
    }
   ],
   "source": [
    "# Preprocess manufacturer_name_eu to reduce number of unique values for future encoding\n",
    "reduce_unique_col_vals_through_other(df, \"manufacturer_name_eu\", threshold=0.01)\n",
    "print(\"Reduced unique vals of manufacturer_name_eu to: \", len(df[\"manufacturer_name_eu\"].unique()))\n",
    "df[\"manufacturer_name_eu\"].value_counts(normalize=True)"
   ]
  },
  {
   "cell_type": "code",
   "execution_count": 21,
   "metadata": {},
   "outputs": [
    {
     "name": "stdout",
     "output_type": "stream",
     "text": [
      "Reduced unique vals of vehicle_type to:  58\n"
     ]
    },
    {
     "data": {
      "text/plain": [
       "vehicle_type\n",
       "003        0.095796\n",
       "U          0.086123\n",
       "E2         0.056271\n",
       "FA1        0.042240\n",
       "E1         0.038021\n",
       "NY         0.037694\n",
       "3          0.036661\n",
       "DBG        0.035602\n",
       "other      0.031466\n",
       "X          0.028982\n",
       "AG         0.025825\n",
       "FZ         0.025174\n",
       "F2B        0.024680\n",
       "OSE        0.021735\n",
       "FML2E      0.020535\n",
       "AA         0.019769\n",
       "NE         0.019515\n",
       "V          0.019071\n",
       "451        0.018996\n",
       "RCB        0.018478\n",
       "GE         0.017625\n",
       "K1         0.016716\n",
       "CV         0.015480\n",
       "ZE1        0.015161\n",
       "G4C        0.014753\n",
       "SEH3       0.014491\n",
       "AH         0.013661\n",
       "LSK        0.013359\n",
       "DE         0.013081\n",
       "G3XE       0.012079\n",
       "B          0.011768\n",
       "SG2        0.010208\n",
       "ZS1        0.009953\n",
       "U1X        0.009769\n",
       "BMWi-1     0.009682\n",
       "Y1A        0.009359\n",
       "204 X      0.007333\n",
       "BMWi-N     0.005759\n",
       "DR         0.005653\n",
       "E2EQEW     0.005594\n",
       "EAM1(M)    0.004966\n",
       "E          0.004851\n",
       "005        0.004815\n",
       "AH2        0.004644\n",
       "EP21       0.004161\n",
       "EB         0.003908\n",
       "EP22-L     0.003801\n",
       "AG0        0.003734\n",
       "SC2E       0.003720\n",
       "FH1        0.003574\n",
       "BMWI-N     0.003176\n",
       "SK3        0.003113\n",
       "639/2      0.003036\n",
       "FW         0.002963\n",
       "CE         0.002952\n",
       "FE0E       0.002927\n",
       "OS         0.002924\n",
       "HX11       0.002615\n",
       "Name: proportion, dtype: float64"
      ]
     },
     "execution_count": 21,
     "metadata": {},
     "output_type": "execute_result"
    }
   ],
   "source": [
    "# Preprocess vehicle_type to reduce number of unique values for future encoding\n",
    "reduce_unique_col_vals_through_other(df, \"vehicle_type\", threshold=0.0025)\n",
    "print(\"Reduced unique vals of vehicle_type to: \", len(df[\"vehicle_type\"].unique()))\n",
    "df[\"vehicle_type\"].value_counts(normalize=True)"
   ]
  },
  {
   "cell_type": "code",
   "execution_count": 22,
   "metadata": {},
   "outputs": [
    {
     "name": "stdout",
     "output_type": "stream",
     "text": [
      "Reduced unique vals of commercial_name to:  181\n"
     ]
    },
    {
     "data": {
      "text/plain": [
       "commercial_name\n",
       "MODEL Y         0.071774\n",
       "MODEL 3         0.055174\n",
       "other           0.051414\n",
       "500             0.041274\n",
       "SPRING          0.035602\n",
       "                  ...   \n",
       "E-TRON S        0.000533\n",
       "Q4 E-TRON       0.000525\n",
       "iX1 xDrive30    0.000524\n",
       "600             0.000519\n",
       "e-tron 55       0.000515\n",
       "Name: proportion, Length: 181, dtype: float64"
      ]
     },
     "execution_count": 22,
     "metadata": {},
     "output_type": "execute_result"
    }
   ],
   "source": [
    "# Preprocess commercial_name to reduce number of unique values for future encoding\n",
    "reduce_unique_col_vals_through_other(df, \"commercial_name\", threshold=0.0005)\n",
    "print(\"Reduced unique vals of commercial_name to: \", len(df[\"commercial_name\"].unique()))\n",
    "df[\"commercial_name\"].value_counts(normalize=True)"
   ]
  },
  {
   "cell_type": "code",
   "execution_count": 23,
   "metadata": {},
   "outputs": [],
   "source": [
    "# encoding\n",
    "cat_cols, quant_cols = categorize_categorical_quantitive_cols(df)\n",
    "\n",
    "ct_electric = ColumnTransformer(transformers=[(\"encoder\", OneHotEncoder(sparse_output=False), cat_cols)], remainder=\"passthrough\")\n",
    "transformed_array = ct_electric.fit_transform(df)\n",
    "encoder_feature_names = ct_electric.named_transformers_[\"encoder\"].get_feature_names_out(cat_cols)\n",
    "\n",
    "preserved_col_names = list(encoder_feature_names)\n",
    "preserved_col_names.extend(list(quant_cols))\n",
    "\n",
    "df_enc = pd.DataFrame(transformed_array, columns=preserved_col_names)"
   ]
  },
  {
   "cell_type": "code",
   "execution_count": 24,
   "metadata": {},
   "outputs": [
    {
     "data": {
      "text/html": [
       "<div>\n",
       "<style scoped>\n",
       "    .dataframe tbody tr th:only-of-type {\n",
       "        vertical-align: middle;\n",
       "    }\n",
       "\n",
       "    .dataframe tbody tr th {\n",
       "        vertical-align: top;\n",
       "    }\n",
       "\n",
       "    .dataframe thead th {\n",
       "        text-align: right;\n",
       "    }\n",
       "</style>\n",
       "<table border=\"1\" class=\"dataframe\">\n",
       "  <thead>\n",
       "    <tr style=\"text-align: right;\">\n",
       "      <th></th>\n",
       "      <th>member_state_AT</th>\n",
       "      <th>member_state_BE</th>\n",
       "      <th>member_state_BG</th>\n",
       "      <th>member_state_CY</th>\n",
       "      <th>member_state_CZ</th>\n",
       "      <th>member_state_DE</th>\n",
       "      <th>member_state_DK</th>\n",
       "      <th>member_state_EE</th>\n",
       "      <th>member_state_ES</th>\n",
       "      <th>member_state_FI</th>\n",
       "      <th>...</th>\n",
       "      <th>category_of_vehicle_M1</th>\n",
       "      <th>category_of_vehicle_M1</th>\n",
       "      <th>category_of_vehicle_M1G</th>\n",
       "      <th>category_of_vehicle_N1</th>\n",
       "      <th>mass_vehicle</th>\n",
       "      <th>weltp_test_mass</th>\n",
       "      <th>engine_power</th>\n",
       "      <th>year</th>\n",
       "      <th>electric_range</th>\n",
       "      <th>electric_energy_consumption</th>\n",
       "    </tr>\n",
       "  </thead>\n",
       "  <tbody>\n",
       "    <tr>\n",
       "      <th>0</th>\n",
       "      <td>0.0</td>\n",
       "      <td>0.0</td>\n",
       "      <td>0.0</td>\n",
       "      <td>0.0</td>\n",
       "      <td>0.0</td>\n",
       "      <td>0.0</td>\n",
       "      <td>0.0</td>\n",
       "      <td>0.0</td>\n",
       "      <td>0.0</td>\n",
       "      <td>0.0</td>\n",
       "      <td>...</td>\n",
       "      <td>1.0</td>\n",
       "      <td>0.0</td>\n",
       "      <td>0.0</td>\n",
       "      <td>0.0</td>\n",
       "      <td>1860.0</td>\n",
       "      <td>1940.0</td>\n",
       "      <td>150.0</td>\n",
       "      <td>2021.0</td>\n",
       "      <td>313.0</td>\n",
       "      <td>169.0</td>\n",
       "    </tr>\n",
       "    <tr>\n",
       "      <th>1</th>\n",
       "      <td>0.0</td>\n",
       "      <td>0.0</td>\n",
       "      <td>0.0</td>\n",
       "      <td>0.0</td>\n",
       "      <td>0.0</td>\n",
       "      <td>0.0</td>\n",
       "      <td>0.0</td>\n",
       "      <td>0.0</td>\n",
       "      <td>0.0</td>\n",
       "      <td>0.0</td>\n",
       "      <td>...</td>\n",
       "      <td>1.0</td>\n",
       "      <td>0.0</td>\n",
       "      <td>0.0</td>\n",
       "      <td>0.0</td>\n",
       "      <td>1860.0</td>\n",
       "      <td>1940.0</td>\n",
       "      <td>150.0</td>\n",
       "      <td>2021.0</td>\n",
       "      <td>313.0</td>\n",
       "      <td>169.0</td>\n",
       "    </tr>\n",
       "  </tbody>\n",
       "</table>\n",
       "<p>2 rows × 300 columns</p>\n",
       "</div>"
      ],
      "text/plain": [
       "   member_state_AT  member_state_BE  member_state_BG  member_state_CY  \\\n",
       "0              0.0              0.0              0.0              0.0   \n",
       "1              0.0              0.0              0.0              0.0   \n",
       "\n",
       "   member_state_CZ  member_state_DE  member_state_DK  member_state_EE  \\\n",
       "0              0.0              0.0              0.0              0.0   \n",
       "1              0.0              0.0              0.0              0.0   \n",
       "\n",
       "   member_state_ES  member_state_FI  ...  category_of_vehicle_M1  \\\n",
       "0              0.0              0.0  ...                     1.0   \n",
       "1              0.0              0.0  ...                     1.0   \n",
       "\n",
       "   category_of_vehicle_M1          category_of_vehicle_M1G  \\\n",
       "0                             0.0                      0.0   \n",
       "1                             0.0                      0.0   \n",
       "\n",
       "   category_of_vehicle_N1  mass_vehicle  weltp_test_mass  engine_power  \\\n",
       "0                     0.0        1860.0           1940.0         150.0   \n",
       "1                     0.0        1860.0           1940.0         150.0   \n",
       "\n",
       "     year  electric_range  electric_energy_consumption  \n",
       "0  2021.0           313.0                        169.0  \n",
       "1  2021.0           313.0                        169.0  \n",
       "\n",
       "[2 rows x 300 columns]"
      ]
     },
     "execution_count": 24,
     "metadata": {},
     "output_type": "execute_result"
    }
   ],
   "source": [
    "df_enc.head(2)"
   ]
  },
  {
   "cell_type": "code",
   "execution_count": 25,
   "metadata": {},
   "outputs": [],
   "source": [
    "# from config import ENCODED_PREP_ELECTRIC_FILE\n",
    "# df_enc.to_csv(ENCODED_PREP_ELECTRIC_FILE, index=False)"
   ]
  },
  {
   "cell_type": "markdown",
   "metadata": {},
   "source": [
    "## Split dataset\n",
    "- features, target\n",
    "- train, test"
   ]
  },
  {
   "cell_type": "code",
   "execution_count": 26,
   "metadata": {},
   "outputs": [],
   "source": [
    "from sklearn.model_selection import train_test_split"
   ]
  },
  {
   "cell_type": "code",
   "execution_count": 27,
   "metadata": {},
   "outputs": [],
   "source": [
    "X = df_enc.drop(columns = ELECTRIC_TARGET)\n",
    "y = df_enc[ELECTRIC_TARGET]"
   ]
  },
  {
   "cell_type": "code",
   "execution_count": 28,
   "metadata": {},
   "outputs": [],
   "source": [
    "# free up memory and delete unused variables\n",
    "del df_enc"
   ]
  },
  {
   "cell_type": "code",
   "execution_count": 29,
   "metadata": {},
   "outputs": [],
   "source": [
    "# we're using higher test_size here to reduce time for compute due to X_train size\n",
    "X_train, X_test, y_train, y_test = train_test_split(X, y, test_size=0.4)\n",
    "# X_train, X_test, y_train, y_test = train_test_split(deepcopy(X), deepcopy(y), test_size=0.4)"
   ]
  },
  {
   "cell_type": "markdown",
   "metadata": {},
   "source": [
    "## Feature Scaling"
   ]
  },
  {
   "cell_type": "code",
   "execution_count": 30,
   "metadata": {},
   "outputs": [],
   "source": [
    "from sklearn.preprocessing import StandardScaler"
   ]
  },
  {
   "cell_type": "code",
   "execution_count": 31,
   "metadata": {},
   "outputs": [
    {
     "data": {
      "text/html": [
       "<div>\n",
       "<style scoped>\n",
       "    .dataframe tbody tr th:only-of-type {\n",
       "        vertical-align: middle;\n",
       "    }\n",
       "\n",
       "    .dataframe tbody tr th {\n",
       "        vertical-align: top;\n",
       "    }\n",
       "\n",
       "    .dataframe thead th {\n",
       "        text-align: right;\n",
       "    }\n",
       "</style>\n",
       "<table border=\"1\" class=\"dataframe\">\n",
       "  <thead>\n",
       "    <tr style=\"text-align: right;\">\n",
       "      <th></th>\n",
       "      <th>member_state_AT</th>\n",
       "      <th>member_state_BE</th>\n",
       "      <th>member_state_BG</th>\n",
       "      <th>member_state_CY</th>\n",
       "      <th>member_state_CZ</th>\n",
       "      <th>member_state_DE</th>\n",
       "      <th>member_state_DK</th>\n",
       "      <th>member_state_EE</th>\n",
       "      <th>member_state_ES</th>\n",
       "      <th>member_state_FI</th>\n",
       "      <th>...</th>\n",
       "      <th>commercial_name_other</th>\n",
       "      <th>category_of_vehicle_M1</th>\n",
       "      <th>category_of_vehicle_M1</th>\n",
       "      <th>category_of_vehicle_M1G</th>\n",
       "      <th>category_of_vehicle_N1</th>\n",
       "      <th>mass_vehicle</th>\n",
       "      <th>weltp_test_mass</th>\n",
       "      <th>engine_power</th>\n",
       "      <th>year</th>\n",
       "      <th>electric_range</th>\n",
       "    </tr>\n",
       "  </thead>\n",
       "  <tbody>\n",
       "    <tr>\n",
       "      <th>3651707</th>\n",
       "      <td>0.0</td>\n",
       "      <td>0.0</td>\n",
       "      <td>0.0</td>\n",
       "      <td>0.0</td>\n",
       "      <td>0.0</td>\n",
       "      <td>0.0</td>\n",
       "      <td>0.0</td>\n",
       "      <td>0.0</td>\n",
       "      <td>0.0</td>\n",
       "      <td>0.0</td>\n",
       "      <td>...</td>\n",
       "      <td>0.0</td>\n",
       "      <td>1.0</td>\n",
       "      <td>0.0</td>\n",
       "      <td>0.0</td>\n",
       "      <td>0.0</td>\n",
       "      <td>1984.0</td>\n",
       "      <td>2095.0</td>\n",
       "      <td>88.0</td>\n",
       "      <td>2023.0</td>\n",
       "      <td>455.0</td>\n",
       "    </tr>\n",
       "    <tr>\n",
       "      <th>3797427</th>\n",
       "      <td>0.0</td>\n",
       "      <td>1.0</td>\n",
       "      <td>0.0</td>\n",
       "      <td>0.0</td>\n",
       "      <td>0.0</td>\n",
       "      <td>0.0</td>\n",
       "      <td>0.0</td>\n",
       "      <td>0.0</td>\n",
       "      <td>0.0</td>\n",
       "      <td>0.0</td>\n",
       "      <td>...</td>\n",
       "      <td>0.0</td>\n",
       "      <td>1.0</td>\n",
       "      <td>0.0</td>\n",
       "      <td>0.0</td>\n",
       "      <td>0.0</td>\n",
       "      <td>2069.0</td>\n",
       "      <td>2137.0</td>\n",
       "      <td>170.0</td>\n",
       "      <td>2023.0</td>\n",
       "      <td>548.0</td>\n",
       "    </tr>\n",
       "    <tr>\n",
       "      <th>2688010</th>\n",
       "      <td>0.0</td>\n",
       "      <td>0.0</td>\n",
       "      <td>0.0</td>\n",
       "      <td>0.0</td>\n",
       "      <td>0.0</td>\n",
       "      <td>1.0</td>\n",
       "      <td>0.0</td>\n",
       "      <td>0.0</td>\n",
       "      <td>0.0</td>\n",
       "      <td>0.0</td>\n",
       "      <td>...</td>\n",
       "      <td>0.0</td>\n",
       "      <td>1.0</td>\n",
       "      <td>0.0</td>\n",
       "      <td>0.0</td>\n",
       "      <td>0.0</td>\n",
       "      <td>1440.0</td>\n",
       "      <td>1505.0</td>\n",
       "      <td>141.0</td>\n",
       "      <td>2022.0</td>\n",
       "      <td>234.0</td>\n",
       "    </tr>\n",
       "    <tr>\n",
       "      <th>3496963</th>\n",
       "      <td>0.0</td>\n",
       "      <td>0.0</td>\n",
       "      <td>0.0</td>\n",
       "      <td>0.0</td>\n",
       "      <td>0.0</td>\n",
       "      <td>1.0</td>\n",
       "      <td>0.0</td>\n",
       "      <td>0.0</td>\n",
       "      <td>0.0</td>\n",
       "      <td>0.0</td>\n",
       "      <td>...</td>\n",
       "      <td>0.0</td>\n",
       "      <td>1.0</td>\n",
       "      <td>0.0</td>\n",
       "      <td>0.0</td>\n",
       "      <td>0.0</td>\n",
       "      <td>1818.0</td>\n",
       "      <td>1904.0</td>\n",
       "      <td>141.0</td>\n",
       "      <td>2023.0</td>\n",
       "      <td>425.0</td>\n",
       "    </tr>\n",
       "    <tr>\n",
       "      <th>159828</th>\n",
       "      <td>0.0</td>\n",
       "      <td>0.0</td>\n",
       "      <td>0.0</td>\n",
       "      <td>0.0</td>\n",
       "      <td>0.0</td>\n",
       "      <td>0.0</td>\n",
       "      <td>0.0</td>\n",
       "      <td>0.0</td>\n",
       "      <td>0.0</td>\n",
       "      <td>0.0</td>\n",
       "      <td>...</td>\n",
       "      <td>0.0</td>\n",
       "      <td>1.0</td>\n",
       "      <td>0.0</td>\n",
       "      <td>0.0</td>\n",
       "      <td>0.0</td>\n",
       "      <td>2124.0</td>\n",
       "      <td>2312.0</td>\n",
       "      <td>70.0</td>\n",
       "      <td>2021.0</td>\n",
       "      <td>490.0</td>\n",
       "    </tr>\n",
       "  </tbody>\n",
       "</table>\n",
       "<p>5 rows × 299 columns</p>\n",
       "</div>"
      ],
      "text/plain": [
       "         member_state_AT  member_state_BE  member_state_BG  member_state_CY  \\\n",
       "3651707              0.0              0.0              0.0              0.0   \n",
       "3797427              0.0              1.0              0.0              0.0   \n",
       "2688010              0.0              0.0              0.0              0.0   \n",
       "3496963              0.0              0.0              0.0              0.0   \n",
       "159828               0.0              0.0              0.0              0.0   \n",
       "\n",
       "         member_state_CZ  member_state_DE  member_state_DK  member_state_EE  \\\n",
       "3651707              0.0              0.0              0.0              0.0   \n",
       "3797427              0.0              0.0              0.0              0.0   \n",
       "2688010              0.0              1.0              0.0              0.0   \n",
       "3496963              0.0              1.0              0.0              0.0   \n",
       "159828               0.0              0.0              0.0              0.0   \n",
       "\n",
       "         member_state_ES  member_state_FI  ...  commercial_name_other  \\\n",
       "3651707              0.0              0.0  ...                    0.0   \n",
       "3797427              0.0              0.0  ...                    0.0   \n",
       "2688010              0.0              0.0  ...                    0.0   \n",
       "3496963              0.0              0.0  ...                    0.0   \n",
       "159828               0.0              0.0  ...                    0.0   \n",
       "\n",
       "         category_of_vehicle_M1  category_of_vehicle_M1          \\\n",
       "3651707                     1.0                             0.0   \n",
       "3797427                     1.0                             0.0   \n",
       "2688010                     1.0                             0.0   \n",
       "3496963                     1.0                             0.0   \n",
       "159828                      1.0                             0.0   \n",
       "\n",
       "         category_of_vehicle_M1G  category_of_vehicle_N1  mass_vehicle  \\\n",
       "3651707                      0.0                     0.0        1984.0   \n",
       "3797427                      0.0                     0.0        2069.0   \n",
       "2688010                      0.0                     0.0        1440.0   \n",
       "3496963                      0.0                     0.0        1818.0   \n",
       "159828                       0.0                     0.0        2124.0   \n",
       "\n",
       "         weltp_test_mass  engine_power    year  electric_range  \n",
       "3651707           2095.0          88.0  2023.0           455.0  \n",
       "3797427           2137.0         170.0  2023.0           548.0  \n",
       "2688010           1505.0         141.0  2022.0           234.0  \n",
       "3496963           1904.0         141.0  2023.0           425.0  \n",
       "159828            2312.0          70.0  2021.0           490.0  \n",
       "\n",
       "[5 rows x 299 columns]"
      ]
     },
     "execution_count": 31,
     "metadata": {},
     "output_type": "execute_result"
    }
   ],
   "source": [
    "X_train.head()"
   ]
  },
  {
   "cell_type": "code",
   "execution_count": 32,
   "metadata": {},
   "outputs": [],
   "source": [
    "# encode all variables that are scalable (will include encoded cat_cols)\n",
    "cat_cols, quant_cols = categorize_categorical_quantitive_cols(X)"
   ]
  },
  {
   "cell_type": "code",
   "execution_count": 33,
   "metadata": {},
   "outputs": [],
   "source": [
    "# free up memory and delete unused variables\n",
    "del X, y"
   ]
  },
  {
   "cell_type": "code",
   "execution_count": 34,
   "metadata": {},
   "outputs": [],
   "source": [
    "scaler = StandardScaler()\n",
    "X_train[quant_cols] = scaler.fit_transform(X_train[quant_cols])\n",
    "X_test[quant_cols] = scaler.fit_transform(X_test[quant_cols])\n",
    "\n",
    "# we're also scaling encoded columns, consider only encoding quant_cols\n",
    "# X_train.iloc[:, -5:]"
   ]
  },
  {
   "cell_type": "code",
   "execution_count": 36,
   "metadata": {},
   "outputs": [
    {
     "data": {
      "text/plain": [
       "['files/electric-scaler.pk1']"
      ]
     },
     "execution_count": 36,
     "metadata": {},
     "output_type": "execute_result"
    }
   ],
   "source": [
    "import joblib\n",
    "from config import SCALER_ELECTRIC_FILE, TRAIN_TEST_SPLIT_ELECTRIC_FILE\n",
    "\n",
    "# Save the datasets and scaler\n",
    "joblib.dump((X_train, X_test, y_train, y_test), TRAIN_TEST_SPLIT_ELECTRIC_FILE)\n",
    "joblib.dump(scaler, SCALER_ELECTRIC_FILE)"
   ]
  }
 ],
 "metadata": {
  "kernelspec": {
   "display_name": "venv",
   "language": "python",
   "name": "python3"
  },
  "language_info": {
   "codemirror_mode": {
    "name": "ipython",
    "version": 3
   },
   "file_extension": ".py",
   "mimetype": "text/x-python",
   "name": "python",
   "nbconvert_exporter": "python",
   "pygments_lexer": "ipython3",
   "version": "3.9.11"
  }
 },
 "nbformat": 4,
 "nbformat_minor": 2
}
