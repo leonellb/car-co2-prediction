{
 "cells": [
  {
   "cell_type": "code",
   "execution_count": null,
   "metadata": {},
   "outputs": [],
   "source": [
    "\"\"\"\n",
    "Create database_file with common configuration of variable naming, columns based on different datasets.\n",
    "For now we only use *.csv exports from EU database.\n",
    "https://www.eea.europa.eu/en/datahub/datahubitem-view/fa8b1229-3db6-495d-b18e-9c9b3267c02b?activeAccordion=\n",
    "\n",
    "This notebook needs to be executed for each dataset we want to use later in the data analysis and model training process.\n",
    "\"\"\"\n",
    "\n",
    "import pandas as pd\n",
    "from config import COLS_PRE_DROP, COLS_MAPPER, RAW_DATA_FILES, DENSITY_THRESHOLD, raw_csv_to_proc_csv_converter"
   ]
  },
  {
   "cell_type": "code",
   "execution_count": 4,
   "metadata": {},
   "outputs": [
    {
     "name": "stderr",
     "output_type": "stream",
     "text": [
      "C:\\Users\\Mr_Di\\AppData\\Local\\Temp\\ipykernel_30868\\2160831717.py:4: DtypeWarning: Columns (3,28,37,38) have mixed types. Specify dtype option on import or set low_memory=False.\n",
      "  df = pd.read_csv(file)\n"
     ]
    }
   ],
   "source": [
    "# read in raw files based on array in config (update index for different files)\n",
    "# in real application case we'd consider implementation of a eu_preprocessing_pipeline e.g. through class representation \n",
    "file = RAW_DATA_FILES[0]\n",
    "df = pd.read_csv(file)"
   ]
  },
  {
   "cell_type": "code",
   "execution_count": 5,
   "metadata": {},
   "outputs": [
    {
     "name": "stdout",
     "output_type": "stream",
     "text": [
      "<class 'pandas.core.frame.DataFrame'>\n",
      "RangeIndex: 10734898 entries, 0 to 10734897\n",
      "Data columns (total 40 columns):\n",
      " #   Column                Dtype  \n",
      "---  ------                -----  \n",
      " 0   ID                    int64  \n",
      " 1   Country               object \n",
      " 2   VFN                   object \n",
      " 3   Mp                    object \n",
      " 4   Mh                    object \n",
      " 5   Man                   object \n",
      " 6   MMS                   float64\n",
      " 7   Tan                   object \n",
      " 8   T                     object \n",
      " 9   Va                    object \n",
      " 10  Ve                    object \n",
      " 11  Mk                    object \n",
      " 12  Cn                    object \n",
      " 13  Ct                    object \n",
      " 14  Cr                    object \n",
      " 15  r                     int64  \n",
      " 16  m (kg)                float64\n",
      " 17  Mt                    float64\n",
      " 18  Enedc (g/km)          float64\n",
      " 19  Ewltp (g/km)          float64\n",
      " 20  W (mm)                float64\n",
      " 21  At1 (mm)              float64\n",
      " 22  At2 (mm)              float64\n",
      " 23  Ft                    object \n",
      " 24  Fm                    object \n",
      " 25  ec (cm3)              float64\n",
      " 26  ep (KW)               float64\n",
      " 27  z (Wh/km)             float64\n",
      " 28  IT                    object \n",
      " 29  Ernedc (g/km)         float64\n",
      " 30  Erwltp (g/km)         float64\n",
      " 31  De                    float64\n",
      " 32  Vf                    float64\n",
      " 33  Status                object \n",
      " 34  year                  int64  \n",
      " 35  Date of registration  object \n",
      " 36  Fuel consumption      float64\n",
      " 37  ech                   object \n",
      " 38  RLFI                  object \n",
      " 39  Electric range (km)   float64\n",
      "dtypes: float64(17), int64(3), object(20)\n",
      "memory usage: 3.2+ GB\n"
     ]
    }
   ],
   "source": [
    "df.info()"
   ]
  },
  {
   "cell_type": "code",
   "execution_count": 6,
   "metadata": {},
   "outputs": [],
   "source": [
    "# set index by eu table id\n",
    "if df.duplicated(subset=['ID']).sum() != 0:\n",
    "    raise Exception(\"Found duplicates in the ID column. Please check the data.\")\n",
    "df.set_index(\"ID\", inplace=True)"
   ]
  },
  {
   "cell_type": "code",
   "execution_count": 7,
   "metadata": {},
   "outputs": [],
   "source": [
    "# Drop columns based on config COLS_PRE_DROP (learnings from data exploration)\n",
    "df.drop(columns=COLS_PRE_DROP, inplace=True)"
   ]
  },
  {
   "cell_type": "code",
   "execution_count": 8,
   "metadata": {},
   "outputs": [
    {
     "data": {
      "text/plain": [
       "Index(['member_state', 'manufacturer_name_eu', 'vehicle_type',\n",
       "       'commercial_name', 'eu_category', 'mass_vehicle', 'weltp_test_mass',\n",
       "       'specific_co2_emissions', 'fuel_type', 'fuel_mode', 'engine_capacity',\n",
       "       'engine_power', 'electric_energy_consumption',\n",
       "       'innovative_technologies', 'erwltp', 'year', 'fuel_consumption',\n",
       "       'electric_range'],\n",
       "      dtype='object')"
      ]
     },
     "execution_count": 8,
     "metadata": {},
     "output_type": "execute_result"
    }
   ],
   "source": [
    "# Rename columns based on config COLS_MAPPER\n",
    "df.rename(columns=COLS_MAPPER, inplace=True)\n",
    "df.columns"
   ]
  },
  {
   "cell_type": "code",
   "execution_count": 9,
   "metadata": {},
   "outputs": [
    {
     "name": "stdout",
     "output_type": "stream",
     "text": [
      "member_state                   0.000000\n",
      "manufacturer_name_eu           0.000000\n",
      "vehicle_type                   0.000544\n",
      "commercial_name                0.000036\n",
      "eu_category                    0.001231\n",
      "mass_vehicle                   0.000017\n",
      "weltp_test_mass                0.015047\n",
      "specific_co2_emissions         0.001245\n",
      "fuel_type                      0.000000\n",
      "fuel_mode                      0.000000\n",
      "engine_capacity                0.155570\n",
      "engine_power                   0.004721\n",
      "electric_energy_consumption    0.773027\n",
      "innovative_technologies        0.349143\n",
      "erwltp                         0.353081\n",
      "year                           0.000000\n",
      "fuel_consumption               0.175966\n",
      "electric_range                 0.773778\n",
      "dtype: float64\n"
     ]
    }
   ],
   "source": [
    "# Give overview about missing percentages for each variable\n",
    "missing_percentage = df.isna().sum() / len(df)\n",
    "print(missing_percentage)"
   ]
  },
  {
   "cell_type": "code",
   "execution_count": 10,
   "metadata": {},
   "outputs": [
    {
     "name": "stdout",
     "output_type": "stream",
     "text": [
      "Dropping: Series([], dtype: float64)\n"
     ]
    }
   ],
   "source": [
    "# Delete based on threshold, but ignore cols which are part of COLS_MAPPER (indication of interesting vars)\n",
    "# many variables/cols already dropped through COLS_PRE_DROP process \n",
    "cols_to_be_dropped = list()\n",
    "cols_drop_ignore = list()\n",
    "for _, col in COLS_MAPPER.items():\n",
    "    cols_drop_ignore.append(col)\n",
    "\n",
    "for col, percentage in missing_percentage.items():\n",
    "    if percentage > DENSITY_THRESHOLD and col not in cols_drop_ignore:\n",
    "        cols_to_be_dropped.append(col)\n",
    "\n",
    "print(f\"Dropping: {missing_percentage[cols_to_be_dropped]}\")\n",
    "\n",
    "df.drop(columns=cols_to_be_dropped, inplace=True)"
   ]
  },
  {
   "cell_type": "code",
   "execution_count": 11,
   "metadata": {},
   "outputs": [],
   "source": [
    "# split variables into categorical and numerical\n",
    "cat_vars = df.select_dtypes(include=\"object\")\n",
    "num_vars = df.select_dtypes(include=[\"float64\", \"int64\"])\n",
    "\n",
    "# reordering columns: categorical vars first, numerical vars next, targets at the end\n",
    "\n",
    "potential_targets = ['electric_energy_consumption', 'fuel_consumption', 'specific_co2_emissions']\n",
    "col_order = list(cat_vars.columns)  # Start with categorical variables\n",
    "col_order.extend(num_vars.columns)  # Add numerical variables\n",
    "\n",
    "# Move target variables to the end\n",
    "for target in potential_targets:\n",
    "    if target in col_order:\n",
    "        col_order.remove(target)\n",
    "    col_order.append(target)\n",
    "\n",
    "# Apply the new column order to df1\n",
    "df = df.loc[:, col_order]"
   ]
  },
  {
   "cell_type": "code",
   "execution_count": 12,
   "metadata": {},
   "outputs": [
    {
     "data": {
      "text/html": [
       "<div>\n",
       "<style scoped>\n",
       "    .dataframe tbody tr th:only-of-type {\n",
       "        vertical-align: middle;\n",
       "    }\n",
       "\n",
       "    .dataframe tbody tr th {\n",
       "        vertical-align: top;\n",
       "    }\n",
       "\n",
       "    .dataframe thead th {\n",
       "        text-align: right;\n",
       "    }\n",
       "</style>\n",
       "<table border=\"1\" class=\"dataframe\">\n",
       "  <thead>\n",
       "    <tr style=\"text-align: right;\">\n",
       "      <th></th>\n",
       "      <th>member_state</th>\n",
       "      <th>manufacturer_name_eu</th>\n",
       "      <th>vehicle_type</th>\n",
       "      <th>commercial_name</th>\n",
       "      <th>eu_category</th>\n",
       "      <th>fuel_type</th>\n",
       "      <th>fuel_mode</th>\n",
       "      <th>innovative_technologies</th>\n",
       "      <th>mass_vehicle</th>\n",
       "      <th>weltp_test_mass</th>\n",
       "      <th>engine_capacity</th>\n",
       "      <th>engine_power</th>\n",
       "      <th>erwltp</th>\n",
       "      <th>year</th>\n",
       "      <th>electric_range</th>\n",
       "      <th>electric_energy_consumption</th>\n",
       "      <th>fuel_consumption</th>\n",
       "      <th>specific_co2_emissions</th>\n",
       "    </tr>\n",
       "    <tr>\n",
       "      <th>ID</th>\n",
       "      <th></th>\n",
       "      <th></th>\n",
       "      <th></th>\n",
       "      <th></th>\n",
       "      <th></th>\n",
       "      <th></th>\n",
       "      <th></th>\n",
       "      <th></th>\n",
       "      <th></th>\n",
       "      <th></th>\n",
       "      <th></th>\n",
       "      <th></th>\n",
       "      <th></th>\n",
       "      <th></th>\n",
       "      <th></th>\n",
       "      <th></th>\n",
       "      <th></th>\n",
       "      <th></th>\n",
       "    </tr>\n",
       "  </thead>\n",
       "  <tbody>\n",
       "    <tr>\n",
       "      <th>132193881</th>\n",
       "      <td>DE</td>\n",
       "      <td>VOLKSWAGEN</td>\n",
       "      <td>A1</td>\n",
       "      <td>T-ROC</td>\n",
       "      <td>M1</td>\n",
       "      <td>petrol</td>\n",
       "      <td>M</td>\n",
       "      <td>e13 29</td>\n",
       "      <td>1345.0</td>\n",
       "      <td>1477.0</td>\n",
       "      <td>1498.0</td>\n",
       "      <td>110.0</td>\n",
       "      <td>1.17</td>\n",
       "      <td>2023</td>\n",
       "      <td>NaN</td>\n",
       "      <td>NaN</td>\n",
       "      <td>6.3</td>\n",
       "      <td>143.0</td>\n",
       "    </tr>\n",
       "    <tr>\n",
       "      <th>132193882</th>\n",
       "      <td>DE</td>\n",
       "      <td>STELLANTIS EUROPE</td>\n",
       "      <td>356</td>\n",
       "      <td>FIAT TIPO</td>\n",
       "      <td>M1</td>\n",
       "      <td>petrol</td>\n",
       "      <td>H</td>\n",
       "      <td>e3 32</td>\n",
       "      <td>1425.0</td>\n",
       "      <td>1506.0</td>\n",
       "      <td>1469.0</td>\n",
       "      <td>96.0</td>\n",
       "      <td>1.35</td>\n",
       "      <td>2023</td>\n",
       "      <td>NaN</td>\n",
       "      <td>NaN</td>\n",
       "      <td>5.2</td>\n",
       "      <td>118.0</td>\n",
       "    </tr>\n",
       "    <tr>\n",
       "      <th>132193883</th>\n",
       "      <td>DE</td>\n",
       "      <td>VOLKSWAGEN</td>\n",
       "      <td>A1</td>\n",
       "      <td>T-ROC</td>\n",
       "      <td>M1</td>\n",
       "      <td>petrol</td>\n",
       "      <td>M</td>\n",
       "      <td>e13 29</td>\n",
       "      <td>1496.0</td>\n",
       "      <td>1595.0</td>\n",
       "      <td>999.0</td>\n",
       "      <td>81.0</td>\n",
       "      <td>1.17</td>\n",
       "      <td>2023</td>\n",
       "      <td>NaN</td>\n",
       "      <td>NaN</td>\n",
       "      <td>6.6</td>\n",
       "      <td>150.0</td>\n",
       "    </tr>\n",
       "    <tr>\n",
       "      <th>132193884</th>\n",
       "      <td>DE</td>\n",
       "      <td>BMW AG</td>\n",
       "      <td>FML2E</td>\n",
       "      <td>COOPER SE</td>\n",
       "      <td>M1</td>\n",
       "      <td>electric</td>\n",
       "      <td>E</td>\n",
       "      <td>NaN</td>\n",
       "      <td>1440.0</td>\n",
       "      <td>1557.0</td>\n",
       "      <td>NaN</td>\n",
       "      <td>135.0</td>\n",
       "      <td>NaN</td>\n",
       "      <td>2023</td>\n",
       "      <td>227.0</td>\n",
       "      <td>157.0</td>\n",
       "      <td>NaN</td>\n",
       "      <td>0.0</td>\n",
       "    </tr>\n",
       "    <tr>\n",
       "      <th>132193885</th>\n",
       "      <td>DE</td>\n",
       "      <td>VOLKSWAGEN</td>\n",
       "      <td>E2</td>\n",
       "      <td>ID4 GTX 220 KW</td>\n",
       "      <td>M1</td>\n",
       "      <td>electric</td>\n",
       "      <td>E</td>\n",
       "      <td>NaN</td>\n",
       "      <td>2239.0</td>\n",
       "      <td>2409.0</td>\n",
       "      <td>NaN</td>\n",
       "      <td>220.0</td>\n",
       "      <td>NaN</td>\n",
       "      <td>2023</td>\n",
       "      <td>491.0</td>\n",
       "      <td>179.0</td>\n",
       "      <td>NaN</td>\n",
       "      <td>0.0</td>\n",
       "    </tr>\n",
       "  </tbody>\n",
       "</table>\n",
       "</div>"
      ],
      "text/plain": [
       "          member_state manufacturer_name_eu vehicle_type commercial_name  \\\n",
       "ID                                                                         \n",
       "132193881           DE           VOLKSWAGEN           A1           T-ROC   \n",
       "132193882           DE    STELLANTIS EUROPE          356       FIAT TIPO   \n",
       "132193883           DE           VOLKSWAGEN           A1           T-ROC   \n",
       "132193884           DE               BMW AG        FML2E       COOPER SE   \n",
       "132193885           DE           VOLKSWAGEN           E2  ID4 GTX 220 KW   \n",
       "\n",
       "          eu_category fuel_type fuel_mode innovative_technologies  \\\n",
       "ID                                                                  \n",
       "132193881          M1    petrol         M                  e13 29   \n",
       "132193882          M1    petrol         H                   e3 32   \n",
       "132193883          M1    petrol         M                  e13 29   \n",
       "132193884          M1  electric         E                     NaN   \n",
       "132193885          M1  electric         E                     NaN   \n",
       "\n",
       "           mass_vehicle  weltp_test_mass  engine_capacity  engine_power  \\\n",
       "ID                                                                        \n",
       "132193881        1345.0           1477.0           1498.0         110.0   \n",
       "132193882        1425.0           1506.0           1469.0          96.0   \n",
       "132193883        1496.0           1595.0            999.0          81.0   \n",
       "132193884        1440.0           1557.0              NaN         135.0   \n",
       "132193885        2239.0           2409.0              NaN         220.0   \n",
       "\n",
       "           erwltp  year  electric_range  electric_energy_consumption  \\\n",
       "ID                                                                     \n",
       "132193881    1.17  2023             NaN                          NaN   \n",
       "132193882    1.35  2023             NaN                          NaN   \n",
       "132193883    1.17  2023             NaN                          NaN   \n",
       "132193884     NaN  2023           227.0                        157.0   \n",
       "132193885     NaN  2023           491.0                        179.0   \n",
       "\n",
       "           fuel_consumption  specific_co2_emissions  \n",
       "ID                                                   \n",
       "132193881               6.3                   143.0  \n",
       "132193882               5.2                   118.0  \n",
       "132193883               6.6                   150.0  \n",
       "132193884               NaN                     0.0  \n",
       "132193885               NaN                     0.0  "
      ]
     },
     "execution_count": 12,
     "metadata": {},
     "output_type": "execute_result"
    }
   ],
   "source": [
    "# Give overview about changed dataset\n",
    "df.head(5)"
   ]
  },
  {
   "cell_type": "code",
   "execution_count": null,
   "metadata": {},
   "outputs": [],
   "source": [
    "# export Dataframe in .csv format\n",
    "export_file_name = raw_csv_to_proc_csv_converter(file)\n",
    "df.to_csv(export_file_name, index=True)"
   ]
  },
  {
   "cell_type": "code",
   "execution_count": 16,
   "metadata": {},
   "outputs": [
    {
     "data": {
      "text/plain": [
       "{'member_state': dtype('O'),\n",
       " 'manufacturer_name_eu': dtype('O'),\n",
       " 'vehicle_type': dtype('O'),\n",
       " 'commercial_name': dtype('O'),\n",
       " 'eu_category': dtype('O'),\n",
       " 'fuel_type': dtype('O'),\n",
       " 'fuel_mode': dtype('O'),\n",
       " 'innovative_technologies': dtype('O'),\n",
       " 'mass_vehicle': dtype('float64'),\n",
       " 'weltp_test_mass': dtype('float64'),\n",
       " 'engine_capacity': dtype('float64'),\n",
       " 'engine_power': dtype('float64'),\n",
       " 'erwltp': dtype('float64'),\n",
       " 'year': dtype('int64'),\n",
       " 'electric_range': dtype('float64'),\n",
       " 'electric_energy_consumption': dtype('float64'),\n",
       " 'fuel_consumption': dtype('float64'),\n",
       " 'specific_co2_emissions': dtype('float64')}"
      ]
     },
     "execution_count": 16,
     "metadata": {},
     "output_type": "execute_result"
    }
   ],
   "source": [
    "# Use this output to update config.py DATABASE_FILE_DTYPES\n",
    "# replace dtype('O') with 'object'\n",
    "# replace dtype('float64') with 'float64'\n",
    "# replace dtype('int64') with 'int64'\n",
    "df.dtypes.to_dict()"
   ]
  }
 ],
 "metadata": {
  "kernelspec": {
   "display_name": "venv",
   "language": "python",
   "name": "python3"
  },
  "language_info": {
   "codemirror_mode": {
    "name": "ipython",
    "version": 3
   },
   "file_extension": ".py",
   "mimetype": "text/x-python",
   "name": "python",
   "nbconvert_exporter": "python",
   "pygments_lexer": "ipython3",
   "version": "3.9.11"
  }
 },
 "nbformat": 4,
 "nbformat_minor": 2
}
