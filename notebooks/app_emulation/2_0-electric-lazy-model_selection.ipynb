{
 "cells": [
  {
   "cell_type": "markdown",
   "metadata": {},
   "source": [
    "Goal of this notebook is to test wide range of potential models.\n",
    "\n",
    "1. Lazypredict\n",
    "-> choose promising models\n",
    "2. GridSearch on selection of promising models\n",
    "3. Summary of hot candidates including metric, high influencing variables, pca of cluster, etc.\n",
    "\n",
    "\n",
    "Open todo's-> (maybe other notebook)\n",
    "- hyperparameter optimization\n",
    "- dimension reduction"
   ]
  },
  {
   "cell_type": "markdown",
   "metadata": {},
   "source": [
    "# Lazy Predict\n",
    "\n",
    "We'll use LazyRegressor as we're dealing with a supervised learning regression problem and want to check potential models for our usecase"
   ]
  },
  {
   "cell_type": "markdown",
   "metadata": {},
   "source": [
    "Select models from LazyRegressor as processing failed for some in previous sessions."
   ]
  },
  {
   "cell_type": "code",
   "execution_count": 2,
   "metadata": {},
   "outputs": [],
   "source": [
    "from copy import deepcopy\n",
    "from datetime import datetime\n",
    "\n",
    "import joblib\n",
    "import pandas as pd\n",
    "from config import OUTPUT_DIR, TRAIN_TEST_SPLIT_ELECTRIC_FILE\n",
    "from lazypredict.Supervised import REGRESSORS, LazyRegressor"
   ]
  },
  {
   "cell_type": "code",
   "execution_count": 3,
   "metadata": {},
   "outputs": [],
   "source": [
    "current_date = datetime.now().strftime('%Y_%m_%d')"
   ]
  },
  {
   "cell_type": "code",
   "execution_count": 4,
   "metadata": {},
   "outputs": [],
   "source": [
    "current_date = datetime.now().strftime('%Y_%m_%d')\n",
    "X_train, X_test, y_train, y_test = joblib.load(TRAIN_TEST_SPLIT_ELECTRIC_FILE)"
   ]
  },
  {
   "cell_type": "code",
   "execution_count": 5,
   "metadata": {},
   "outputs": [],
   "source": [
    "# explicit selection through mannual list (based on lazypredict.Supervised.REGRESSION)\n",
    "\n",
    "# import sklearn\n",
    "# import xgboost\n",
    "# import lightgbm\n",
    "\n",
    "# GaussianProcessRegressor model failed to execute\n",
    "# KernelRidge model failed to execute\n",
    "# LazyRegressor stuck at 62% (26/42) -> 25 MLPRegressor || 26 NuSVR?\n",
    "\n",
    "# model_selection = [\n",
    "#     ('AdaBoostRegressor', sklearn.ensemble._weight_boosting.AdaBoostRegressor),\n",
    "#     ('BaggingRegressor', sklearn.ensemble._bagging.BaggingRegressor),\n",
    "#     ('BayesianRidge', sklearn.linear_model._bayes.BayesianRidge),\n",
    "#     ('DecisionTreeRegressor', sklearn.tree._classes.DecisionTreeRegressor),\n",
    "#     ('DummyRegressor', sklearn.dummy.DummyRegressor),\n",
    "#     ('ElasticNet', sklearn.linear_model._coordinate_descent.ElasticNet),\n",
    "#     ('ElasticNetCV', sklearn.linear_model._coordinate_descent.ElasticNetCV),\n",
    "#     ('ExtraTreeRegressor', sklearn.tree._classes.ExtraTreeRegressor),\n",
    "#     ('ExtraTreesRegressor', sklearn.ensemble._forest.ExtraTreesRegressor),\n",
    "#     ('GammaRegressor', sklearn.linear_model._glm.glm.GammaRegressor),\n",
    "#     ('GaussianProcessRegressor', sklearn.gaussian_process._gpr.GaussianProcessRegressor),\n",
    "#     ('GradientBoostingRegressor', sklearn.ensemble._gb.GradientBoostingRegressor),\n",
    "#     ('HistGradientBoostingRegressor', sklearn.ensemble._hist_gradient_boosting.gradient_boosting.HistGradientBoostingRegressor),\n",
    "#     ('HuberRegressor', sklearn.linear_model._huber.HuberRegressor),\n",
    "#     ('KNeighborsRegressor', sklearn.neighbors._regression.KNeighborsRegressor),\n",
    "#     ('KernelRidge', sklearn.kernel_ridge.KernelRidge),\n",
    "#     ('Lars', sklearn.linear_model._least_angle.Lars),\n",
    "#     ('LarsCV', sklearn.linear_model._least_angle.LarsCV),\n",
    "#     ('Lasso', sklearn.linear_model._coordinate_descent.Lasso),\n",
    "#     ('LassoCV', sklearn.linear_model._coordinate_descent.LassoCV),\n",
    "#     ('LassoLars', sklearn.linear_model._least_angle.LassoLars),\n",
    "#     ('LassoLarsCV', sklearn.linear_model._least_angle.LassoLarsCV),\n",
    "#     ('LassoLarsIC', sklearn.linear_model._least_angle.LassoLarsIC),\n",
    "#     ('LinearRegression', sklearn.linear_model._base.LinearRegression),\n",
    "#     ('LinearSVR', sklearn.svm._classes.LinearSVR),\n",
    "#     ('MLPRegressor', sklearn.neural_network._multilayer_perceptron.MLPRegressor),\n",
    "#     ('NuSVR', sklearn.svm._classes.NuSVR),\n",
    "#     ('OrthogonalMatchingPursuit', sklearn.linear_model._omp.OrthogonalMatchingPursuit),\n",
    "#     ('OrthogonalMatchingPursuitCV', sklearn.linear_model._omp.OrthogonalMatchingPursuitCV),\n",
    "#     ('PassiveAggressiveRegressor', sklearn.linear_model._passive_aggressive.PassiveAggressiveRegressor),\n",
    "#     ('PoissonRegressor', sklearn.linear_model._glm.glm.PoissonRegressor),\n",
    "#     ('QuantileRegressor', sklearn.linear_model._quantile.QuantileRegressor),\n",
    "#     ('RANSACRegressor', sklearn.linear_model._ransac.RANSACRegressor),\n",
    "#     ('RandomForestRegressor', sklearn.ensemble._forest.RandomForestRegressor),\n",
    "#     ('Ridge', sklearn.linear_model._ridge.Ridge),\n",
    "#     ('RidgeCV', sklearn.linear_model._ridge.RidgeCV),\n",
    "#     ('SGDRegressor', sklearn.linear_model._stochastic_gradient.SGDRegressor),\n",
    "#     ('SVR', sklearn.svm._classes.SVR),\n",
    "#     ('TransformedTargetRegressor', sklearn.compose._target.TransformedTargetRegressor),\n",
    "#     ('TweedieRegressor', sklearn.linear_model._glm.glm.TweedieRegressor),\n",
    "#     ('XGBRegressor', xgboost.sklearn.XGBRegressor),\n",
    "#     ('LGBMRegressor', lightgbm.sklearn.LGBMRegressor)\n",
    "# ]\n",
    "\n",
    "# selection through ignore\n",
    "model_selection = REGRESSORS\n",
    "\"\"\"\n",
    "----\n",
    "Removed due to failed executions:\n",
    "----\n",
    "GaussianProcessRegressor model failed to execute\n",
    "KernelRidge model failed to execute\n",
    "LazyRegressor stuck at 62% (26/42) -> 25 MLPRegressor || 26 NuSVR?\n",
    "\n",
    "----\n",
    "Removed due to high compute time:\n",
    "----\n",
    "LassoCV\n",
    "QuantileRegressor\n",
    "RANSACRegressor\n",
    "\n",
    "----\n",
    "Compute error messages\n",
    "----\n",
    "LarsCV model failed to execute\n",
    "Unable to allocate 4.07 GiB for an array with shape (1824768, 299) and data type float64\n",
    "\n",
    "LassoLarsCV model failed to execute\n",
    "Unable to allocate 4.07 GiB for an array with shape (1824768, 299) and data type float64\n",
    "    \n",
    "LassoLarsIC model failed to execute\n",
    "Unable to allocate 7.04 GiB for an array with shape (2280960, 414) and data type float64\n",
    "    \n",
    "RidgeCV model failed to execute\n",
    "Unable to allocate 5.10 GiB for an array with shape (2280960, 300) and data type float64\n",
    "\n",
    "SVR -> stuck\n",
    "\"\"\"\n",
    "models_to_ignore = list([\n",
    "    \"GaussianProcessRegressor\",\n",
    "     \"KernelRidge\",\n",
    "     \"LassoCV\",\n",
    "     \"NuSVR\",\n",
    "     \"MLPRegressor\",\n",
    "     \"QuantileRegressor\",\n",
    "     \"RANSACRegressor\",\n",
    "     \"LarsCV\",\n",
    "     \"LassoLarsCV\",\n",
    "     \"LassoLarsIC\",\n",
    "     \"RidgeCV\",\n",
    "     \"SVR\"\n",
    "])"
   ]
  },
  {
   "cell_type": "markdown",
   "metadata": {},
   "source": [
    "Use chunk approach"
   ]
  },
  {
   "cell_type": "code",
   "execution_count": 6,
   "metadata": {},
   "outputs": [],
   "source": [
    "class LazyPredictChunk:\n",
    "    def __init__(self, models=None, predictions=None, regressors=\"all\"):\n",
    "        self.models = models\n",
    "        self.predictions = predictions\n",
    "        self.regressors = regressors"
   ]
  },
  {
   "cell_type": "code",
   "execution_count": 7,
   "metadata": {},
   "outputs": [],
   "source": [
    "chunk_size = 1\n",
    "lazy_predict_chunks = []\n",
    "\n",
    "# split regressors into chunks\n",
    "i = 0\n",
    "chunk_buffer = []\n",
    "for model, model_class in model_selection:\n",
    "    # ignore models that are in ignore list\n",
    "    if model in models_to_ignore:\n",
    "        i+=1\n",
    "        continue\n",
    "\n",
    "    # append if chunk_buffer below size limit\n",
    "    if len(chunk_buffer) < chunk_size:\n",
    "        chunk_buffer.append((model, model_class))\n",
    "\n",
    "    # chunk size reached or last iteration step reached\n",
    "    if len(chunk_buffer) == chunk_size or (i+1) == len(REGRESSORS):\n",
    "        lazy_predict_chunks.append(LazyPredictChunk(regressors=deepcopy(chunk_buffer)))\n",
    "        # empty chunk_buffer\n",
    "        chunk_buffer = []\n",
    "\n",
    "    i+=1"
   ]
  },
  {
   "cell_type": "code",
   "execution_count": 8,
   "metadata": {},
   "outputs": [
    {
     "name": "stdout",
     "output_type": "stream",
     "text": [
      "Executing LazyRegressor through:  30 chunks\n",
      "Processings the following regressors in this chunk:  [('AdaBoostRegressor', <class 'sklearn.ensemble._weight_boosting.AdaBoostRegressor'>)]\n",
      "'tuple' object has no attribute '__name__'\n",
      "Invalid Regressor(s)\n"
     ]
    },
    {
     "name": "stderr",
     "output_type": "stream",
     "text": [
      "100%|██████████| 1/1 [04:01<00:00, 241.87s/it]\n"
     ]
    },
    {
     "name": "stdout",
     "output_type": "stream",
     "text": [
      "Processings the following regressors in this chunk:  [('BaggingRegressor', <class 'sklearn.ensemble._bagging.BaggingRegressor'>)]\n",
      "'tuple' object has no attribute '__name__'\n",
      "Invalid Regressor(s)\n"
     ]
    },
    {
     "name": "stderr",
     "output_type": "stream",
     "text": [
      "100%|██████████| 1/1 [00:58<00:00, 58.77s/it]\n"
     ]
    },
    {
     "name": "stdout",
     "output_type": "stream",
     "text": [
      "Processings the following regressors in this chunk:  [('BayesianRidge', <class 'sklearn.linear_model._bayes.BayesianRidge'>)]\n",
      "'tuple' object has no attribute '__name__'\n",
      "Invalid Regressor(s)\n"
     ]
    },
    {
     "name": "stderr",
     "output_type": "stream",
     "text": [
      "100%|██████████| 1/1 [00:20<00:00, 20.62s/it]\n"
     ]
    },
    {
     "name": "stdout",
     "output_type": "stream",
     "text": [
      "Processings the following regressors in this chunk:  [('DecisionTreeRegressor', <class 'sklearn.tree._classes.DecisionTreeRegressor'>)]\n",
      "'tuple' object has no attribute '__name__'\n",
      "Invalid Regressor(s)\n"
     ]
    },
    {
     "name": "stderr",
     "output_type": "stream",
     "text": [
      "100%|██████████| 1/1 [00:15<00:00, 15.06s/it]\n"
     ]
    },
    {
     "name": "stdout",
     "output_type": "stream",
     "text": [
      "Processings the following regressors in this chunk:  [('DummyRegressor', <class 'sklearn.dummy.DummyRegressor'>)]\n",
      "'tuple' object has no attribute '__name__'\n",
      "Invalid Regressor(s)\n"
     ]
    },
    {
     "name": "stderr",
     "output_type": "stream",
     "text": [
      "100%|██████████| 1/1 [00:08<00:00,  8.87s/it]\n"
     ]
    },
    {
     "name": "stdout",
     "output_type": "stream",
     "text": [
      "Processings the following regressors in this chunk:  [('ElasticNet', <class 'sklearn.linear_model._coordinate_descent.ElasticNet'>)]\n",
      "'tuple' object has no attribute '__name__'\n",
      "Invalid Regressor(s)\n"
     ]
    },
    {
     "name": "stderr",
     "output_type": "stream",
     "text": [
      "100%|██████████| 1/1 [00:12<00:00, 12.84s/it]\n"
     ]
    },
    {
     "name": "stdout",
     "output_type": "stream",
     "text": [
      "Processings the following regressors in this chunk:  [('ElasticNetCV', <class 'sklearn.linear_model._coordinate_descent.ElasticNetCV'>)]\n",
      "'tuple' object has no attribute '__name__'\n",
      "Invalid Regressor(s)\n"
     ]
    },
    {
     "name": "stderr",
     "output_type": "stream",
     "text": [
      "100%|██████████| 1/1 [00:56<00:00, 56.70s/it]\n"
     ]
    },
    {
     "name": "stdout",
     "output_type": "stream",
     "text": [
      "Processings the following regressors in this chunk:  [('ExtraTreeRegressor', <class 'sklearn.tree._classes.ExtraTreeRegressor'>)]\n",
      "'tuple' object has no attribute '__name__'\n",
      "Invalid Regressor(s)\n"
     ]
    },
    {
     "name": "stderr",
     "output_type": "stream",
     "text": [
      "100%|██████████| 1/1 [00:17<00:00, 17.29s/it]\n"
     ]
    },
    {
     "name": "stdout",
     "output_type": "stream",
     "text": [
      "Processings the following regressors in this chunk:  [('ExtraTreesRegressor', <class 'sklearn.ensemble._forest.ExtraTreesRegressor'>)]\n",
      "'tuple' object has no attribute '__name__'\n",
      "Invalid Regressor(s)\n"
     ]
    },
    {
     "name": "stderr",
     "output_type": "stream",
     "text": [
      "100%|██████████| 1/1 [11:15<00:00, 675.06s/it]\n"
     ]
    },
    {
     "name": "stdout",
     "output_type": "stream",
     "text": [
      "Processings the following regressors in this chunk:  [('GammaRegressor', <class 'sklearn.linear_model._glm.glm.GammaRegressor'>)]\n",
      "'tuple' object has no attribute '__name__'\n",
      "Invalid Regressor(s)\n"
     ]
    },
    {
     "name": "stderr",
     "output_type": "stream",
     "text": [
      "100%|██████████| 1/1 [00:08<00:00,  8.90s/it]\n"
     ]
    },
    {
     "name": "stdout",
     "output_type": "stream",
     "text": [
      "Processings the following regressors in this chunk:  [('GradientBoostingRegressor', <class 'sklearn.ensemble._gb.GradientBoostingRegressor'>)]\n",
      "'tuple' object has no attribute '__name__'\n",
      "Invalid Regressor(s)\n"
     ]
    },
    {
     "name": "stderr",
     "output_type": "stream",
     "text": [
      "100%|██████████| 1/1 [02:32<00:00, 152.40s/it]\n"
     ]
    },
    {
     "name": "stdout",
     "output_type": "stream",
     "text": [
      "Processings the following regressors in this chunk:  [('HistGradientBoostingRegressor', <class 'sklearn.ensemble._hist_gradient_boosting.gradient_boosting.HistGradientBoostingRegressor'>)]\n",
      "'tuple' object has no attribute '__name__'\n",
      "Invalid Regressor(s)\n"
     ]
    },
    {
     "name": "stderr",
     "output_type": "stream",
     "text": [
      "100%|██████████| 1/1 [00:24<00:00, 24.99s/it]\n"
     ]
    },
    {
     "name": "stdout",
     "output_type": "stream",
     "text": [
      "Processings the following regressors in this chunk:  [('HuberRegressor', <class 'sklearn.linear_model._huber.HuberRegressor'>)]\n",
      "'tuple' object has no attribute '__name__'\n",
      "Invalid Regressor(s)\n"
     ]
    },
    {
     "name": "stderr",
     "output_type": "stream",
     "text": [
      "100%|██████████| 1/1 [01:45<00:00, 105.49s/it]\n"
     ]
    },
    {
     "name": "stdout",
     "output_type": "stream",
     "text": [
      "Processings the following regressors in this chunk:  [('KNeighborsRegressor', <class 'sklearn.neighbors._regression.KNeighborsRegressor'>)]\n",
      "'tuple' object has no attribute '__name__'\n",
      "Invalid Regressor(s)\n"
     ]
    },
    {
     "name": "stderr",
     "output_type": "stream",
     "text": [
      "100%|██████████| 1/1 [20:44<00:00, 1244.26s/it]\n"
     ]
    },
    {
     "name": "stdout",
     "output_type": "stream",
     "text": [
      "Processings the following regressors in this chunk:  [('Lars', <class 'sklearn.linear_model._least_angle.Lars'>)]\n",
      "'tuple' object has no attribute '__name__'\n",
      "Invalid Regressor(s)\n"
     ]
    },
    {
     "name": "stderr",
     "output_type": "stream",
     "text": [
      "100%|██████████| 1/1 [00:09<00:00,  9.35s/it]\n"
     ]
    },
    {
     "name": "stdout",
     "output_type": "stream",
     "text": [
      "Processings the following regressors in this chunk:  [('Lasso', <class 'sklearn.linear_model._coordinate_descent.Lasso'>)]\n",
      "'tuple' object has no attribute '__name__'\n",
      "Invalid Regressor(s)\n"
     ]
    },
    {
     "name": "stderr",
     "output_type": "stream",
     "text": [
      "100%|██████████| 1/1 [00:19<00:00, 19.87s/it]\n"
     ]
    },
    {
     "name": "stdout",
     "output_type": "stream",
     "text": [
      "Processings the following regressors in this chunk:  [('LassoLars', <class 'sklearn.linear_model._least_angle.LassoLars'>)]\n",
      "'tuple' object has no attribute '__name__'\n",
      "Invalid Regressor(s)\n"
     ]
    },
    {
     "name": "stderr",
     "output_type": "stream",
     "text": [
      "100%|██████████| 1/1 [00:09<00:00,  9.09s/it]\n"
     ]
    },
    {
     "name": "stdout",
     "output_type": "stream",
     "text": [
      "Processings the following regressors in this chunk:  [('LinearRegression', <class 'sklearn.linear_model._base.LinearRegression'>)]\n",
      "'tuple' object has no attribute '__name__'\n",
      "Invalid Regressor(s)\n"
     ]
    },
    {
     "name": "stderr",
     "output_type": "stream",
     "text": [
      "100%|██████████| 1/1 [00:13<00:00, 13.73s/it]\n"
     ]
    },
    {
     "name": "stdout",
     "output_type": "stream",
     "text": [
      "Processings the following regressors in this chunk:  [('LinearSVR', <class 'sklearn.svm._classes.LinearSVR'>)]\n",
      "'tuple' object has no attribute '__name__'\n",
      "Invalid Regressor(s)\n"
     ]
    },
    {
     "name": "stderr",
     "output_type": "stream",
     "text": [
      "100%|██████████| 1/1 [04:44<00:00, 284.12s/it]\n"
     ]
    },
    {
     "name": "stdout",
     "output_type": "stream",
     "text": [
      "Processings the following regressors in this chunk:  [('OrthogonalMatchingPursuit', <class 'sklearn.linear_model._omp.OrthogonalMatchingPursuit'>)]\n",
      "'tuple' object has no attribute '__name__'\n",
      "Invalid Regressor(s)\n"
     ]
    },
    {
     "name": "stderr",
     "output_type": "stream",
     "text": [
      "100%|██████████| 1/1 [00:09<00:00,  9.02s/it]\n"
     ]
    },
    {
     "name": "stdout",
     "output_type": "stream",
     "text": [
      "Processings the following regressors in this chunk:  [('OrthogonalMatchingPursuitCV', <class 'sklearn.linear_model._omp.OrthogonalMatchingPursuitCV'>)]\n",
      "'tuple' object has no attribute '__name__'\n",
      "Invalid Regressor(s)\n"
     ]
    },
    {
     "name": "stderr",
     "output_type": "stream",
     "text": [
      "100%|██████████| 1/1 [00:20<00:00, 20.48s/it]\n"
     ]
    },
    {
     "name": "stdout",
     "output_type": "stream",
     "text": [
      "Processings the following regressors in this chunk:  [('PassiveAggressiveRegressor', <class 'sklearn.linear_model._passive_aggressive.PassiveAggressiveRegressor'>)]\n",
      "'tuple' object has no attribute '__name__'\n",
      "Invalid Regressor(s)\n"
     ]
    },
    {
     "name": "stderr",
     "output_type": "stream",
     "text": [
      "100%|██████████| 1/1 [00:11<00:00, 11.43s/it]\n"
     ]
    },
    {
     "name": "stdout",
     "output_type": "stream",
     "text": [
      "Processings the following regressors in this chunk:  [('PoissonRegressor', <class 'sklearn.linear_model._glm.glm.PoissonRegressor'>)]\n",
      "'tuple' object has no attribute '__name__'\n",
      "Invalid Regressor(s)\n"
     ]
    },
    {
     "name": "stderr",
     "output_type": "stream",
     "text": [
      "100%|██████████| 1/1 [00:13<00:00, 13.98s/it]\n"
     ]
    },
    {
     "name": "stdout",
     "output_type": "stream",
     "text": [
      "Processings the following regressors in this chunk:  [('RandomForestRegressor', <class 'sklearn.ensemble._forest.RandomForestRegressor'>)]\n",
      "'tuple' object has no attribute '__name__'\n",
      "Invalid Regressor(s)\n"
     ]
    },
    {
     "name": "stderr",
     "output_type": "stream",
     "text": [
      "100%|██████████| 1/1 [05:23<00:00, 323.68s/it]\n"
     ]
    },
    {
     "name": "stdout",
     "output_type": "stream",
     "text": [
      "Processings the following regressors in this chunk:  [('Ridge', <class 'sklearn.linear_model._ridge.Ridge'>)]\n",
      "'tuple' object has no attribute '__name__'\n",
      "Invalid Regressor(s)\n"
     ]
    },
    {
     "name": "stderr",
     "output_type": "stream",
     "text": [
      "100%|██████████| 1/1 [00:09<00:00,  9.66s/it]\n"
     ]
    },
    {
     "name": "stdout",
     "output_type": "stream",
     "text": [
      "Processings the following regressors in this chunk:  [('SGDRegressor', <class 'sklearn.linear_model._stochastic_gradient.SGDRegressor'>)]\n",
      "'tuple' object has no attribute '__name__'\n",
      "Invalid Regressor(s)\n"
     ]
    },
    {
     "name": "stderr",
     "output_type": "stream",
     "text": [
      "100%|██████████| 1/1 [00:34<00:00, 34.28s/it]\n"
     ]
    },
    {
     "name": "stdout",
     "output_type": "stream",
     "text": [
      "Processings the following regressors in this chunk:  [('TransformedTargetRegressor', <class 'sklearn.compose._target.TransformedTargetRegressor'>)]\n",
      "'tuple' object has no attribute '__name__'\n",
      "Invalid Regressor(s)\n"
     ]
    },
    {
     "name": "stderr",
     "output_type": "stream",
     "text": [
      "100%|██████████| 1/1 [00:13<00:00, 13.74s/it]\n"
     ]
    },
    {
     "name": "stdout",
     "output_type": "stream",
     "text": [
      "Processings the following regressors in this chunk:  [('TweedieRegressor', <class 'sklearn.linear_model._glm.glm.TweedieRegressor'>)]\n",
      "'tuple' object has no attribute '__name__'\n",
      "Invalid Regressor(s)\n"
     ]
    },
    {
     "name": "stderr",
     "output_type": "stream",
     "text": [
      "100%|██████████| 1/1 [00:09<00:00,  9.06s/it]\n"
     ]
    },
    {
     "name": "stdout",
     "output_type": "stream",
     "text": [
      "Processings the following regressors in this chunk:  [('XGBRegressor', <class 'xgboost.sklearn.XGBRegressor'>)]\n",
      "'tuple' object has no attribute '__name__'\n",
      "Invalid Regressor(s)\n"
     ]
    },
    {
     "name": "stderr",
     "output_type": "stream",
     "text": [
      "100%|██████████| 1/1 [00:13<00:00, 13.90s/it]\n"
     ]
    },
    {
     "name": "stdout",
     "output_type": "stream",
     "text": [
      "Processings the following regressors in this chunk:  [('LGBMRegressor', <class 'lightgbm.sklearn.LGBMRegressor'>)]\n",
      "'tuple' object has no attribute '__name__'\n",
      "Invalid Regressor(s)\n"
     ]
    },
    {
     "name": "stderr",
     "output_type": "stream",
     "text": [
      "  0%|          | 0/1 [00:00<?, ?it/s]"
     ]
    },
    {
     "name": "stdout",
     "output_type": "stream",
     "text": [
      "[LightGBM] [Info] Auto-choosing row-wise multi-threading, the overhead of testing was 0.113993 seconds.\n",
      "You can set `force_row_wise=true` to remove the overhead.\n",
      "And if memory is not enough, you can set `force_col_wise=true`.\n",
      "[LightGBM] [Info] Total Bins 1827\n",
      "[LightGBM] [Info] Number of data points in the train set: 304128, number of used features: 297\n",
      "[LightGBM] [Info] Start training from score 168.054997\n"
     ]
    },
    {
     "name": "stderr",
     "output_type": "stream",
     "text": [
      "100%|██████████| 1/1 [00:11<00:00, 11.90s/it]\n"
     ]
    }
   ],
   "source": [
    "print(\"Executing LazyRegressor through: \", len(lazy_predict_chunks), \"chunks\")\n",
    "\n",
    "# save compute if executed without predictions\n",
    "predictions_flag = False\n",
    "\n",
    "for chunk in lazy_predict_chunks:\n",
    "    print(\"Processings the following regressors in this chunk: \", chunk.regressors)\n",
    "    reg = LazyRegressor(verbose=0, ignore_warnings=True, custom_metric=None, regressors=chunk.regressors, predictions=predictions_flag)\n",
    "    models,predictions = reg.fit(X_train, X_test, y_train, y_test)\n",
    "    # models,predictions = reg.fit(X_train[:500], X_test[:500], y_train[:500], y_test[:500])\n",
    "\n",
    "    # save trained models with joblib\n",
    "    for model_name, model in reg.models.items():\n",
    "        joblib.dump(model, f\"{OUTPUT_DIR}models/{current_date}-lazy-{model_name}.pkl\")\n",
    "\n",
    "    # store results into LazyPredictChunk variables\n",
    "    chunk.models = deepcopy(models) # deepcopy to not have weird references\n",
    "    if predictions_flag:\n",
    "        chunk.predictions = deepcopy(predictions)"
   ]
  },
  {
   "cell_type": "code",
   "execution_count": 9,
   "metadata": {},
   "outputs": [],
   "source": [
    "# build combined results\n",
    "all_models = pd.DataFrame()\n",
    "all_predictions = pd.DataFrame()\n",
    "\n",
    "for chunk in lazy_predict_chunks:\n",
    "    all_models = pd.concat([all_models, chunk.models])\n",
    "    if predictions_flag:\n",
    "        all_predictions = pd.concat([all_predictions, chunk.predictions])"
   ]
  },
  {
   "cell_type": "code",
   "execution_count": 10,
   "metadata": {},
   "outputs": [
    {
     "data": {
      "text/html": [
       "<div>\n",
       "<style scoped>\n",
       "    .dataframe tbody tr th:only-of-type {\n",
       "        vertical-align: middle;\n",
       "    }\n",
       "\n",
       "    .dataframe tbody tr th {\n",
       "        vertical-align: top;\n",
       "    }\n",
       "\n",
       "    .dataframe thead th {\n",
       "        text-align: right;\n",
       "    }\n",
       "</style>\n",
       "<table border=\"1\" class=\"dataframe\">\n",
       "  <thead>\n",
       "    <tr style=\"text-align: right;\">\n",
       "      <th></th>\n",
       "      <th>Adjusted R-Squared</th>\n",
       "      <th>R-Squared</th>\n",
       "      <th>RMSE</th>\n",
       "      <th>Time Taken</th>\n",
       "    </tr>\n",
       "    <tr>\n",
       "      <th>Model</th>\n",
       "      <th></th>\n",
       "      <th></th>\n",
       "      <th></th>\n",
       "      <th></th>\n",
       "    </tr>\n",
       "  </thead>\n",
       "  <tbody>\n",
       "    <tr>\n",
       "      <th>AdaBoostRegressor</th>\n",
       "      <td>0.31</td>\n",
       "      <td>0.31</td>\n",
       "      <td>20.27</td>\n",
       "      <td>241.86</td>\n",
       "    </tr>\n",
       "    <tr>\n",
       "      <th>BaggingRegressor</th>\n",
       "      <td>0.98</td>\n",
       "      <td>0.98</td>\n",
       "      <td>3.30</td>\n",
       "      <td>58.77</td>\n",
       "    </tr>\n",
       "    <tr>\n",
       "      <th>BayesianRidge</th>\n",
       "      <td>0.87</td>\n",
       "      <td>0.87</td>\n",
       "      <td>8.93</td>\n",
       "      <td>20.62</td>\n",
       "    </tr>\n",
       "    <tr>\n",
       "      <th>DecisionTreeRegressor</th>\n",
       "      <td>0.98</td>\n",
       "      <td>0.98</td>\n",
       "      <td>3.67</td>\n",
       "      <td>15.06</td>\n",
       "    </tr>\n",
       "    <tr>\n",
       "      <th>DummyRegressor</th>\n",
       "      <td>-0.00</td>\n",
       "      <td>-0.00</td>\n",
       "      <td>24.43</td>\n",
       "      <td>8.86</td>\n",
       "    </tr>\n",
       "    <tr>\n",
       "      <th>ElasticNet</th>\n",
       "      <td>0.75</td>\n",
       "      <td>0.75</td>\n",
       "      <td>12.17</td>\n",
       "      <td>12.83</td>\n",
       "    </tr>\n",
       "    <tr>\n",
       "      <th>ElasticNetCV</th>\n",
       "      <td>0.86</td>\n",
       "      <td>0.86</td>\n",
       "      <td>9.08</td>\n",
       "      <td>56.70</td>\n",
       "    </tr>\n",
       "    <tr>\n",
       "      <th>ExtraTreeRegressor</th>\n",
       "      <td>0.98</td>\n",
       "      <td>0.98</td>\n",
       "      <td>3.33</td>\n",
       "      <td>17.29</td>\n",
       "    </tr>\n",
       "    <tr>\n",
       "      <th>ExtraTreesRegressor</th>\n",
       "      <td>0.98</td>\n",
       "      <td>0.98</td>\n",
       "      <td>3.02</td>\n",
       "      <td>675.06</td>\n",
       "    </tr>\n",
       "    <tr>\n",
       "      <th>GammaRegressor</th>\n",
       "      <td>0.76</td>\n",
       "      <td>0.76</td>\n",
       "      <td>12.04</td>\n",
       "      <td>8.90</td>\n",
       "    </tr>\n",
       "    <tr>\n",
       "      <th>GradientBoostingRegressor</th>\n",
       "      <td>0.89</td>\n",
       "      <td>0.89</td>\n",
       "      <td>7.95</td>\n",
       "      <td>152.40</td>\n",
       "    </tr>\n",
       "    <tr>\n",
       "      <th>HistGradientBoostingRegressor</th>\n",
       "      <td>0.96</td>\n",
       "      <td>0.96</td>\n",
       "      <td>5.08</td>\n",
       "      <td>24.99</td>\n",
       "    </tr>\n",
       "    <tr>\n",
       "      <th>HuberRegressor</th>\n",
       "      <td>0.85</td>\n",
       "      <td>0.85</td>\n",
       "      <td>9.56</td>\n",
       "      <td>105.49</td>\n",
       "    </tr>\n",
       "    <tr>\n",
       "      <th>KNeighborsRegressor</th>\n",
       "      <td>0.98</td>\n",
       "      <td>0.98</td>\n",
       "      <td>3.84</td>\n",
       "      <td>1244.26</td>\n",
       "    </tr>\n",
       "    <tr>\n",
       "      <th>Lars</th>\n",
       "      <td>-499559733818452942592664558997142356623360.00</td>\n",
       "      <td>-499363279219847496591089954502912872808448.00</td>\n",
       "      <td>17263555437003498586112.00</td>\n",
       "      <td>9.35</td>\n",
       "    </tr>\n",
       "    <tr>\n",
       "      <th>Lasso</th>\n",
       "      <td>0.77</td>\n",
       "      <td>0.77</td>\n",
       "      <td>11.73</td>\n",
       "      <td>19.87</td>\n",
       "    </tr>\n",
       "    <tr>\n",
       "      <th>LassoLars</th>\n",
       "      <td>0.77</td>\n",
       "      <td>0.77</td>\n",
       "      <td>11.73</td>\n",
       "      <td>9.09</td>\n",
       "    </tr>\n",
       "    <tr>\n",
       "      <th>LinearRegression</th>\n",
       "      <td>0.87</td>\n",
       "      <td>0.87</td>\n",
       "      <td>8.93</td>\n",
       "      <td>13.73</td>\n",
       "    </tr>\n",
       "    <tr>\n",
       "      <th>LinearSVR</th>\n",
       "      <td>0.84</td>\n",
       "      <td>0.84</td>\n",
       "      <td>9.66</td>\n",
       "      <td>284.12</td>\n",
       "    </tr>\n",
       "    <tr>\n",
       "      <th>OrthogonalMatchingPursuit</th>\n",
       "      <td>0.81</td>\n",
       "      <td>0.81</td>\n",
       "      <td>10.51</td>\n",
       "      <td>9.01</td>\n",
       "    </tr>\n",
       "    <tr>\n",
       "      <th>OrthogonalMatchingPursuitCV</th>\n",
       "      <td>0.81</td>\n",
       "      <td>0.81</td>\n",
       "      <td>10.51</td>\n",
       "      <td>20.48</td>\n",
       "    </tr>\n",
       "    <tr>\n",
       "      <th>PassiveAggressiveRegressor</th>\n",
       "      <td>0.80</td>\n",
       "      <td>0.80</td>\n",
       "      <td>11.03</td>\n",
       "      <td>11.43</td>\n",
       "    </tr>\n",
       "    <tr>\n",
       "      <th>PoissonRegressor</th>\n",
       "      <td>0.87</td>\n",
       "      <td>0.87</td>\n",
       "      <td>8.92</td>\n",
       "      <td>13.98</td>\n",
       "    </tr>\n",
       "    <tr>\n",
       "      <th>RandomForestRegressor</th>\n",
       "      <td>0.98</td>\n",
       "      <td>0.98</td>\n",
       "      <td>3.19</td>\n",
       "      <td>323.68</td>\n",
       "    </tr>\n",
       "    <tr>\n",
       "      <th>Ridge</th>\n",
       "      <td>0.87</td>\n",
       "      <td>0.87</td>\n",
       "      <td>8.93</td>\n",
       "      <td>9.66</td>\n",
       "    </tr>\n",
       "    <tr>\n",
       "      <th>SGDRegressor</th>\n",
       "      <td>-432597253697656512.00</td>\n",
       "      <td>-432427132460735744.00</td>\n",
       "      <td>16064914184.75</td>\n",
       "      <td>34.28</td>\n",
       "    </tr>\n",
       "    <tr>\n",
       "      <th>TransformedTargetRegressor</th>\n",
       "      <td>0.87</td>\n",
       "      <td>0.87</td>\n",
       "      <td>8.93</td>\n",
       "      <td>13.74</td>\n",
       "    </tr>\n",
       "    <tr>\n",
       "      <th>TweedieRegressor</th>\n",
       "      <td>0.76</td>\n",
       "      <td>0.76</td>\n",
       "      <td>11.90</td>\n",
       "      <td>9.06</td>\n",
       "    </tr>\n",
       "    <tr>\n",
       "      <th>XGBRegressor</th>\n",
       "      <td>0.76</td>\n",
       "      <td>0.76</td>\n",
       "      <td>12.09</td>\n",
       "      <td>13.90</td>\n",
       "    </tr>\n",
       "    <tr>\n",
       "      <th>LGBMRegressor</th>\n",
       "      <td>0.96</td>\n",
       "      <td>0.96</td>\n",
       "      <td>4.75</td>\n",
       "      <td>11.89</td>\n",
       "    </tr>\n",
       "  </tbody>\n",
       "</table>\n",
       "</div>"
      ],
      "text/plain": [
       "                                                          Adjusted R-Squared  \\\n",
       "Model                                                                          \n",
       "AdaBoostRegressor                                                       0.31   \n",
       "BaggingRegressor                                                        0.98   \n",
       "BayesianRidge                                                           0.87   \n",
       "DecisionTreeRegressor                                                   0.98   \n",
       "DummyRegressor                                                         -0.00   \n",
       "ElasticNet                                                              0.75   \n",
       "ElasticNetCV                                                            0.86   \n",
       "ExtraTreeRegressor                                                      0.98   \n",
       "ExtraTreesRegressor                                                     0.98   \n",
       "GammaRegressor                                                          0.76   \n",
       "GradientBoostingRegressor                                               0.89   \n",
       "HistGradientBoostingRegressor                                           0.96   \n",
       "HuberRegressor                                                          0.85   \n",
       "KNeighborsRegressor                                                     0.98   \n",
       "Lars                          -499559733818452942592664558997142356623360.00   \n",
       "Lasso                                                                   0.77   \n",
       "LassoLars                                                               0.77   \n",
       "LinearRegression                                                        0.87   \n",
       "LinearSVR                                                               0.84   \n",
       "OrthogonalMatchingPursuit                                               0.81   \n",
       "OrthogonalMatchingPursuitCV                                             0.81   \n",
       "PassiveAggressiveRegressor                                              0.80   \n",
       "PoissonRegressor                                                        0.87   \n",
       "RandomForestRegressor                                                   0.98   \n",
       "Ridge                                                                   0.87   \n",
       "SGDRegressor                                          -432597253697656512.00   \n",
       "TransformedTargetRegressor                                              0.87   \n",
       "TweedieRegressor                                                        0.76   \n",
       "XGBRegressor                                                            0.76   \n",
       "LGBMRegressor                                                           0.96   \n",
       "\n",
       "                                                                   R-Squared  \\\n",
       "Model                                                                          \n",
       "AdaBoostRegressor                                                       0.31   \n",
       "BaggingRegressor                                                        0.98   \n",
       "BayesianRidge                                                           0.87   \n",
       "DecisionTreeRegressor                                                   0.98   \n",
       "DummyRegressor                                                         -0.00   \n",
       "ElasticNet                                                              0.75   \n",
       "ElasticNetCV                                                            0.86   \n",
       "ExtraTreeRegressor                                                      0.98   \n",
       "ExtraTreesRegressor                                                     0.98   \n",
       "GammaRegressor                                                          0.76   \n",
       "GradientBoostingRegressor                                               0.89   \n",
       "HistGradientBoostingRegressor                                           0.96   \n",
       "HuberRegressor                                                          0.85   \n",
       "KNeighborsRegressor                                                     0.98   \n",
       "Lars                          -499363279219847496591089954502912872808448.00   \n",
       "Lasso                                                                   0.77   \n",
       "LassoLars                                                               0.77   \n",
       "LinearRegression                                                        0.87   \n",
       "LinearSVR                                                               0.84   \n",
       "OrthogonalMatchingPursuit                                               0.81   \n",
       "OrthogonalMatchingPursuitCV                                             0.81   \n",
       "PassiveAggressiveRegressor                                              0.80   \n",
       "PoissonRegressor                                                        0.87   \n",
       "RandomForestRegressor                                                   0.98   \n",
       "Ridge                                                                   0.87   \n",
       "SGDRegressor                                          -432427132460735744.00   \n",
       "TransformedTargetRegressor                                              0.87   \n",
       "TweedieRegressor                                                        0.76   \n",
       "XGBRegressor                                                            0.76   \n",
       "LGBMRegressor                                                           0.96   \n",
       "\n",
       "                                                    RMSE  Time Taken  \n",
       "Model                                                                 \n",
       "AdaBoostRegressor                                  20.27      241.86  \n",
       "BaggingRegressor                                    3.30       58.77  \n",
       "BayesianRidge                                       8.93       20.62  \n",
       "DecisionTreeRegressor                               3.67       15.06  \n",
       "DummyRegressor                                     24.43        8.86  \n",
       "ElasticNet                                         12.17       12.83  \n",
       "ElasticNetCV                                        9.08       56.70  \n",
       "ExtraTreeRegressor                                  3.33       17.29  \n",
       "ExtraTreesRegressor                                 3.02      675.06  \n",
       "GammaRegressor                                     12.04        8.90  \n",
       "GradientBoostingRegressor                           7.95      152.40  \n",
       "HistGradientBoostingRegressor                       5.08       24.99  \n",
       "HuberRegressor                                      9.56      105.49  \n",
       "KNeighborsRegressor                                 3.84     1244.26  \n",
       "Lars                          17263555437003498586112.00        9.35  \n",
       "Lasso                                              11.73       19.87  \n",
       "LassoLars                                          11.73        9.09  \n",
       "LinearRegression                                    8.93       13.73  \n",
       "LinearSVR                                           9.66      284.12  \n",
       "OrthogonalMatchingPursuit                          10.51        9.01  \n",
       "OrthogonalMatchingPursuitCV                        10.51       20.48  \n",
       "PassiveAggressiveRegressor                         11.03       11.43  \n",
       "PoissonRegressor                                    8.92       13.98  \n",
       "RandomForestRegressor                               3.19      323.68  \n",
       "Ridge                                               8.93        9.66  \n",
       "SGDRegressor                              16064914184.75       34.28  \n",
       "TransformedTargetRegressor                          8.93       13.74  \n",
       "TweedieRegressor                                   11.90        9.06  \n",
       "XGBRegressor                                       12.09       13.90  \n",
       "LGBMRegressor                                       4.75       11.89  "
      ]
     },
     "execution_count": 10,
     "metadata": {},
     "output_type": "execute_result"
    }
   ],
   "source": [
    "output_file = OUTPUT_DIR + current_date + \"-lazy_models.csv\"\n",
    "all_models.to_csv(output_file)\n",
    "all_models"
   ]
  },
  {
   "cell_type": "code",
   "execution_count": 11,
   "metadata": {},
   "outputs": [],
   "source": [
    "if predictions_flag:\n",
    "    output_file = OUTPUT_DIR + current_date + \"-lazy_predictions.csv\"\n",
    "    all_predictions.to_csv(output_file)\n",
    "    all_predictions"
   ]
  },
  {
   "cell_type": "code",
   "execution_count": 12,
   "metadata": {},
   "outputs": [
    {
     "name": "stdout",
     "output_type": "stream",
     "text": [
      "Predictions ran on X_train of shape:  (304128, 299)\n"
     ]
    }
   ],
   "source": [
    "print(\"Predictions ran on X_train of shape: \", X_train.shape)"
   ]
  },
  {
   "cell_type": "code",
   "execution_count": 13,
   "metadata": {},
   "outputs": [
    {
     "data": {
      "text/plain": [
       "Index(['Adjusted R-Squared', 'R-Squared', 'RMSE', 'Time Taken'], dtype='object')"
      ]
     },
     "execution_count": 13,
     "metadata": {},
     "output_type": "execute_result"
    }
   ],
   "source": [
    "all_models.columns"
   ]
  },
  {
   "cell_type": "markdown",
   "metadata": {},
   "source": [
    "Models sorted by R-Squared"
   ]
  },
  {
   "cell_type": "code",
   "execution_count": null,
   "metadata": {},
   "outputs": [
    {
     "data": {
      "text/html": [
       "<div>\n",
       "<style scoped>\n",
       "    .dataframe tbody tr th:only-of-type {\n",
       "        vertical-align: middle;\n",
       "    }\n",
       "\n",
       "    .dataframe tbody tr th {\n",
       "        vertical-align: top;\n",
       "    }\n",
       "\n",
       "    .dataframe thead th {\n",
       "        text-align: right;\n",
       "    }\n",
       "</style>\n",
       "<table border=\"1\" class=\"dataframe\">\n",
       "  <thead>\n",
       "    <tr style=\"text-align: right;\">\n",
       "      <th></th>\n",
       "      <th>Adjusted R-Squared</th>\n",
       "      <th>R-Squared</th>\n",
       "      <th>RMSE</th>\n",
       "      <th>Time Taken</th>\n",
       "    </tr>\n",
       "    <tr>\n",
       "      <th>Model</th>\n",
       "      <th></th>\n",
       "      <th></th>\n",
       "      <th></th>\n",
       "      <th></th>\n",
       "    </tr>\n",
       "  </thead>\n",
       "  <tbody>\n",
       "    <tr>\n",
       "      <th>ExtraTreesRegressor</th>\n",
       "      <td>0.98</td>\n",
       "      <td>0.98</td>\n",
       "      <td>3.02</td>\n",
       "      <td>675.06</td>\n",
       "    </tr>\n",
       "    <tr>\n",
       "      <th>RandomForestRegressor</th>\n",
       "      <td>0.98</td>\n",
       "      <td>0.98</td>\n",
       "      <td>3.19</td>\n",
       "      <td>323.68</td>\n",
       "    </tr>\n",
       "    <tr>\n",
       "      <th>BaggingRegressor</th>\n",
       "      <td>0.98</td>\n",
       "      <td>0.98</td>\n",
       "      <td>3.30</td>\n",
       "      <td>58.77</td>\n",
       "    </tr>\n",
       "    <tr>\n",
       "      <th>ExtraTreeRegressor</th>\n",
       "      <td>0.98</td>\n",
       "      <td>0.98</td>\n",
       "      <td>3.33</td>\n",
       "      <td>17.29</td>\n",
       "    </tr>\n",
       "    <tr>\n",
       "      <th>DecisionTreeRegressor</th>\n",
       "      <td>0.98</td>\n",
       "      <td>0.98</td>\n",
       "      <td>3.67</td>\n",
       "      <td>15.06</td>\n",
       "    </tr>\n",
       "    <tr>\n",
       "      <th>KNeighborsRegressor</th>\n",
       "      <td>0.98</td>\n",
       "      <td>0.98</td>\n",
       "      <td>3.84</td>\n",
       "      <td>1244.26</td>\n",
       "    </tr>\n",
       "    <tr>\n",
       "      <th>LGBMRegressor</th>\n",
       "      <td>0.96</td>\n",
       "      <td>0.96</td>\n",
       "      <td>4.75</td>\n",
       "      <td>11.89</td>\n",
       "    </tr>\n",
       "    <tr>\n",
       "      <th>HistGradientBoostingRegressor</th>\n",
       "      <td>0.96</td>\n",
       "      <td>0.96</td>\n",
       "      <td>5.08</td>\n",
       "      <td>24.99</td>\n",
       "    </tr>\n",
       "    <tr>\n",
       "      <th>GradientBoostingRegressor</th>\n",
       "      <td>0.89</td>\n",
       "      <td>0.89</td>\n",
       "      <td>7.95</td>\n",
       "      <td>152.40</td>\n",
       "    </tr>\n",
       "    <tr>\n",
       "      <th>PoissonRegressor</th>\n",
       "      <td>0.87</td>\n",
       "      <td>0.87</td>\n",
       "      <td>8.92</td>\n",
       "      <td>13.98</td>\n",
       "    </tr>\n",
       "    <tr>\n",
       "      <th>LinearRegression</th>\n",
       "      <td>0.87</td>\n",
       "      <td>0.87</td>\n",
       "      <td>8.93</td>\n",
       "      <td>13.73</td>\n",
       "    </tr>\n",
       "    <tr>\n",
       "      <th>TransformedTargetRegressor</th>\n",
       "      <td>0.87</td>\n",
       "      <td>0.87</td>\n",
       "      <td>8.93</td>\n",
       "      <td>13.74</td>\n",
       "    </tr>\n",
       "    <tr>\n",
       "      <th>Ridge</th>\n",
       "      <td>0.87</td>\n",
       "      <td>0.87</td>\n",
       "      <td>8.93</td>\n",
       "      <td>9.66</td>\n",
       "    </tr>\n",
       "    <tr>\n",
       "      <th>BayesianRidge</th>\n",
       "      <td>0.87</td>\n",
       "      <td>0.87</td>\n",
       "      <td>8.93</td>\n",
       "      <td>20.62</td>\n",
       "    </tr>\n",
       "    <tr>\n",
       "      <th>ElasticNetCV</th>\n",
       "      <td>0.86</td>\n",
       "      <td>0.86</td>\n",
       "      <td>9.08</td>\n",
       "      <td>56.70</td>\n",
       "    </tr>\n",
       "    <tr>\n",
       "      <th>HuberRegressor</th>\n",
       "      <td>0.85</td>\n",
       "      <td>0.85</td>\n",
       "      <td>9.56</td>\n",
       "      <td>105.49</td>\n",
       "    </tr>\n",
       "    <tr>\n",
       "      <th>LinearSVR</th>\n",
       "      <td>0.84</td>\n",
       "      <td>0.84</td>\n",
       "      <td>9.66</td>\n",
       "      <td>284.12</td>\n",
       "    </tr>\n",
       "    <tr>\n",
       "      <th>OrthogonalMatchingPursuit</th>\n",
       "      <td>0.81</td>\n",
       "      <td>0.81</td>\n",
       "      <td>10.51</td>\n",
       "      <td>9.01</td>\n",
       "    </tr>\n",
       "    <tr>\n",
       "      <th>OrthogonalMatchingPursuitCV</th>\n",
       "      <td>0.81</td>\n",
       "      <td>0.81</td>\n",
       "      <td>10.51</td>\n",
       "      <td>20.48</td>\n",
       "    </tr>\n",
       "    <tr>\n",
       "      <th>PassiveAggressiveRegressor</th>\n",
       "      <td>0.80</td>\n",
       "      <td>0.80</td>\n",
       "      <td>11.03</td>\n",
       "      <td>11.43</td>\n",
       "    </tr>\n",
       "    <tr>\n",
       "      <th>Lasso</th>\n",
       "      <td>0.77</td>\n",
       "      <td>0.77</td>\n",
       "      <td>11.73</td>\n",
       "      <td>19.87</td>\n",
       "    </tr>\n",
       "    <tr>\n",
       "      <th>LassoLars</th>\n",
       "      <td>0.77</td>\n",
       "      <td>0.77</td>\n",
       "      <td>11.73</td>\n",
       "      <td>9.09</td>\n",
       "    </tr>\n",
       "    <tr>\n",
       "      <th>TweedieRegressor</th>\n",
       "      <td>0.76</td>\n",
       "      <td>0.76</td>\n",
       "      <td>11.90</td>\n",
       "      <td>9.06</td>\n",
       "    </tr>\n",
       "    <tr>\n",
       "      <th>GammaRegressor</th>\n",
       "      <td>0.76</td>\n",
       "      <td>0.76</td>\n",
       "      <td>12.04</td>\n",
       "      <td>8.90</td>\n",
       "    </tr>\n",
       "    <tr>\n",
       "      <th>XGBRegressor</th>\n",
       "      <td>0.76</td>\n",
       "      <td>0.76</td>\n",
       "      <td>12.09</td>\n",
       "      <td>13.90</td>\n",
       "    </tr>\n",
       "    <tr>\n",
       "      <th>ElasticNet</th>\n",
       "      <td>0.75</td>\n",
       "      <td>0.75</td>\n",
       "      <td>12.17</td>\n",
       "      <td>12.83</td>\n",
       "    </tr>\n",
       "    <tr>\n",
       "      <th>AdaBoostRegressor</th>\n",
       "      <td>0.31</td>\n",
       "      <td>0.31</td>\n",
       "      <td>20.27</td>\n",
       "      <td>241.86</td>\n",
       "    </tr>\n",
       "    <tr>\n",
       "      <th>DummyRegressor</th>\n",
       "      <td>-0.00</td>\n",
       "      <td>-0.00</td>\n",
       "      <td>24.43</td>\n",
       "      <td>8.86</td>\n",
       "    </tr>\n",
       "    <tr>\n",
       "      <th>SGDRegressor</th>\n",
       "      <td>-432597253697656512.00</td>\n",
       "      <td>-432427132460735744.00</td>\n",
       "      <td>16064914184.75</td>\n",
       "      <td>34.28</td>\n",
       "    </tr>\n",
       "    <tr>\n",
       "      <th>Lars</th>\n",
       "      <td>-499559733818452942592664558997142356623360.00</td>\n",
       "      <td>-499363279219847496591089954502912872808448.00</td>\n",
       "      <td>17263555437003498586112.00</td>\n",
       "      <td>9.35</td>\n",
       "    </tr>\n",
       "  </tbody>\n",
       "</table>\n",
       "</div>"
      ],
      "text/plain": [
       "                                                          Adjusted R-Squared  \\\n",
       "Model                                                                          \n",
       "ExtraTreesRegressor                                                     0.98   \n",
       "RandomForestRegressor                                                   0.98   \n",
       "BaggingRegressor                                                        0.98   \n",
       "ExtraTreeRegressor                                                      0.98   \n",
       "DecisionTreeRegressor                                                   0.98   \n",
       "KNeighborsRegressor                                                     0.98   \n",
       "LGBMRegressor                                                           0.96   \n",
       "HistGradientBoostingRegressor                                           0.96   \n",
       "GradientBoostingRegressor                                               0.89   \n",
       "PoissonRegressor                                                        0.87   \n",
       "LinearRegression                                                        0.87   \n",
       "TransformedTargetRegressor                                              0.87   \n",
       "Ridge                                                                   0.87   \n",
       "BayesianRidge                                                           0.87   \n",
       "ElasticNetCV                                                            0.86   \n",
       "HuberRegressor                                                          0.85   \n",
       "LinearSVR                                                               0.84   \n",
       "OrthogonalMatchingPursuit                                               0.81   \n",
       "OrthogonalMatchingPursuitCV                                             0.81   \n",
       "PassiveAggressiveRegressor                                              0.80   \n",
       "Lasso                                                                   0.77   \n",
       "LassoLars                                                               0.77   \n",
       "TweedieRegressor                                                        0.76   \n",
       "GammaRegressor                                                          0.76   \n",
       "XGBRegressor                                                            0.76   \n",
       "ElasticNet                                                              0.75   \n",
       "AdaBoostRegressor                                                       0.31   \n",
       "DummyRegressor                                                         -0.00   \n",
       "SGDRegressor                                          -432597253697656512.00   \n",
       "Lars                          -499559733818452942592664558997142356623360.00   \n",
       "\n",
       "                                                                   R-Squared  \\\n",
       "Model                                                                          \n",
       "ExtraTreesRegressor                                                     0.98   \n",
       "RandomForestRegressor                                                   0.98   \n",
       "BaggingRegressor                                                        0.98   \n",
       "ExtraTreeRegressor                                                      0.98   \n",
       "DecisionTreeRegressor                                                   0.98   \n",
       "KNeighborsRegressor                                                     0.98   \n",
       "LGBMRegressor                                                           0.96   \n",
       "HistGradientBoostingRegressor                                           0.96   \n",
       "GradientBoostingRegressor                                               0.89   \n",
       "PoissonRegressor                                                        0.87   \n",
       "LinearRegression                                                        0.87   \n",
       "TransformedTargetRegressor                                              0.87   \n",
       "Ridge                                                                   0.87   \n",
       "BayesianRidge                                                           0.87   \n",
       "ElasticNetCV                                                            0.86   \n",
       "HuberRegressor                                                          0.85   \n",
       "LinearSVR                                                               0.84   \n",
       "OrthogonalMatchingPursuit                                               0.81   \n",
       "OrthogonalMatchingPursuitCV                                             0.81   \n",
       "PassiveAggressiveRegressor                                              0.80   \n",
       "Lasso                                                                   0.77   \n",
       "LassoLars                                                               0.77   \n",
       "TweedieRegressor                                                        0.76   \n",
       "GammaRegressor                                                          0.76   \n",
       "XGBRegressor                                                            0.76   \n",
       "ElasticNet                                                              0.75   \n",
       "AdaBoostRegressor                                                       0.31   \n",
       "DummyRegressor                                                         -0.00   \n",
       "SGDRegressor                                          -432427132460735744.00   \n",
       "Lars                          -499363279219847496591089954502912872808448.00   \n",
       "\n",
       "                                                    RMSE  Time Taken  \n",
       "Model                                                                 \n",
       "ExtraTreesRegressor                                 3.02      675.06  \n",
       "RandomForestRegressor                               3.19      323.68  \n",
       "BaggingRegressor                                    3.30       58.77  \n",
       "ExtraTreeRegressor                                  3.33       17.29  \n",
       "DecisionTreeRegressor                               3.67       15.06  \n",
       "KNeighborsRegressor                                 3.84     1244.26  \n",
       "LGBMRegressor                                       4.75       11.89  \n",
       "HistGradientBoostingRegressor                       5.08       24.99  \n",
       "GradientBoostingRegressor                           7.95      152.40  \n",
       "PoissonRegressor                                    8.92       13.98  \n",
       "LinearRegression                                    8.93       13.73  \n",
       "TransformedTargetRegressor                          8.93       13.74  \n",
       "Ridge                                               8.93        9.66  \n",
       "BayesianRidge                                       8.93       20.62  \n",
       "ElasticNetCV                                        9.08       56.70  \n",
       "HuberRegressor                                      9.56      105.49  \n",
       "LinearSVR                                           9.66      284.12  \n",
       "OrthogonalMatchingPursuit                          10.51        9.01  \n",
       "OrthogonalMatchingPursuitCV                        10.51       20.48  \n",
       "PassiveAggressiveRegressor                         11.03       11.43  \n",
       "Lasso                                              11.73       19.87  \n",
       "LassoLars                                          11.73        9.09  \n",
       "TweedieRegressor                                   11.90        9.06  \n",
       "GammaRegressor                                     12.04        8.90  \n",
       "XGBRegressor                                       12.09       13.90  \n",
       "ElasticNet                                         12.17       12.83  \n",
       "AdaBoostRegressor                                  20.27      241.86  \n",
       "DummyRegressor                                     24.43        8.86  \n",
       "SGDRegressor                              16064914184.75       34.28  \n",
       "Lars                          17263555437003498586112.00        9.35  "
      ]
     },
     "execution_count": 15,
     "metadata": {},
     "output_type": "execute_result"
    }
   ],
   "source": [
    "all_models.sort_values(by=['R-Squared'], ascending=False)"
   ]
  },
  {
   "cell_type": "markdown",
   "metadata": {},
   "source": [
    "Models sorted by Time Taken"
   ]
  },
  {
   "cell_type": "code",
   "execution_count": null,
   "metadata": {},
   "outputs": [
    {
     "data": {
      "text/html": [
       "<div>\n",
       "<style scoped>\n",
       "    .dataframe tbody tr th:only-of-type {\n",
       "        vertical-align: middle;\n",
       "    }\n",
       "\n",
       "    .dataframe tbody tr th {\n",
       "        vertical-align: top;\n",
       "    }\n",
       "\n",
       "    .dataframe thead th {\n",
       "        text-align: right;\n",
       "    }\n",
       "</style>\n",
       "<table border=\"1\" class=\"dataframe\">\n",
       "  <thead>\n",
       "    <tr style=\"text-align: right;\">\n",
       "      <th></th>\n",
       "      <th>Adjusted R-Squared</th>\n",
       "      <th>R-Squared</th>\n",
       "      <th>RMSE</th>\n",
       "      <th>Time Taken</th>\n",
       "    </tr>\n",
       "    <tr>\n",
       "      <th>Model</th>\n",
       "      <th></th>\n",
       "      <th></th>\n",
       "      <th></th>\n",
       "      <th></th>\n",
       "    </tr>\n",
       "  </thead>\n",
       "  <tbody>\n",
       "    <tr>\n",
       "      <th>KNeighborsRegressor</th>\n",
       "      <td>0.98</td>\n",
       "      <td>0.98</td>\n",
       "      <td>3.84</td>\n",
       "      <td>1244.26</td>\n",
       "    </tr>\n",
       "    <tr>\n",
       "      <th>ExtraTreesRegressor</th>\n",
       "      <td>0.98</td>\n",
       "      <td>0.98</td>\n",
       "      <td>3.02</td>\n",
       "      <td>675.06</td>\n",
       "    </tr>\n",
       "    <tr>\n",
       "      <th>RandomForestRegressor</th>\n",
       "      <td>0.98</td>\n",
       "      <td>0.98</td>\n",
       "      <td>3.19</td>\n",
       "      <td>323.68</td>\n",
       "    </tr>\n",
       "    <tr>\n",
       "      <th>LinearSVR</th>\n",
       "      <td>0.84</td>\n",
       "      <td>0.84</td>\n",
       "      <td>9.66</td>\n",
       "      <td>284.12</td>\n",
       "    </tr>\n",
       "    <tr>\n",
       "      <th>AdaBoostRegressor</th>\n",
       "      <td>0.31</td>\n",
       "      <td>0.31</td>\n",
       "      <td>20.27</td>\n",
       "      <td>241.86</td>\n",
       "    </tr>\n",
       "    <tr>\n",
       "      <th>GradientBoostingRegressor</th>\n",
       "      <td>0.89</td>\n",
       "      <td>0.89</td>\n",
       "      <td>7.95</td>\n",
       "      <td>152.40</td>\n",
       "    </tr>\n",
       "    <tr>\n",
       "      <th>HuberRegressor</th>\n",
       "      <td>0.85</td>\n",
       "      <td>0.85</td>\n",
       "      <td>9.56</td>\n",
       "      <td>105.49</td>\n",
       "    </tr>\n",
       "    <tr>\n",
       "      <th>BaggingRegressor</th>\n",
       "      <td>0.98</td>\n",
       "      <td>0.98</td>\n",
       "      <td>3.30</td>\n",
       "      <td>58.77</td>\n",
       "    </tr>\n",
       "    <tr>\n",
       "      <th>ElasticNetCV</th>\n",
       "      <td>0.86</td>\n",
       "      <td>0.86</td>\n",
       "      <td>9.08</td>\n",
       "      <td>56.70</td>\n",
       "    </tr>\n",
       "    <tr>\n",
       "      <th>SGDRegressor</th>\n",
       "      <td>-432597253697656512.00</td>\n",
       "      <td>-432427132460735744.00</td>\n",
       "      <td>16064914184.75</td>\n",
       "      <td>34.28</td>\n",
       "    </tr>\n",
       "    <tr>\n",
       "      <th>HistGradientBoostingRegressor</th>\n",
       "      <td>0.96</td>\n",
       "      <td>0.96</td>\n",
       "      <td>5.08</td>\n",
       "      <td>24.99</td>\n",
       "    </tr>\n",
       "    <tr>\n",
       "      <th>BayesianRidge</th>\n",
       "      <td>0.87</td>\n",
       "      <td>0.87</td>\n",
       "      <td>8.93</td>\n",
       "      <td>20.62</td>\n",
       "    </tr>\n",
       "    <tr>\n",
       "      <th>OrthogonalMatchingPursuitCV</th>\n",
       "      <td>0.81</td>\n",
       "      <td>0.81</td>\n",
       "      <td>10.51</td>\n",
       "      <td>20.48</td>\n",
       "    </tr>\n",
       "    <tr>\n",
       "      <th>Lasso</th>\n",
       "      <td>0.77</td>\n",
       "      <td>0.77</td>\n",
       "      <td>11.73</td>\n",
       "      <td>19.87</td>\n",
       "    </tr>\n",
       "    <tr>\n",
       "      <th>ExtraTreeRegressor</th>\n",
       "      <td>0.98</td>\n",
       "      <td>0.98</td>\n",
       "      <td>3.33</td>\n",
       "      <td>17.29</td>\n",
       "    </tr>\n",
       "    <tr>\n",
       "      <th>DecisionTreeRegressor</th>\n",
       "      <td>0.98</td>\n",
       "      <td>0.98</td>\n",
       "      <td>3.67</td>\n",
       "      <td>15.06</td>\n",
       "    </tr>\n",
       "    <tr>\n",
       "      <th>PoissonRegressor</th>\n",
       "      <td>0.87</td>\n",
       "      <td>0.87</td>\n",
       "      <td>8.92</td>\n",
       "      <td>13.98</td>\n",
       "    </tr>\n",
       "    <tr>\n",
       "      <th>XGBRegressor</th>\n",
       "      <td>0.76</td>\n",
       "      <td>0.76</td>\n",
       "      <td>12.09</td>\n",
       "      <td>13.90</td>\n",
       "    </tr>\n",
       "    <tr>\n",
       "      <th>TransformedTargetRegressor</th>\n",
       "      <td>0.87</td>\n",
       "      <td>0.87</td>\n",
       "      <td>8.93</td>\n",
       "      <td>13.74</td>\n",
       "    </tr>\n",
       "    <tr>\n",
       "      <th>LinearRegression</th>\n",
       "      <td>0.87</td>\n",
       "      <td>0.87</td>\n",
       "      <td>8.93</td>\n",
       "      <td>13.73</td>\n",
       "    </tr>\n",
       "    <tr>\n",
       "      <th>ElasticNet</th>\n",
       "      <td>0.75</td>\n",
       "      <td>0.75</td>\n",
       "      <td>12.17</td>\n",
       "      <td>12.83</td>\n",
       "    </tr>\n",
       "    <tr>\n",
       "      <th>LGBMRegressor</th>\n",
       "      <td>0.96</td>\n",
       "      <td>0.96</td>\n",
       "      <td>4.75</td>\n",
       "      <td>11.89</td>\n",
       "    </tr>\n",
       "    <tr>\n",
       "      <th>PassiveAggressiveRegressor</th>\n",
       "      <td>0.80</td>\n",
       "      <td>0.80</td>\n",
       "      <td>11.03</td>\n",
       "      <td>11.43</td>\n",
       "    </tr>\n",
       "    <tr>\n",
       "      <th>Ridge</th>\n",
       "      <td>0.87</td>\n",
       "      <td>0.87</td>\n",
       "      <td>8.93</td>\n",
       "      <td>9.66</td>\n",
       "    </tr>\n",
       "    <tr>\n",
       "      <th>Lars</th>\n",
       "      <td>-499559733818452942592664558997142356623360.00</td>\n",
       "      <td>-499363279219847496591089954502912872808448.00</td>\n",
       "      <td>17263555437003498586112.00</td>\n",
       "      <td>9.35</td>\n",
       "    </tr>\n",
       "    <tr>\n",
       "      <th>LassoLars</th>\n",
       "      <td>0.77</td>\n",
       "      <td>0.77</td>\n",
       "      <td>11.73</td>\n",
       "      <td>9.09</td>\n",
       "    </tr>\n",
       "    <tr>\n",
       "      <th>TweedieRegressor</th>\n",
       "      <td>0.76</td>\n",
       "      <td>0.76</td>\n",
       "      <td>11.90</td>\n",
       "      <td>9.06</td>\n",
       "    </tr>\n",
       "    <tr>\n",
       "      <th>OrthogonalMatchingPursuit</th>\n",
       "      <td>0.81</td>\n",
       "      <td>0.81</td>\n",
       "      <td>10.51</td>\n",
       "      <td>9.01</td>\n",
       "    </tr>\n",
       "    <tr>\n",
       "      <th>GammaRegressor</th>\n",
       "      <td>0.76</td>\n",
       "      <td>0.76</td>\n",
       "      <td>12.04</td>\n",
       "      <td>8.90</td>\n",
       "    </tr>\n",
       "    <tr>\n",
       "      <th>DummyRegressor</th>\n",
       "      <td>-0.00</td>\n",
       "      <td>-0.00</td>\n",
       "      <td>24.43</td>\n",
       "      <td>8.86</td>\n",
       "    </tr>\n",
       "  </tbody>\n",
       "</table>\n",
       "</div>"
      ],
      "text/plain": [
       "                                                          Adjusted R-Squared  \\\n",
       "Model                                                                          \n",
       "KNeighborsRegressor                                                     0.98   \n",
       "ExtraTreesRegressor                                                     0.98   \n",
       "RandomForestRegressor                                                   0.98   \n",
       "LinearSVR                                                               0.84   \n",
       "AdaBoostRegressor                                                       0.31   \n",
       "GradientBoostingRegressor                                               0.89   \n",
       "HuberRegressor                                                          0.85   \n",
       "BaggingRegressor                                                        0.98   \n",
       "ElasticNetCV                                                            0.86   \n",
       "SGDRegressor                                          -432597253697656512.00   \n",
       "HistGradientBoostingRegressor                                           0.96   \n",
       "BayesianRidge                                                           0.87   \n",
       "OrthogonalMatchingPursuitCV                                             0.81   \n",
       "Lasso                                                                   0.77   \n",
       "ExtraTreeRegressor                                                      0.98   \n",
       "DecisionTreeRegressor                                                   0.98   \n",
       "PoissonRegressor                                                        0.87   \n",
       "XGBRegressor                                                            0.76   \n",
       "TransformedTargetRegressor                                              0.87   \n",
       "LinearRegression                                                        0.87   \n",
       "ElasticNet                                                              0.75   \n",
       "LGBMRegressor                                                           0.96   \n",
       "PassiveAggressiveRegressor                                              0.80   \n",
       "Ridge                                                                   0.87   \n",
       "Lars                          -499559733818452942592664558997142356623360.00   \n",
       "LassoLars                                                               0.77   \n",
       "TweedieRegressor                                                        0.76   \n",
       "OrthogonalMatchingPursuit                                               0.81   \n",
       "GammaRegressor                                                          0.76   \n",
       "DummyRegressor                                                         -0.00   \n",
       "\n",
       "                                                                   R-Squared  \\\n",
       "Model                                                                          \n",
       "KNeighborsRegressor                                                     0.98   \n",
       "ExtraTreesRegressor                                                     0.98   \n",
       "RandomForestRegressor                                                   0.98   \n",
       "LinearSVR                                                               0.84   \n",
       "AdaBoostRegressor                                                       0.31   \n",
       "GradientBoostingRegressor                                               0.89   \n",
       "HuberRegressor                                                          0.85   \n",
       "BaggingRegressor                                                        0.98   \n",
       "ElasticNetCV                                                            0.86   \n",
       "SGDRegressor                                          -432427132460735744.00   \n",
       "HistGradientBoostingRegressor                                           0.96   \n",
       "BayesianRidge                                                           0.87   \n",
       "OrthogonalMatchingPursuitCV                                             0.81   \n",
       "Lasso                                                                   0.77   \n",
       "ExtraTreeRegressor                                                      0.98   \n",
       "DecisionTreeRegressor                                                   0.98   \n",
       "PoissonRegressor                                                        0.87   \n",
       "XGBRegressor                                                            0.76   \n",
       "TransformedTargetRegressor                                              0.87   \n",
       "LinearRegression                                                        0.87   \n",
       "ElasticNet                                                              0.75   \n",
       "LGBMRegressor                                                           0.96   \n",
       "PassiveAggressiveRegressor                                              0.80   \n",
       "Ridge                                                                   0.87   \n",
       "Lars                          -499363279219847496591089954502912872808448.00   \n",
       "LassoLars                                                               0.77   \n",
       "TweedieRegressor                                                        0.76   \n",
       "OrthogonalMatchingPursuit                                               0.81   \n",
       "GammaRegressor                                                          0.76   \n",
       "DummyRegressor                                                         -0.00   \n",
       "\n",
       "                                                    RMSE  Time Taken  \n",
       "Model                                                                 \n",
       "KNeighborsRegressor                                 3.84     1244.26  \n",
       "ExtraTreesRegressor                                 3.02      675.06  \n",
       "RandomForestRegressor                               3.19      323.68  \n",
       "LinearSVR                                           9.66      284.12  \n",
       "AdaBoostRegressor                                  20.27      241.86  \n",
       "GradientBoostingRegressor                           7.95      152.40  \n",
       "HuberRegressor                                      9.56      105.49  \n",
       "BaggingRegressor                                    3.30       58.77  \n",
       "ElasticNetCV                                        9.08       56.70  \n",
       "SGDRegressor                              16064914184.75       34.28  \n",
       "HistGradientBoostingRegressor                       5.08       24.99  \n",
       "BayesianRidge                                       8.93       20.62  \n",
       "OrthogonalMatchingPursuitCV                        10.51       20.48  \n",
       "Lasso                                              11.73       19.87  \n",
       "ExtraTreeRegressor                                  3.33       17.29  \n",
       "DecisionTreeRegressor                               3.67       15.06  \n",
       "PoissonRegressor                                    8.92       13.98  \n",
       "XGBRegressor                                       12.09       13.90  \n",
       "TransformedTargetRegressor                          8.93       13.74  \n",
       "LinearRegression                                    8.93       13.73  \n",
       "ElasticNet                                         12.17       12.83  \n",
       "LGBMRegressor                                       4.75       11.89  \n",
       "PassiveAggressiveRegressor                         11.03       11.43  \n",
       "Ridge                                               8.93        9.66  \n",
       "Lars                          17263555437003498586112.00        9.35  \n",
       "LassoLars                                          11.73        9.09  \n",
       "TweedieRegressor                                   11.90        9.06  \n",
       "OrthogonalMatchingPursuit                          10.51        9.01  \n",
       "GammaRegressor                                     12.04        8.90  \n",
       "DummyRegressor                                     24.43        8.86  "
      ]
     },
     "execution_count": 17,
     "metadata": {},
     "output_type": "execute_result"
    }
   ],
   "source": [
    "all_models.sort_values(by=['Time Taken'], ascending=False)"
   ]
  },
  {
   "cell_type": "code",
   "execution_count": 19,
   "metadata": {},
   "outputs": [
    {
     "data": {
      "text/plain": [
       "['files/output/models/2025_03_10-lazy_predict_chunks.pkl']"
      ]
     },
     "execution_count": 19,
     "metadata": {},
     "output_type": "execute_result"
    }
   ],
   "source": [
    "joblib.dump(lazy_predict_chunks, f\"{OUTPUT_DIR}models/{current_date}-lazy_predict_chunks.pkl\")"
   ]
  }
 ],
 "metadata": {
  "kernelspec": {
   "display_name": "venv",
   "language": "python",
   "name": "python3"
  },
  "language_info": {
   "codemirror_mode": {
    "name": "ipython",
    "version": 3
   },
   "file_extension": ".py",
   "mimetype": "text/x-python",
   "name": "python",
   "nbconvert_exporter": "python",
   "pygments_lexer": "ipython3",
   "version": "3.9.11"
  }
 },
 "nbformat": 4,
 "nbformat_minor": 2
}
