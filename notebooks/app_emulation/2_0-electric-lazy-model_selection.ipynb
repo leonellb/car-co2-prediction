{
 "cells": [
  {
   "cell_type": "markdown",
   "metadata": {},
   "source": [
    "Goal of this notebook is to test wide range of potential models.\n",
    "\n",
    "1. Lazypredict\n",
    "-> choose promising models\n",
    "2. GridSearch on selection of promising models\n",
    "3. Summary of hot candidates including metric, high influencing variables, pca of cluster, etc.\n",
    "\n",
    "\n",
    "Open todo's-> (maybe other notebook)\n",
    "- hyperparameter optimization\n",
    "- dimension reduction"
   ]
  },
  {
   "cell_type": "markdown",
   "metadata": {},
   "source": [
    "# Lazy Predict\n",
    "\n",
    "We'll use LazyRegressor as we're dealing with a supervised learning regression problem and want to check potential models for our usecase"
   ]
  },
  {
   "cell_type": "markdown",
   "metadata": {},
   "source": [
    "Select models from LazyRegressor as processing failed for some in previous sessions."
   ]
  },
  {
   "cell_type": "code",
   "execution_count": 1,
   "metadata": {},
   "outputs": [],
   "source": [
    "from copy import deepcopy\n",
    "from datetime import datetime\n",
    "\n",
    "import joblib\n",
    "import pandas as pd\n",
    "from config import OUTPUT_DIR, TRAIN_TEST_SPLIT_ELECTRIC_FILE\n",
    "from lazypredict.Supervised import REGRESSORS, LazyRegressor"
   ]
  },
  {
   "cell_type": "code",
   "execution_count": 2,
   "metadata": {},
   "outputs": [],
   "source": [
    "current_date = datetime.now().strftime('%Y_%m_%d')"
   ]
  },
  {
   "cell_type": "code",
   "execution_count": 3,
   "metadata": {},
   "outputs": [],
   "source": [
    "current_date = datetime.now().strftime('%Y_%m_%d')\n",
    "X_train, X_test, y_train, y_test = joblib.load(TRAIN_TEST_SPLIT_ELECTRIC_FILE)"
   ]
  },
  {
   "cell_type": "code",
   "execution_count": 4,
   "metadata": {},
   "outputs": [
    {
     "data": {
      "text/html": [
       "<div>\n",
       "<style scoped>\n",
       "    .dataframe tbody tr th:only-of-type {\n",
       "        vertical-align: middle;\n",
       "    }\n",
       "\n",
       "    .dataframe tbody tr th {\n",
       "        vertical-align: top;\n",
       "    }\n",
       "\n",
       "    .dataframe thead th {\n",
       "        text-align: right;\n",
       "    }\n",
       "</style>\n",
       "<table border=\"1\" class=\"dataframe\">\n",
       "  <thead>\n",
       "    <tr style=\"text-align: right;\">\n",
       "      <th></th>\n",
       "      <th>member_state_AT</th>\n",
       "      <th>member_state_BE</th>\n",
       "      <th>member_state_BG</th>\n",
       "      <th>member_state_CY</th>\n",
       "      <th>member_state_CZ</th>\n",
       "      <th>member_state_DE</th>\n",
       "      <th>member_state_DK</th>\n",
       "      <th>member_state_EE</th>\n",
       "      <th>member_state_ES</th>\n",
       "      <th>member_state_FI</th>\n",
       "      <th>...</th>\n",
       "      <th>commercial_name_iX3</th>\n",
       "      <th>commercial_name_other</th>\n",
       "      <th>category_of_vehicle_M1</th>\n",
       "      <th>category_of_vehicle_M1</th>\n",
       "      <th>category_of_vehicle_M1G</th>\n",
       "      <th>category_of_vehicle_N1</th>\n",
       "      <th>mass_vehicle</th>\n",
       "      <th>engine_power</th>\n",
       "      <th>year</th>\n",
       "      <th>electric_range</th>\n",
       "    </tr>\n",
       "  </thead>\n",
       "  <tbody>\n",
       "    <tr>\n",
       "      <th>981250</th>\n",
       "      <td>-0.18</td>\n",
       "      <td>-0.19</td>\n",
       "      <td>-0.03</td>\n",
       "      <td>-0.01</td>\n",
       "      <td>-0.06</td>\n",
       "      <td>-0.74</td>\n",
       "      <td>-0.18</td>\n",
       "      <td>-0.03</td>\n",
       "      <td>-0.17</td>\n",
       "      <td>-0.12</td>\n",
       "      <td>...</td>\n",
       "      <td>-0.09</td>\n",
       "      <td>-0.23</td>\n",
       "      <td>0.02</td>\n",
       "      <td>-0.00</td>\n",
       "      <td>-0.02</td>\n",
       "      <td>-0.00</td>\n",
       "      <td>2.07</td>\n",
       "      <td>-0.04</td>\n",
       "      <td>-0.23</td>\n",
       "      <td>-0.20</td>\n",
       "    </tr>\n",
       "    <tr>\n",
       "      <th>3356637</th>\n",
       "      <td>-0.18</td>\n",
       "      <td>-0.19</td>\n",
       "      <td>-0.03</td>\n",
       "      <td>-0.01</td>\n",
       "      <td>-0.06</td>\n",
       "      <td>1.36</td>\n",
       "      <td>-0.18</td>\n",
       "      <td>-0.03</td>\n",
       "      <td>-0.17</td>\n",
       "      <td>-0.12</td>\n",
       "      <td>...</td>\n",
       "      <td>-0.09</td>\n",
       "      <td>-0.23</td>\n",
       "      <td>0.02</td>\n",
       "      <td>-0.00</td>\n",
       "      <td>-0.02</td>\n",
       "      <td>-0.00</td>\n",
       "      <td>0.28</td>\n",
       "      <td>0.07</td>\n",
       "      <td>1.02</td>\n",
       "      <td>1.33</td>\n",
       "    </tr>\n",
       "  </tbody>\n",
       "</table>\n",
       "<p>2 rows × 298 columns</p>\n",
       "</div>"
      ],
      "text/plain": [
       "         member_state_AT  member_state_BE  member_state_BG  member_state_CY  \\\n",
       "981250             -0.18            -0.19            -0.03            -0.01   \n",
       "3356637            -0.18            -0.19            -0.03            -0.01   \n",
       "\n",
       "         member_state_CZ  member_state_DE  member_state_DK  member_state_EE  \\\n",
       "981250             -0.06            -0.74            -0.18            -0.03   \n",
       "3356637            -0.06             1.36            -0.18            -0.03   \n",
       "\n",
       "         member_state_ES  member_state_FI  ...  commercial_name_iX3  \\\n",
       "981250             -0.17            -0.12  ...                -0.09   \n",
       "3356637            -0.17            -0.12  ...                -0.09   \n",
       "\n",
       "         commercial_name_other  category_of_vehicle_M1  \\\n",
       "981250                   -0.23                    0.02   \n",
       "3356637                  -0.23                    0.02   \n",
       "\n",
       "         category_of_vehicle_M1          category_of_vehicle_M1G  \\\n",
       "981250                            -0.00                    -0.02   \n",
       "3356637                           -0.00                    -0.02   \n",
       "\n",
       "         category_of_vehicle_N1  mass_vehicle  engine_power  year  \\\n",
       "981250                    -0.00          2.07         -0.04 -0.23   \n",
       "3356637                   -0.00          0.28          0.07  1.02   \n",
       "\n",
       "         electric_range  \n",
       "981250            -0.20  \n",
       "3356637            1.33  \n",
       "\n",
       "[2 rows x 298 columns]"
      ]
     },
     "execution_count": 4,
     "metadata": {},
     "output_type": "execute_result"
    }
   ],
   "source": [
    "# example prints to validate correct output\n",
    "X_train.head(2)"
   ]
  },
  {
   "cell_type": "code",
   "execution_count": 5,
   "metadata": {},
   "outputs": [
    {
     "data": {
      "text/plain": [
       "981250    249.00\n",
       "3356637   156.00\n",
       "Name: electric_energy_consumption, dtype: float64"
      ]
     },
     "execution_count": 5,
     "metadata": {},
     "output_type": "execute_result"
    }
   ],
   "source": [
    "y_train.head(2)"
   ]
  },
  {
   "cell_type": "code",
   "execution_count": 6,
   "metadata": {},
   "outputs": [],
   "source": [
    "# explicit selection through mannual list (based on lazypredict.Supervised.REGRESSION)\n",
    "\n",
    "# import sklearn.svm\n",
    "# import xgboost\n",
    "# import lightgbm\n",
    "\n",
    "# model_selection = [\n",
    "#     ('AdaBoostRegressor', sklearn.ensemble._weight_boosting.AdaBoostRegressor),\n",
    "#     ('BaggingRegressor', sklearn.ensemble._bagging.BaggingRegressor),\n",
    "#     ('BayesianRidge', sklearn.linear_model._bayes.BayesianRidge),\n",
    "#     ('DecisionTreeRegressor', sklearn.tree._classes.DecisionTreeRegressor),\n",
    "#     ('DummyRegressor', sklearn.dummy.DummyRegressor),\n",
    "#     ('ElasticNet', sklearn.linear_model._coordinate_descent.ElasticNet),\n",
    "#     ('ElasticNetCV', sklearn.linear_model._coordinate_descent.ElasticNetCV),\n",
    "#     ('ExtraTreeRegressor', sklearn.tree._classes.ExtraTreeRegressor),\n",
    "#     ('ExtraTreesRegressor', sklearn.ensemble._forest.ExtraTreesRegressor),\n",
    "#     ('GammaRegressor', sklearn.linear_model._glm.glm.GammaRegressor),\n",
    "#     ('GaussianProcessRegressor', sklearn.gaussian_process._gpr.GaussianProcessRegressor),\n",
    "#     ('GradientBoostingRegressor', sklearn.ensemble._gb.GradientBoostingRegressor),\n",
    "#     ('HistGradientBoostingRegressor', sklearn.ensemble._hist_gradient_boosting.gradient_boosting.HistGradientBoostingRegressor),\n",
    "#     ('HuberRegressor', sklearn.linear_model._huber.HuberRegressor),\n",
    "#     ('KNeighborsRegressor', sklearn.neighbors._regression.KNeighborsRegressor),\n",
    "#     ('KernelRidge', sklearn.kernel_ridge.KernelRidge),\n",
    "#     ('Lars', sklearn.linear_model._least_angle.Lars),\n",
    "#     ('LarsCV', sklearn.linear_model._least_angle.LarsCV),\n",
    "#     ('Lasso', sklearn.linear_model._coordinate_descent.Lasso),\n",
    "#     ('LassoCV', sklearn.linear_model._coordinate_descent.LassoCV),\n",
    "#     ('LassoLars', sklearn.linear_model._least_angle.LassoLars),\n",
    "#     ('LassoLarsCV', sklearn.linear_model._least_angle.LassoLarsCV),\n",
    "#     ('LassoLarsIC', sklearn.linear_model._least_angle.LassoLarsIC),\n",
    "#     ('LinearRegression', sklearn.linear_model._base.LinearRegression),\n",
    "#     ('LinearSVR', sklearn.svm._classes.LinearSVR),\n",
    "#     ('MLPRegressor', sklearn.neural_network._multilayer_perceptron.MLPRegressor),\n",
    "#     ('NuSVR', sklearn.svm._classes.NuSVR),\n",
    "#     ('OrthogonalMatchingPursuit', sklearn.linear_model._omp.OrthogonalMatchingPursuit),\n",
    "#     ('OrthogonalMatchingPursuitCV', sklearn.linear_model._omp.OrthogonalMatchingPursuitCV),\n",
    "#     ('PassiveAggressiveRegressor', sklearn.linear_model._passive_aggressive.PassiveAggressiveRegressor),\n",
    "#     ('PoissonRegressor', sklearn.linear_model._glm.glm.PoissonRegressor),\n",
    "#     ('QuantileRegressor', sklearn.linear_model._quantile.QuantileRegressor),\n",
    "#     ('RANSACRegressor', sklearn.linear_model._ransac.RANSACRegressor),\n",
    "#     ('RandomForestRegressor', sklearn.ensemble._forest.RandomForestRegressor),\n",
    "#     ('Ridge', sklearn.linear_model._ridge.Ridge),\n",
    "#     ('RidgeCV', sklearn.linear_model._ridge.RidgeCV),\n",
    "#     ('SGDRegressor', sklearn.linear_model._stochastic_gradient.SGDRegressor),\n",
    "#     ('SVR', sklearn.svm._classes.SVR),\n",
    "#     ('TransformedTargetRegressor', sklearn.compose._target.TransformedTargetRegressor),\n",
    "#     ('TweedieRegressor', sklearn.linear_model._glm.glm.TweedieRegressor),\n",
    "#     ('XGBRegressor', xgboost.sklearn.XGBRegressor),\n",
    "#     ('LGBMRegressor', lightgbm.sklearn.LGBMRegressor)\n",
    "# ]\n",
    "\n",
    "# selection through ignore\n",
    "\n",
    "model_selection = REGRESSORS\n",
    "\"\"\"\n",
    "----\n",
    "Removed due to failed executions:\n",
    "----\n",
    "Removed due to high compute time:\n",
    "----\n",
    "NuSVR\n",
    "QuantileRegressor\n",
    "SVR\n",
    "\"\"\"\n",
    "models_to_ignore = list([\n",
    "    \"NuSVR\",\n",
    "    # \"MLPRegressor\",\n",
    "    \"QuantileRegressor\",\n",
    "    \"SVR\"\n",
    "])"
   ]
  },
  {
   "cell_type": "markdown",
   "metadata": {},
   "source": [
    "Use chunk approach"
   ]
  },
  {
   "cell_type": "code",
   "execution_count": 7,
   "metadata": {},
   "outputs": [],
   "source": [
    "class LazyPredictChunk:\n",
    "    def __init__(self, models=None, predictions=None, regressors=\"all\"):\n",
    "        self.models = models\n",
    "        self.predictions = predictions\n",
    "        self.regressors = regressors"
   ]
  },
  {
   "cell_type": "code",
   "execution_count": 8,
   "metadata": {},
   "outputs": [],
   "source": [
    "chunk_size = 1\n",
    "lazy_predict_chunks = []\n",
    "\n",
    "# split regressors into chunks\n",
    "i = 0\n",
    "chunk_buffer = []\n",
    "for model, model_class in model_selection:\n",
    "    # ignore models that are in ignore list\n",
    "    if model in models_to_ignore:\n",
    "        i+=1\n",
    "        continue\n",
    "\n",
    "    # append if chunk_buffer below size limit\n",
    "    if len(chunk_buffer) < chunk_size:\n",
    "        chunk_buffer.append((model, model_class))\n",
    "\n",
    "    # chunk size reached or last iteration step reached\n",
    "    if len(chunk_buffer) == chunk_size or (i+1) == len(REGRESSORS):\n",
    "        lazy_predict_chunks.append(LazyPredictChunk(regressors=deepcopy(chunk_buffer)))\n",
    "        # empty chunk_buffer\n",
    "        chunk_buffer = []\n",
    "\n",
    "    i+=1"
   ]
  },
  {
   "cell_type": "code",
   "execution_count": 9,
   "metadata": {},
   "outputs": [
    {
     "name": "stdout",
     "output_type": "stream",
     "text": [
      "Executing LazyRegressor through:  39 chunks\n",
      "Processings the following regressors in this chunk:  [('AdaBoostRegressor', <class 'sklearn.ensemble._weight_boosting.AdaBoostRegressor'>)]\n",
      "'tuple' object has no attribute '__name__'\n",
      "Invalid Regressor(s)\n"
     ]
    },
    {
     "name": "stderr",
     "output_type": "stream",
     "text": [
      "100%|██████████| 1/1 [01:38<00:00, 98.53s/it]\n"
     ]
    },
    {
     "name": "stdout",
     "output_type": "stream",
     "text": [
      "Processings the following regressors in this chunk:  [('BaggingRegressor', <class 'sklearn.ensemble._bagging.BaggingRegressor'>)]\n",
      "'tuple' object has no attribute '__name__'\n",
      "Invalid Regressor(s)\n"
     ]
    },
    {
     "name": "stderr",
     "output_type": "stream",
     "text": [
      "100%|██████████| 1/1 [00:47<00:00, 47.58s/it]\n"
     ]
    },
    {
     "name": "stdout",
     "output_type": "stream",
     "text": [
      "Processings the following regressors in this chunk:  [('BayesianRidge', <class 'sklearn.linear_model._bayes.BayesianRidge'>)]\n",
      "'tuple' object has no attribute '__name__'\n",
      "Invalid Regressor(s)\n"
     ]
    },
    {
     "name": "stderr",
     "output_type": "stream",
     "text": [
      "100%|██████████| 1/1 [00:17<00:00, 17.80s/it]\n"
     ]
    },
    {
     "name": "stdout",
     "output_type": "stream",
     "text": [
      "Processings the following regressors in this chunk:  [('DecisionTreeRegressor', <class 'sklearn.tree._classes.DecisionTreeRegressor'>)]\n",
      "'tuple' object has no attribute '__name__'\n",
      "Invalid Regressor(s)\n"
     ]
    },
    {
     "name": "stderr",
     "output_type": "stream",
     "text": [
      "100%|██████████| 1/1 [00:12<00:00, 12.39s/it]\n"
     ]
    },
    {
     "name": "stdout",
     "output_type": "stream",
     "text": [
      "Processings the following regressors in this chunk:  [('DummyRegressor', <class 'sklearn.dummy.DummyRegressor'>)]\n",
      "'tuple' object has no attribute '__name__'\n",
      "Invalid Regressor(s)\n"
     ]
    },
    {
     "name": "stderr",
     "output_type": "stream",
     "text": [
      "100%|██████████| 1/1 [00:07<00:00,  7.48s/it]\n"
     ]
    },
    {
     "name": "stdout",
     "output_type": "stream",
     "text": [
      "Processings the following regressors in this chunk:  [('ElasticNet', <class 'sklearn.linear_model._coordinate_descent.ElasticNet'>)]\n",
      "'tuple' object has no attribute '__name__'\n",
      "Invalid Regressor(s)\n"
     ]
    },
    {
     "name": "stderr",
     "output_type": "stream",
     "text": [
      "100%|██████████| 1/1 [00:10<00:00, 10.23s/it]\n"
     ]
    },
    {
     "name": "stdout",
     "output_type": "stream",
     "text": [
      "Processings the following regressors in this chunk:  [('ElasticNetCV', <class 'sklearn.linear_model._coordinate_descent.ElasticNetCV'>)]\n",
      "'tuple' object has no attribute '__name__'\n",
      "Invalid Regressor(s)\n"
     ]
    },
    {
     "name": "stderr",
     "output_type": "stream",
     "text": [
      "100%|██████████| 1/1 [00:44<00:00, 44.39s/it]\n"
     ]
    },
    {
     "name": "stdout",
     "output_type": "stream",
     "text": [
      "Processings the following regressors in this chunk:  [('ExtraTreeRegressor', <class 'sklearn.tree._classes.ExtraTreeRegressor'>)]\n",
      "'tuple' object has no attribute '__name__'\n",
      "Invalid Regressor(s)\n"
     ]
    },
    {
     "name": "stderr",
     "output_type": "stream",
     "text": [
      "100%|██████████| 1/1 [00:13<00:00, 13.62s/it]\n"
     ]
    },
    {
     "name": "stdout",
     "output_type": "stream",
     "text": [
      "Processings the following regressors in this chunk:  [('ExtraTreesRegressor', <class 'sklearn.ensemble._forest.ExtraTreesRegressor'>)]\n",
      "'tuple' object has no attribute '__name__'\n",
      "Invalid Regressor(s)\n"
     ]
    },
    {
     "name": "stderr",
     "output_type": "stream",
     "text": [
      "100%|██████████| 1/1 [08:59<00:00, 539.32s/it]\n"
     ]
    },
    {
     "name": "stdout",
     "output_type": "stream",
     "text": [
      "Processings the following regressors in this chunk:  [('GammaRegressor', <class 'sklearn.linear_model._glm.glm.GammaRegressor'>)]\n",
      "'tuple' object has no attribute '__name__'\n",
      "Invalid Regressor(s)\n"
     ]
    },
    {
     "name": "stderr",
     "output_type": "stream",
     "text": [
      "100%|██████████| 1/1 [00:08<00:00,  8.75s/it]\n"
     ]
    },
    {
     "name": "stdout",
     "output_type": "stream",
     "text": [
      "Processings the following regressors in this chunk:  [('GaussianProcessRegressor', <class 'sklearn.gaussian_process._gpr.GaussianProcessRegressor'>)]\n",
      "'tuple' object has no attribute '__name__'\n",
      "Invalid Regressor(s)\n"
     ]
    },
    {
     "name": "stderr",
     "output_type": "stream",
     "text": [
      "100%|██████████| 1/1 [00:03<00:00,  3.63s/it]\n"
     ]
    },
    {
     "name": "stdout",
     "output_type": "stream",
     "text": [
      "Processings the following regressors in this chunk:  [('GradientBoostingRegressor', <class 'sklearn.ensemble._gb.GradientBoostingRegressor'>)]\n",
      "'tuple' object has no attribute '__name__'\n",
      "Invalid Regressor(s)\n"
     ]
    },
    {
     "name": "stderr",
     "output_type": "stream",
     "text": [
      "100%|██████████| 1/1 [02:29<00:00, 149.53s/it]\n"
     ]
    },
    {
     "name": "stdout",
     "output_type": "stream",
     "text": [
      "Processings the following regressors in this chunk:  [('HistGradientBoostingRegressor', <class 'sklearn.ensemble._hist_gradient_boosting.gradient_boosting.HistGradientBoostingRegressor'>)]\n",
      "'tuple' object has no attribute '__name__'\n",
      "Invalid Regressor(s)\n"
     ]
    },
    {
     "name": "stderr",
     "output_type": "stream",
     "text": [
      "100%|██████████| 1/1 [00:23<00:00, 23.23s/it]\n"
     ]
    },
    {
     "name": "stdout",
     "output_type": "stream",
     "text": [
      "Processings the following regressors in this chunk:  [('HuberRegressor', <class 'sklearn.linear_model._huber.HuberRegressor'>)]\n",
      "'tuple' object has no attribute '__name__'\n",
      "Invalid Regressor(s)\n"
     ]
    },
    {
     "name": "stderr",
     "output_type": "stream",
     "text": [
      "100%|██████████| 1/1 [01:42<00:00, 102.53s/it]\n"
     ]
    },
    {
     "name": "stdout",
     "output_type": "stream",
     "text": [
      "Processings the following regressors in this chunk:  [('KNeighborsRegressor', <class 'sklearn.neighbors._regression.KNeighborsRegressor'>)]\n",
      "'tuple' object has no attribute '__name__'\n",
      "Invalid Regressor(s)\n"
     ]
    },
    {
     "name": "stderr",
     "output_type": "stream",
     "text": [
      "100%|██████████| 1/1 [16:59<00:00, 1019.17s/it]\n"
     ]
    },
    {
     "name": "stdout",
     "output_type": "stream",
     "text": [
      "Processings the following regressors in this chunk:  [('KernelRidge', <class 'sklearn.kernel_ridge.KernelRidge'>)]\n",
      "'tuple' object has no attribute '__name__'\n",
      "Invalid Regressor(s)\n"
     ]
    },
    {
     "name": "stderr",
     "output_type": "stream",
     "text": [
      "100%|██████████| 1/1 [00:04<00:00,  4.11s/it]\n"
     ]
    },
    {
     "name": "stdout",
     "output_type": "stream",
     "text": [
      "Processings the following regressors in this chunk:  [('Lars', <class 'sklearn.linear_model._least_angle.Lars'>)]\n",
      "'tuple' object has no attribute '__name__'\n",
      "Invalid Regressor(s)\n"
     ]
    },
    {
     "name": "stderr",
     "output_type": "stream",
     "text": [
      "100%|██████████| 1/1 [00:10<00:00, 10.26s/it]\n"
     ]
    },
    {
     "name": "stdout",
     "output_type": "stream",
     "text": [
      "Processings the following regressors in this chunk:  [('LarsCV', <class 'sklearn.linear_model._least_angle.LarsCV'>)]\n",
      "'tuple' object has no attribute '__name__'\n",
      "Invalid Regressor(s)\n"
     ]
    },
    {
     "name": "stderr",
     "output_type": "stream",
     "text": [
      "100%|██████████| 1/1 [00:30<00:00, 30.84s/it]\n"
     ]
    },
    {
     "name": "stdout",
     "output_type": "stream",
     "text": [
      "Processings the following regressors in this chunk:  [('Lasso', <class 'sklearn.linear_model._coordinate_descent.Lasso'>)]\n",
      "'tuple' object has no attribute '__name__'\n",
      "Invalid Regressor(s)\n"
     ]
    },
    {
     "name": "stderr",
     "output_type": "stream",
     "text": [
      "100%|██████████| 1/1 [00:14<00:00, 14.59s/it]\n"
     ]
    },
    {
     "name": "stdout",
     "output_type": "stream",
     "text": [
      "Processings the following regressors in this chunk:  [('LassoCV', <class 'sklearn.linear_model._coordinate_descent.LassoCV'>)]\n",
      "'tuple' object has no attribute '__name__'\n",
      "Invalid Regressor(s)\n"
     ]
    },
    {
     "name": "stderr",
     "output_type": "stream",
     "text": [
      "100%|██████████| 1/1 [01:52<00:00, 112.62s/it]\n"
     ]
    },
    {
     "name": "stdout",
     "output_type": "stream",
     "text": [
      "Processings the following regressors in this chunk:  [('LassoLars', <class 'sklearn.linear_model._least_angle.LassoLars'>)]\n",
      "'tuple' object has no attribute '__name__'\n",
      "Invalid Regressor(s)\n"
     ]
    },
    {
     "name": "stderr",
     "output_type": "stream",
     "text": [
      "100%|██████████| 1/1 [00:09<00:00,  9.03s/it]\n"
     ]
    },
    {
     "name": "stdout",
     "output_type": "stream",
     "text": [
      "Processings the following regressors in this chunk:  [('LassoLarsCV', <class 'sklearn.linear_model._least_angle.LassoLarsCV'>)]\n",
      "'tuple' object has no attribute '__name__'\n",
      "Invalid Regressor(s)\n"
     ]
    },
    {
     "name": "stderr",
     "output_type": "stream",
     "text": [
      "100%|██████████| 1/1 [00:19<00:00, 19.41s/it]\n"
     ]
    },
    {
     "name": "stdout",
     "output_type": "stream",
     "text": [
      "Processings the following regressors in this chunk:  [('LassoLarsIC', <class 'sklearn.linear_model._least_angle.LassoLarsIC'>)]\n",
      "'tuple' object has no attribute '__name__'\n",
      "Invalid Regressor(s)\n"
     ]
    },
    {
     "name": "stderr",
     "output_type": "stream",
     "text": [
      "100%|██████████| 1/1 [00:16<00:00, 16.77s/it]\n"
     ]
    },
    {
     "name": "stdout",
     "output_type": "stream",
     "text": [
      "Processings the following regressors in this chunk:  [('LinearRegression', <class 'sklearn.linear_model._base.LinearRegression'>)]\n",
      "'tuple' object has no attribute '__name__'\n",
      "Invalid Regressor(s)\n"
     ]
    },
    {
     "name": "stderr",
     "output_type": "stream",
     "text": [
      "100%|██████████| 1/1 [00:14<00:00, 14.63s/it]\n"
     ]
    },
    {
     "name": "stdout",
     "output_type": "stream",
     "text": [
      "Processings the following regressors in this chunk:  [('LinearSVR', <class 'sklearn.svm._classes.LinearSVR'>)]\n",
      "'tuple' object has no attribute '__name__'\n",
      "Invalid Regressor(s)\n"
     ]
    },
    {
     "name": "stderr",
     "output_type": "stream",
     "text": [
      "100%|██████████| 1/1 [05:01<00:00, 301.83s/it]\n"
     ]
    },
    {
     "name": "stdout",
     "output_type": "stream",
     "text": [
      "Processings the following regressors in this chunk:  [('MLPRegressor', <class 'sklearn.neural_network._multilayer_perceptron.MLPRegressor'>)]\n",
      "'tuple' object has no attribute '__name__'\n",
      "Invalid Regressor(s)\n"
     ]
    },
    {
     "name": "stderr",
     "output_type": "stream",
     "text": [
      "100%|██████████| 1/1 [22:30<00:00, 1350.02s/it]\n"
     ]
    },
    {
     "name": "stdout",
     "output_type": "stream",
     "text": [
      "Processings the following regressors in this chunk:  [('OrthogonalMatchingPursuit', <class 'sklearn.linear_model._omp.OrthogonalMatchingPursuit'>)]\n",
      "'tuple' object has no attribute '__name__'\n",
      "Invalid Regressor(s)\n"
     ]
    },
    {
     "name": "stderr",
     "output_type": "stream",
     "text": [
      "100%|██████████| 1/1 [00:08<00:00,  8.97s/it]\n"
     ]
    },
    {
     "name": "stdout",
     "output_type": "stream",
     "text": [
      "Processings the following regressors in this chunk:  [('OrthogonalMatchingPursuitCV', <class 'sklearn.linear_model._omp.OrthogonalMatchingPursuitCV'>)]\n",
      "'tuple' object has no attribute '__name__'\n",
      "Invalid Regressor(s)\n"
     ]
    },
    {
     "name": "stderr",
     "output_type": "stream",
     "text": [
      "100%|██████████| 1/1 [00:19<00:00, 19.98s/it]\n"
     ]
    },
    {
     "name": "stdout",
     "output_type": "stream",
     "text": [
      "Processings the following regressors in this chunk:  [('PassiveAggressiveRegressor', <class 'sklearn.linear_model._passive_aggressive.PassiveAggressiveRegressor'>)]\n",
      "'tuple' object has no attribute '__name__'\n",
      "Invalid Regressor(s)\n"
     ]
    },
    {
     "name": "stderr",
     "output_type": "stream",
     "text": [
      "100%|██████████| 1/1 [00:12<00:00, 12.41s/it]\n"
     ]
    },
    {
     "name": "stdout",
     "output_type": "stream",
     "text": [
      "Processings the following regressors in this chunk:  [('PoissonRegressor', <class 'sklearn.linear_model._glm.glm.PoissonRegressor'>)]\n",
      "'tuple' object has no attribute '__name__'\n",
      "Invalid Regressor(s)\n"
     ]
    },
    {
     "name": "stderr",
     "output_type": "stream",
     "text": [
      "100%|██████████| 1/1 [00:13<00:00, 13.28s/it]\n"
     ]
    },
    {
     "name": "stdout",
     "output_type": "stream",
     "text": [
      "Processings the following regressors in this chunk:  [('RANSACRegressor', <class 'sklearn.linear_model._ransac.RANSACRegressor'>)]\n",
      "'tuple' object has no attribute '__name__'\n",
      "Invalid Regressor(s)\n"
     ]
    },
    {
     "name": "stderr",
     "output_type": "stream",
     "text": [
      "100%|██████████| 1/1 [00:32<00:00, 32.86s/it]\n"
     ]
    },
    {
     "name": "stdout",
     "output_type": "stream",
     "text": [
      "Processings the following regressors in this chunk:  [('RandomForestRegressor', <class 'sklearn.ensemble._forest.RandomForestRegressor'>)]\n",
      "'tuple' object has no attribute '__name__'\n",
      "Invalid Regressor(s)\n"
     ]
    },
    {
     "name": "stderr",
     "output_type": "stream",
     "text": [
      "100%|██████████| 1/1 [04:52<00:00, 292.67s/it]\n"
     ]
    },
    {
     "name": "stdout",
     "output_type": "stream",
     "text": [
      "Processings the following regressors in this chunk:  [('Ridge', <class 'sklearn.linear_model._ridge.Ridge'>)]\n",
      "'tuple' object has no attribute '__name__'\n",
      "Invalid Regressor(s)\n"
     ]
    },
    {
     "name": "stderr",
     "output_type": "stream",
     "text": [
      "100%|██████████| 1/1 [00:08<00:00,  8.82s/it]\n"
     ]
    },
    {
     "name": "stdout",
     "output_type": "stream",
     "text": [
      "Processings the following regressors in this chunk:  [('RidgeCV', <class 'sklearn.linear_model._ridge.RidgeCV'>)]\n",
      "'tuple' object has no attribute '__name__'\n",
      "Invalid Regressor(s)\n"
     ]
    },
    {
     "name": "stderr",
     "output_type": "stream",
     "text": [
      "100%|██████████| 1/1 [00:19<00:00, 19.11s/it]\n"
     ]
    },
    {
     "name": "stdout",
     "output_type": "stream",
     "text": [
      "Processings the following regressors in this chunk:  [('SGDRegressor', <class 'sklearn.linear_model._stochastic_gradient.SGDRegressor'>)]\n",
      "'tuple' object has no attribute '__name__'\n",
      "Invalid Regressor(s)\n"
     ]
    },
    {
     "name": "stderr",
     "output_type": "stream",
     "text": [
      "100%|██████████| 1/1 [00:10<00:00, 10.10s/it]\n"
     ]
    },
    {
     "name": "stdout",
     "output_type": "stream",
     "text": [
      "Processings the following regressors in this chunk:  [('TransformedTargetRegressor', <class 'sklearn.compose._target.TransformedTargetRegressor'>)]\n",
      "'tuple' object has no attribute '__name__'\n",
      "Invalid Regressor(s)\n"
     ]
    },
    {
     "name": "stderr",
     "output_type": "stream",
     "text": [
      "100%|██████████| 1/1 [00:13<00:00, 13.14s/it]\n"
     ]
    },
    {
     "name": "stdout",
     "output_type": "stream",
     "text": [
      "Processings the following regressors in this chunk:  [('TweedieRegressor', <class 'sklearn.linear_model._glm.glm.TweedieRegressor'>)]\n",
      "'tuple' object has no attribute '__name__'\n",
      "Invalid Regressor(s)\n"
     ]
    },
    {
     "name": "stderr",
     "output_type": "stream",
     "text": [
      "100%|██████████| 1/1 [00:08<00:00,  8.72s/it]\n"
     ]
    },
    {
     "name": "stdout",
     "output_type": "stream",
     "text": [
      "Processings the following regressors in this chunk:  [('XGBRegressor', <class 'xgboost.sklearn.XGBRegressor'>)]\n",
      "'tuple' object has no attribute '__name__'\n",
      "Invalid Regressor(s)\n"
     ]
    },
    {
     "name": "stderr",
     "output_type": "stream",
     "text": [
      "100%|██████████| 1/1 [00:13<00:00, 13.01s/it]\n"
     ]
    },
    {
     "name": "stdout",
     "output_type": "stream",
     "text": [
      "Processings the following regressors in this chunk:  [('LGBMRegressor', <class 'lightgbm.sklearn.LGBMRegressor'>)]\n",
      "'tuple' object has no attribute '__name__'\n",
      "Invalid Regressor(s)\n"
     ]
    },
    {
     "name": "stderr",
     "output_type": "stream",
     "text": [
      "  0%|          | 0/1 [00:00<?, ?it/s]"
     ]
    },
    {
     "name": "stdout",
     "output_type": "stream",
     "text": [
      "[LightGBM] [Info] Auto-choosing row-wise multi-threading, the overhead of testing was 0.092728 seconds.\n",
      "You can set `force_row_wise=true` to remove the overhead.\n",
      "And if memory is not enough, you can set `force_col_wise=true`.\n",
      "[LightGBM] [Info] Total Bins 1566\n",
      "[LightGBM] [Info] Number of data points in the train set: 304128, number of used features: 296\n",
      "[LightGBM] [Info] Start training from score 168.161005\n"
     ]
    },
    {
     "name": "stderr",
     "output_type": "stream",
     "text": [
      "100%|██████████| 1/1 [00:11<00:00, 11.30s/it]\n"
     ]
    }
   ],
   "source": [
    "print(\"Executing LazyRegressor through: \", len(lazy_predict_chunks), \"chunks\")\n",
    "\n",
    "# save compute if executed without predictions\n",
    "predictions_flag = False\n",
    "\n",
    "for chunk in lazy_predict_chunks:\n",
    "    print(\"Processings the following regressors in this chunk: \", chunk.regressors)\n",
    "    reg = LazyRegressor(verbose=0, ignore_warnings=True, custom_metric=None, regressors=chunk.regressors, predictions=predictions_flag)\n",
    "    models,predictions = reg.fit(X_train, X_test, y_train, y_test)\n",
    "    # models,predictions = reg.fit(X_train[:500], X_test[:500], y_train[:500], y_test[:500])\n",
    "\n",
    "    # save trained models with joblib\n",
    "    for model_name, model in reg.models.items():\n",
    "        joblib.dump(model, f\"{OUTPUT_DIR}models/{current_date}-lazy-{model_name}.pkl\")\n",
    "\n",
    "    # store results into LazyPredictChunk variables\n",
    "    chunk.models = deepcopy(models) # deepcopy to not have weird references\n",
    "    if predictions_flag:\n",
    "        chunk.predictions = deepcopy(predictions)"
   ]
  },
  {
   "cell_type": "code",
   "execution_count": 10,
   "metadata": {},
   "outputs": [],
   "source": [
    "# build combined results\n",
    "all_models = pd.DataFrame()\n",
    "all_predictions = pd.DataFrame()\n",
    "\n",
    "for chunk in lazy_predict_chunks:\n",
    "    all_models = pd.concat([all_models, chunk.models])\n",
    "    if predictions_flag:\n",
    "        all_predictions = pd.concat([all_predictions, chunk.predictions])"
   ]
  },
  {
   "cell_type": "code",
   "execution_count": 11,
   "metadata": {},
   "outputs": [
    {
     "data": {
      "text/html": [
       "<div>\n",
       "<style scoped>\n",
       "    .dataframe tbody tr th:only-of-type {\n",
       "        vertical-align: middle;\n",
       "    }\n",
       "\n",
       "    .dataframe tbody tr th {\n",
       "        vertical-align: top;\n",
       "    }\n",
       "\n",
       "    .dataframe thead th {\n",
       "        text-align: right;\n",
       "    }\n",
       "</style>\n",
       "<table border=\"1\" class=\"dataframe\">\n",
       "  <thead>\n",
       "    <tr style=\"text-align: right;\">\n",
       "      <th></th>\n",
       "      <th>Adjusted R-Squared</th>\n",
       "      <th>R-Squared</th>\n",
       "      <th>RMSE</th>\n",
       "      <th>Time Taken</th>\n",
       "    </tr>\n",
       "    <tr>\n",
       "      <th>Model</th>\n",
       "      <th></th>\n",
       "      <th></th>\n",
       "      <th></th>\n",
       "      <th></th>\n",
       "    </tr>\n",
       "  </thead>\n",
       "  <tbody>\n",
       "    <tr>\n",
       "      <th>AdaBoostRegressor</th>\n",
       "      <td>0.40</td>\n",
       "      <td>0.40</td>\n",
       "      <td>19.06</td>\n",
       "      <td>98.53</td>\n",
       "    </tr>\n",
       "    <tr>\n",
       "      <th>BaggingRegressor</th>\n",
       "      <td>0.74</td>\n",
       "      <td>0.74</td>\n",
       "      <td>12.54</td>\n",
       "      <td>47.58</td>\n",
       "    </tr>\n",
       "    <tr>\n",
       "      <th>BayesianRidge</th>\n",
       "      <td>0.86</td>\n",
       "      <td>0.86</td>\n",
       "      <td>9.27</td>\n",
       "      <td>17.80</td>\n",
       "    </tr>\n",
       "    <tr>\n",
       "      <th>DecisionTreeRegressor</th>\n",
       "      <td>0.74</td>\n",
       "      <td>0.74</td>\n",
       "      <td>12.60</td>\n",
       "      <td>12.39</td>\n",
       "    </tr>\n",
       "    <tr>\n",
       "      <th>DummyRegressor</th>\n",
       "      <td>-0.00</td>\n",
       "      <td>-0.00</td>\n",
       "      <td>24.54</td>\n",
       "      <td>7.48</td>\n",
       "    </tr>\n",
       "    <tr>\n",
       "      <th>ElasticNet</th>\n",
       "      <td>0.73</td>\n",
       "      <td>0.73</td>\n",
       "      <td>12.69</td>\n",
       "      <td>10.23</td>\n",
       "    </tr>\n",
       "    <tr>\n",
       "      <th>ElasticNetCV</th>\n",
       "      <td>0.85</td>\n",
       "      <td>0.85</td>\n",
       "      <td>9.42</td>\n",
       "      <td>44.39</td>\n",
       "    </tr>\n",
       "    <tr>\n",
       "      <th>ExtraTreeRegressor</th>\n",
       "      <td>0.97</td>\n",
       "      <td>0.97</td>\n",
       "      <td>3.94</td>\n",
       "      <td>13.62</td>\n",
       "    </tr>\n",
       "    <tr>\n",
       "      <th>ExtraTreesRegressor</th>\n",
       "      <td>0.98</td>\n",
       "      <td>0.98</td>\n",
       "      <td>3.41</td>\n",
       "      <td>539.32</td>\n",
       "    </tr>\n",
       "    <tr>\n",
       "      <th>GammaRegressor</th>\n",
       "      <td>0.74</td>\n",
       "      <td>0.74</td>\n",
       "      <td>12.55</td>\n",
       "      <td>8.75</td>\n",
       "    </tr>\n",
       "    <tr>\n",
       "      <th>GradientBoostingRegressor</th>\n",
       "      <td>0.89</td>\n",
       "      <td>0.89</td>\n",
       "      <td>8.19</td>\n",
       "      <td>149.53</td>\n",
       "    </tr>\n",
       "    <tr>\n",
       "      <th>HistGradientBoostingRegressor</th>\n",
       "      <td>0.95</td>\n",
       "      <td>0.95</td>\n",
       "      <td>5.50</td>\n",
       "      <td>23.23</td>\n",
       "    </tr>\n",
       "    <tr>\n",
       "      <th>HuberRegressor</th>\n",
       "      <td>0.84</td>\n",
       "      <td>0.84</td>\n",
       "      <td>9.86</td>\n",
       "      <td>102.53</td>\n",
       "    </tr>\n",
       "    <tr>\n",
       "      <th>KNeighborsRegressor</th>\n",
       "      <td>0.97</td>\n",
       "      <td>0.97</td>\n",
       "      <td>4.10</td>\n",
       "      <td>1019.17</td>\n",
       "    </tr>\n",
       "    <tr>\n",
       "      <th>Lars</th>\n",
       "      <td>-4015477913198231598010423081607596804565174343...</td>\n",
       "      <td>-4013904085838523011216779871112937876628255871...</td>\n",
       "      <td>15544217683395671830533505024.00</td>\n",
       "      <td>10.26</td>\n",
       "    </tr>\n",
       "    <tr>\n",
       "      <th>LarsCV</th>\n",
       "      <td>0.71</td>\n",
       "      <td>0.71</td>\n",
       "      <td>13.13</td>\n",
       "      <td>30.83</td>\n",
       "    </tr>\n",
       "    <tr>\n",
       "      <th>Lasso</th>\n",
       "      <td>0.76</td>\n",
       "      <td>0.76</td>\n",
       "      <td>11.99</td>\n",
       "      <td>14.59</td>\n",
       "    </tr>\n",
       "    <tr>\n",
       "      <th>LassoCV</th>\n",
       "      <td>0.86</td>\n",
       "      <td>0.86</td>\n",
       "      <td>9.29</td>\n",
       "      <td>112.62</td>\n",
       "    </tr>\n",
       "    <tr>\n",
       "      <th>LassoLars</th>\n",
       "      <td>0.76</td>\n",
       "      <td>0.76</td>\n",
       "      <td>11.95</td>\n",
       "      <td>9.03</td>\n",
       "    </tr>\n",
       "    <tr>\n",
       "      <th>LassoLarsCV</th>\n",
       "      <td>0.85</td>\n",
       "      <td>0.85</td>\n",
       "      <td>9.41</td>\n",
       "      <td>19.41</td>\n",
       "    </tr>\n",
       "    <tr>\n",
       "      <th>LassoLarsIC</th>\n",
       "      <td>0.85</td>\n",
       "      <td>0.85</td>\n",
       "      <td>9.41</td>\n",
       "      <td>16.77</td>\n",
       "    </tr>\n",
       "    <tr>\n",
       "      <th>LinearRegression</th>\n",
       "      <td>0.86</td>\n",
       "      <td>0.86</td>\n",
       "      <td>9.28</td>\n",
       "      <td>14.63</td>\n",
       "    </tr>\n",
       "    <tr>\n",
       "      <th>LinearSVR</th>\n",
       "      <td>0.83</td>\n",
       "      <td>0.83</td>\n",
       "      <td>10.04</td>\n",
       "      <td>301.83</td>\n",
       "    </tr>\n",
       "    <tr>\n",
       "      <th>MLPRegressor</th>\n",
       "      <td>0.96</td>\n",
       "      <td>0.96</td>\n",
       "      <td>4.95</td>\n",
       "      <td>1350.02</td>\n",
       "    </tr>\n",
       "    <tr>\n",
       "      <th>OrthogonalMatchingPursuit</th>\n",
       "      <td>0.81</td>\n",
       "      <td>0.81</td>\n",
       "      <td>10.66</td>\n",
       "      <td>8.97</td>\n",
       "    </tr>\n",
       "    <tr>\n",
       "      <th>OrthogonalMatchingPursuitCV</th>\n",
       "      <td>0.81</td>\n",
       "      <td>0.81</td>\n",
       "      <td>10.66</td>\n",
       "      <td>19.98</td>\n",
       "    </tr>\n",
       "    <tr>\n",
       "      <th>PassiveAggressiveRegressor</th>\n",
       "      <td>0.77</td>\n",
       "      <td>0.77</td>\n",
       "      <td>11.66</td>\n",
       "      <td>12.41</td>\n",
       "    </tr>\n",
       "    <tr>\n",
       "      <th>PoissonRegressor</th>\n",
       "      <td>0.86</td>\n",
       "      <td>0.86</td>\n",
       "      <td>9.29</td>\n",
       "      <td>13.26</td>\n",
       "    </tr>\n",
       "    <tr>\n",
       "      <th>RANSACRegressor</th>\n",
       "      <td>0.72</td>\n",
       "      <td>0.72</td>\n",
       "      <td>12.94</td>\n",
       "      <td>32.86</td>\n",
       "    </tr>\n",
       "    <tr>\n",
       "      <th>RandomForestRegressor</th>\n",
       "      <td>0.74</td>\n",
       "      <td>0.74</td>\n",
       "      <td>12.53</td>\n",
       "      <td>292.67</td>\n",
       "    </tr>\n",
       "    <tr>\n",
       "      <th>Ridge</th>\n",
       "      <td>0.86</td>\n",
       "      <td>0.86</td>\n",
       "      <td>9.28</td>\n",
       "      <td>8.82</td>\n",
       "    </tr>\n",
       "    <tr>\n",
       "      <th>RidgeCV</th>\n",
       "      <td>0.86</td>\n",
       "      <td>0.86</td>\n",
       "      <td>9.28</td>\n",
       "      <td>19.11</td>\n",
       "    </tr>\n",
       "    <tr>\n",
       "      <th>SGDRegressor</th>\n",
       "      <td>-5107586991522949120.00</td>\n",
       "      <td>-5105585122673682432.00</td>\n",
       "      <td>55438074139.06</td>\n",
       "      <td>10.10</td>\n",
       "    </tr>\n",
       "    <tr>\n",
       "      <th>TransformedTargetRegressor</th>\n",
       "      <td>0.86</td>\n",
       "      <td>0.86</td>\n",
       "      <td>9.28</td>\n",
       "      <td>13.14</td>\n",
       "    </tr>\n",
       "    <tr>\n",
       "      <th>TweedieRegressor</th>\n",
       "      <td>0.74</td>\n",
       "      <td>0.74</td>\n",
       "      <td>12.41</td>\n",
       "      <td>8.72</td>\n",
       "    </tr>\n",
       "    <tr>\n",
       "      <th>XGBRegressor</th>\n",
       "      <td>0.67</td>\n",
       "      <td>0.67</td>\n",
       "      <td>14.13</td>\n",
       "      <td>13.01</td>\n",
       "    </tr>\n",
       "    <tr>\n",
       "      <th>LGBMRegressor</th>\n",
       "      <td>0.96</td>\n",
       "      <td>0.96</td>\n",
       "      <td>4.95</td>\n",
       "      <td>11.30</td>\n",
       "    </tr>\n",
       "  </tbody>\n",
       "</table>\n",
       "</div>"
      ],
      "text/plain": [
       "                                                              Adjusted R-Squared  \\\n",
       "Model                                                                              \n",
       "AdaBoostRegressor                                                           0.40   \n",
       "BaggingRegressor                                                            0.74   \n",
       "BayesianRidge                                                               0.86   \n",
       "DecisionTreeRegressor                                                       0.74   \n",
       "DummyRegressor                                                             -0.00   \n",
       "ElasticNet                                                                  0.73   \n",
       "ElasticNetCV                                                                0.85   \n",
       "ExtraTreeRegressor                                                          0.97   \n",
       "ExtraTreesRegressor                                                         0.98   \n",
       "GammaRegressor                                                              0.74   \n",
       "GradientBoostingRegressor                                                   0.89   \n",
       "HistGradientBoostingRegressor                                               0.95   \n",
       "HuberRegressor                                                              0.84   \n",
       "KNeighborsRegressor                                                         0.97   \n",
       "Lars                          -4015477913198231598010423081607596804565174343...   \n",
       "LarsCV                                                                      0.71   \n",
       "Lasso                                                                       0.76   \n",
       "LassoCV                                                                     0.86   \n",
       "LassoLars                                                                   0.76   \n",
       "LassoLarsCV                                                                 0.85   \n",
       "LassoLarsIC                                                                 0.85   \n",
       "LinearRegression                                                            0.86   \n",
       "LinearSVR                                                                   0.83   \n",
       "MLPRegressor                                                                0.96   \n",
       "OrthogonalMatchingPursuit                                                   0.81   \n",
       "OrthogonalMatchingPursuitCV                                                 0.81   \n",
       "PassiveAggressiveRegressor                                                  0.77   \n",
       "PoissonRegressor                                                            0.86   \n",
       "RANSACRegressor                                                             0.72   \n",
       "RandomForestRegressor                                                       0.74   \n",
       "Ridge                                                                       0.86   \n",
       "RidgeCV                                                                     0.86   \n",
       "SGDRegressor                                             -5107586991522949120.00   \n",
       "TransformedTargetRegressor                                                  0.86   \n",
       "TweedieRegressor                                                            0.74   \n",
       "XGBRegressor                                                                0.67   \n",
       "LGBMRegressor                                                               0.96   \n",
       "\n",
       "                                                                       R-Squared  \\\n",
       "Model                                                                              \n",
       "AdaBoostRegressor                                                           0.40   \n",
       "BaggingRegressor                                                            0.74   \n",
       "BayesianRidge                                                               0.86   \n",
       "DecisionTreeRegressor                                                       0.74   \n",
       "DummyRegressor                                                             -0.00   \n",
       "ElasticNet                                                                  0.73   \n",
       "ElasticNetCV                                                                0.85   \n",
       "ExtraTreeRegressor                                                          0.97   \n",
       "ExtraTreesRegressor                                                         0.98   \n",
       "GammaRegressor                                                              0.74   \n",
       "GradientBoostingRegressor                                                   0.89   \n",
       "HistGradientBoostingRegressor                                               0.95   \n",
       "HuberRegressor                                                              0.84   \n",
       "KNeighborsRegressor                                                         0.97   \n",
       "Lars                          -4013904085838523011216779871112937876628255871...   \n",
       "LarsCV                                                                      0.71   \n",
       "Lasso                                                                       0.76   \n",
       "LassoCV                                                                     0.86   \n",
       "LassoLars                                                                   0.76   \n",
       "LassoLarsCV                                                                 0.85   \n",
       "LassoLarsIC                                                                 0.85   \n",
       "LinearRegression                                                            0.86   \n",
       "LinearSVR                                                                   0.83   \n",
       "MLPRegressor                                                                0.96   \n",
       "OrthogonalMatchingPursuit                                                   0.81   \n",
       "OrthogonalMatchingPursuitCV                                                 0.81   \n",
       "PassiveAggressiveRegressor                                                  0.77   \n",
       "PoissonRegressor                                                            0.86   \n",
       "RANSACRegressor                                                             0.72   \n",
       "RandomForestRegressor                                                       0.74   \n",
       "Ridge                                                                       0.86   \n",
       "RidgeCV                                                                     0.86   \n",
       "SGDRegressor                                             -5105585122673682432.00   \n",
       "TransformedTargetRegressor                                                  0.86   \n",
       "TweedieRegressor                                                            0.74   \n",
       "XGBRegressor                                                                0.67   \n",
       "LGBMRegressor                                                               0.96   \n",
       "\n",
       "                                                          RMSE  Time Taken  \n",
       "Model                                                                       \n",
       "AdaBoostRegressor                                        19.06       98.53  \n",
       "BaggingRegressor                                         12.54       47.58  \n",
       "BayesianRidge                                             9.27       17.80  \n",
       "DecisionTreeRegressor                                    12.60       12.39  \n",
       "DummyRegressor                                           24.54        7.48  \n",
       "ElasticNet                                               12.69       10.23  \n",
       "ElasticNetCV                                              9.42       44.39  \n",
       "ExtraTreeRegressor                                        3.94       13.62  \n",
       "ExtraTreesRegressor                                       3.41      539.32  \n",
       "GammaRegressor                                           12.55        8.75  \n",
       "GradientBoostingRegressor                                 8.19      149.53  \n",
       "HistGradientBoostingRegressor                             5.50       23.23  \n",
       "HuberRegressor                                            9.86      102.53  \n",
       "KNeighborsRegressor                                       4.10     1019.17  \n",
       "Lars                          15544217683395671830533505024.00       10.26  \n",
       "LarsCV                                                   13.13       30.83  \n",
       "Lasso                                                    11.99       14.59  \n",
       "LassoCV                                                   9.29      112.62  \n",
       "LassoLars                                                11.95        9.03  \n",
       "LassoLarsCV                                               9.41       19.41  \n",
       "LassoLarsIC                                               9.41       16.77  \n",
       "LinearRegression                                          9.28       14.63  \n",
       "LinearSVR                                                10.04      301.83  \n",
       "MLPRegressor                                              4.95     1350.02  \n",
       "OrthogonalMatchingPursuit                                10.66        8.97  \n",
       "OrthogonalMatchingPursuitCV                              10.66       19.98  \n",
       "PassiveAggressiveRegressor                               11.66       12.41  \n",
       "PoissonRegressor                                          9.29       13.26  \n",
       "RANSACRegressor                                          12.94       32.86  \n",
       "RandomForestRegressor                                    12.53      292.67  \n",
       "Ridge                                                     9.28        8.82  \n",
       "RidgeCV                                                   9.28       19.11  \n",
       "SGDRegressor                                    55438074139.06       10.10  \n",
       "TransformedTargetRegressor                                9.28       13.14  \n",
       "TweedieRegressor                                         12.41        8.72  \n",
       "XGBRegressor                                             14.13       13.01  \n",
       "LGBMRegressor                                             4.95       11.30  "
      ]
     },
     "execution_count": 11,
     "metadata": {},
     "output_type": "execute_result"
    }
   ],
   "source": [
    "output_file = OUTPUT_DIR + current_date + \"-lazy_models.csv\"\n",
    "all_models.to_csv(output_file)\n",
    "all_models"
   ]
  },
  {
   "cell_type": "code",
   "execution_count": 12,
   "metadata": {},
   "outputs": [],
   "source": [
    "if predictions_flag:\n",
    "    output_file = OUTPUT_DIR + current_date + \"-lazy_predictions.csv\"\n",
    "    all_predictions.to_csv(output_file)\n",
    "    all_predictions"
   ]
  },
  {
   "cell_type": "code",
   "execution_count": 13,
   "metadata": {},
   "outputs": [
    {
     "name": "stdout",
     "output_type": "stream",
     "text": [
      "Predictions ran on X_train of shape:  (304128, 298)\n"
     ]
    }
   ],
   "source": [
    "print(\"Predictions ran on X_train of shape: \", X_train.shape)"
   ]
  },
  {
   "cell_type": "code",
   "execution_count": 14,
   "metadata": {},
   "outputs": [
    {
     "data": {
      "text/plain": [
       "Index(['Adjusted R-Squared', 'R-Squared', 'RMSE', 'Time Taken'], dtype='object')"
      ]
     },
     "execution_count": 14,
     "metadata": {},
     "output_type": "execute_result"
    }
   ],
   "source": [
    "all_models.columns"
   ]
  },
  {
   "cell_type": "markdown",
   "metadata": {},
   "source": [
    "Models sorted by R-Squared"
   ]
  },
  {
   "cell_type": "code",
   "execution_count": 15,
   "metadata": {},
   "outputs": [
    {
     "data": {
      "text/html": [
       "<div>\n",
       "<style scoped>\n",
       "    .dataframe tbody tr th:only-of-type {\n",
       "        vertical-align: middle;\n",
       "    }\n",
       "\n",
       "    .dataframe tbody tr th {\n",
       "        vertical-align: top;\n",
       "    }\n",
       "\n",
       "    .dataframe thead th {\n",
       "        text-align: right;\n",
       "    }\n",
       "</style>\n",
       "<table border=\"1\" class=\"dataframe\">\n",
       "  <thead>\n",
       "    <tr style=\"text-align: right;\">\n",
       "      <th></th>\n",
       "      <th>Adjusted R-Squared</th>\n",
       "      <th>R-Squared</th>\n",
       "      <th>RMSE</th>\n",
       "      <th>Time Taken</th>\n",
       "    </tr>\n",
       "    <tr>\n",
       "      <th>Model</th>\n",
       "      <th></th>\n",
       "      <th></th>\n",
       "      <th></th>\n",
       "      <th></th>\n",
       "    </tr>\n",
       "  </thead>\n",
       "  <tbody>\n",
       "    <tr>\n",
       "      <th>ExtraTreesRegressor</th>\n",
       "      <td>0.98</td>\n",
       "      <td>0.98</td>\n",
       "      <td>3.41</td>\n",
       "      <td>539.32</td>\n",
       "    </tr>\n",
       "    <tr>\n",
       "      <th>ExtraTreeRegressor</th>\n",
       "      <td>0.97</td>\n",
       "      <td>0.97</td>\n",
       "      <td>3.94</td>\n",
       "      <td>13.62</td>\n",
       "    </tr>\n",
       "    <tr>\n",
       "      <th>KNeighborsRegressor</th>\n",
       "      <td>0.97</td>\n",
       "      <td>0.97</td>\n",
       "      <td>4.10</td>\n",
       "      <td>1019.17</td>\n",
       "    </tr>\n",
       "    <tr>\n",
       "      <th>LGBMRegressor</th>\n",
       "      <td>0.96</td>\n",
       "      <td>0.96</td>\n",
       "      <td>4.95</td>\n",
       "      <td>11.30</td>\n",
       "    </tr>\n",
       "    <tr>\n",
       "      <th>MLPRegressor</th>\n",
       "      <td>0.96</td>\n",
       "      <td>0.96</td>\n",
       "      <td>4.95</td>\n",
       "      <td>1350.02</td>\n",
       "    </tr>\n",
       "    <tr>\n",
       "      <th>HistGradientBoostingRegressor</th>\n",
       "      <td>0.95</td>\n",
       "      <td>0.95</td>\n",
       "      <td>5.50</td>\n",
       "      <td>23.23</td>\n",
       "    </tr>\n",
       "    <tr>\n",
       "      <th>GradientBoostingRegressor</th>\n",
       "      <td>0.89</td>\n",
       "      <td>0.89</td>\n",
       "      <td>8.19</td>\n",
       "      <td>149.53</td>\n",
       "    </tr>\n",
       "    <tr>\n",
       "      <th>BayesianRidge</th>\n",
       "      <td>0.86</td>\n",
       "      <td>0.86</td>\n",
       "      <td>9.27</td>\n",
       "      <td>17.80</td>\n",
       "    </tr>\n",
       "    <tr>\n",
       "      <th>RidgeCV</th>\n",
       "      <td>0.86</td>\n",
       "      <td>0.86</td>\n",
       "      <td>9.28</td>\n",
       "      <td>19.11</td>\n",
       "    </tr>\n",
       "    <tr>\n",
       "      <th>Ridge</th>\n",
       "      <td>0.86</td>\n",
       "      <td>0.86</td>\n",
       "      <td>9.28</td>\n",
       "      <td>8.82</td>\n",
       "    </tr>\n",
       "    <tr>\n",
       "      <th>TransformedTargetRegressor</th>\n",
       "      <td>0.86</td>\n",
       "      <td>0.86</td>\n",
       "      <td>9.28</td>\n",
       "      <td>13.14</td>\n",
       "    </tr>\n",
       "    <tr>\n",
       "      <th>LinearRegression</th>\n",
       "      <td>0.86</td>\n",
       "      <td>0.86</td>\n",
       "      <td>9.28</td>\n",
       "      <td>14.63</td>\n",
       "    </tr>\n",
       "    <tr>\n",
       "      <th>PoissonRegressor</th>\n",
       "      <td>0.86</td>\n",
       "      <td>0.86</td>\n",
       "      <td>9.29</td>\n",
       "      <td>13.26</td>\n",
       "    </tr>\n",
       "    <tr>\n",
       "      <th>LassoCV</th>\n",
       "      <td>0.86</td>\n",
       "      <td>0.86</td>\n",
       "      <td>9.29</td>\n",
       "      <td>112.62</td>\n",
       "    </tr>\n",
       "    <tr>\n",
       "      <th>LassoLarsIC</th>\n",
       "      <td>0.85</td>\n",
       "      <td>0.85</td>\n",
       "      <td>9.41</td>\n",
       "      <td>16.77</td>\n",
       "    </tr>\n",
       "    <tr>\n",
       "      <th>LassoLarsCV</th>\n",
       "      <td>0.85</td>\n",
       "      <td>0.85</td>\n",
       "      <td>9.41</td>\n",
       "      <td>19.41</td>\n",
       "    </tr>\n",
       "    <tr>\n",
       "      <th>ElasticNetCV</th>\n",
       "      <td>0.85</td>\n",
       "      <td>0.85</td>\n",
       "      <td>9.42</td>\n",
       "      <td>44.39</td>\n",
       "    </tr>\n",
       "    <tr>\n",
       "      <th>HuberRegressor</th>\n",
       "      <td>0.84</td>\n",
       "      <td>0.84</td>\n",
       "      <td>9.86</td>\n",
       "      <td>102.53</td>\n",
       "    </tr>\n",
       "    <tr>\n",
       "      <th>LinearSVR</th>\n",
       "      <td>0.83</td>\n",
       "      <td>0.83</td>\n",
       "      <td>10.04</td>\n",
       "      <td>301.83</td>\n",
       "    </tr>\n",
       "    <tr>\n",
       "      <th>OrthogonalMatchingPursuitCV</th>\n",
       "      <td>0.81</td>\n",
       "      <td>0.81</td>\n",
       "      <td>10.66</td>\n",
       "      <td>19.98</td>\n",
       "    </tr>\n",
       "    <tr>\n",
       "      <th>OrthogonalMatchingPursuit</th>\n",
       "      <td>0.81</td>\n",
       "      <td>0.81</td>\n",
       "      <td>10.66</td>\n",
       "      <td>8.97</td>\n",
       "    </tr>\n",
       "    <tr>\n",
       "      <th>PassiveAggressiveRegressor</th>\n",
       "      <td>0.77</td>\n",
       "      <td>0.77</td>\n",
       "      <td>11.66</td>\n",
       "      <td>12.41</td>\n",
       "    </tr>\n",
       "    <tr>\n",
       "      <th>LassoLars</th>\n",
       "      <td>0.76</td>\n",
       "      <td>0.76</td>\n",
       "      <td>11.95</td>\n",
       "      <td>9.03</td>\n",
       "    </tr>\n",
       "    <tr>\n",
       "      <th>Lasso</th>\n",
       "      <td>0.76</td>\n",
       "      <td>0.76</td>\n",
       "      <td>11.99</td>\n",
       "      <td>14.59</td>\n",
       "    </tr>\n",
       "    <tr>\n",
       "      <th>TweedieRegressor</th>\n",
       "      <td>0.74</td>\n",
       "      <td>0.74</td>\n",
       "      <td>12.41</td>\n",
       "      <td>8.72</td>\n",
       "    </tr>\n",
       "    <tr>\n",
       "      <th>RandomForestRegressor</th>\n",
       "      <td>0.74</td>\n",
       "      <td>0.74</td>\n",
       "      <td>12.53</td>\n",
       "      <td>292.67</td>\n",
       "    </tr>\n",
       "    <tr>\n",
       "      <th>BaggingRegressor</th>\n",
       "      <td>0.74</td>\n",
       "      <td>0.74</td>\n",
       "      <td>12.54</td>\n",
       "      <td>47.58</td>\n",
       "    </tr>\n",
       "    <tr>\n",
       "      <th>GammaRegressor</th>\n",
       "      <td>0.74</td>\n",
       "      <td>0.74</td>\n",
       "      <td>12.55</td>\n",
       "      <td>8.75</td>\n",
       "    </tr>\n",
       "    <tr>\n",
       "      <th>DecisionTreeRegressor</th>\n",
       "      <td>0.74</td>\n",
       "      <td>0.74</td>\n",
       "      <td>12.60</td>\n",
       "      <td>12.39</td>\n",
       "    </tr>\n",
       "    <tr>\n",
       "      <th>ElasticNet</th>\n",
       "      <td>0.73</td>\n",
       "      <td>0.73</td>\n",
       "      <td>12.69</td>\n",
       "      <td>10.23</td>\n",
       "    </tr>\n",
       "    <tr>\n",
       "      <th>RANSACRegressor</th>\n",
       "      <td>0.72</td>\n",
       "      <td>0.72</td>\n",
       "      <td>12.94</td>\n",
       "      <td>32.86</td>\n",
       "    </tr>\n",
       "    <tr>\n",
       "      <th>LarsCV</th>\n",
       "      <td>0.71</td>\n",
       "      <td>0.71</td>\n",
       "      <td>13.13</td>\n",
       "      <td>30.83</td>\n",
       "    </tr>\n",
       "    <tr>\n",
       "      <th>XGBRegressor</th>\n",
       "      <td>0.67</td>\n",
       "      <td>0.67</td>\n",
       "      <td>14.13</td>\n",
       "      <td>13.01</td>\n",
       "    </tr>\n",
       "    <tr>\n",
       "      <th>AdaBoostRegressor</th>\n",
       "      <td>0.40</td>\n",
       "      <td>0.40</td>\n",
       "      <td>19.06</td>\n",
       "      <td>98.53</td>\n",
       "    </tr>\n",
       "    <tr>\n",
       "      <th>DummyRegressor</th>\n",
       "      <td>-0.00</td>\n",
       "      <td>-0.00</td>\n",
       "      <td>24.54</td>\n",
       "      <td>7.48</td>\n",
       "    </tr>\n",
       "    <tr>\n",
       "      <th>SGDRegressor</th>\n",
       "      <td>-5107586991522949120.00</td>\n",
       "      <td>-5105585122673682432.00</td>\n",
       "      <td>55438074139.06</td>\n",
       "      <td>10.10</td>\n",
       "    </tr>\n",
       "    <tr>\n",
       "      <th>Lars</th>\n",
       "      <td>-4015477913198231598010423081607596804565174343...</td>\n",
       "      <td>-4013904085838523011216779871112937876628255871...</td>\n",
       "      <td>15544217683395671830533505024.00</td>\n",
       "      <td>10.26</td>\n",
       "    </tr>\n",
       "  </tbody>\n",
       "</table>\n",
       "</div>"
      ],
      "text/plain": [
       "                                                              Adjusted R-Squared  \\\n",
       "Model                                                                              \n",
       "ExtraTreesRegressor                                                         0.98   \n",
       "ExtraTreeRegressor                                                          0.97   \n",
       "KNeighborsRegressor                                                         0.97   \n",
       "LGBMRegressor                                                               0.96   \n",
       "MLPRegressor                                                                0.96   \n",
       "HistGradientBoostingRegressor                                               0.95   \n",
       "GradientBoostingRegressor                                                   0.89   \n",
       "BayesianRidge                                                               0.86   \n",
       "RidgeCV                                                                     0.86   \n",
       "Ridge                                                                       0.86   \n",
       "TransformedTargetRegressor                                                  0.86   \n",
       "LinearRegression                                                            0.86   \n",
       "PoissonRegressor                                                            0.86   \n",
       "LassoCV                                                                     0.86   \n",
       "LassoLarsIC                                                                 0.85   \n",
       "LassoLarsCV                                                                 0.85   \n",
       "ElasticNetCV                                                                0.85   \n",
       "HuberRegressor                                                              0.84   \n",
       "LinearSVR                                                                   0.83   \n",
       "OrthogonalMatchingPursuitCV                                                 0.81   \n",
       "OrthogonalMatchingPursuit                                                   0.81   \n",
       "PassiveAggressiveRegressor                                                  0.77   \n",
       "LassoLars                                                                   0.76   \n",
       "Lasso                                                                       0.76   \n",
       "TweedieRegressor                                                            0.74   \n",
       "RandomForestRegressor                                                       0.74   \n",
       "BaggingRegressor                                                            0.74   \n",
       "GammaRegressor                                                              0.74   \n",
       "DecisionTreeRegressor                                                       0.74   \n",
       "ElasticNet                                                                  0.73   \n",
       "RANSACRegressor                                                             0.72   \n",
       "LarsCV                                                                      0.71   \n",
       "XGBRegressor                                                                0.67   \n",
       "AdaBoostRegressor                                                           0.40   \n",
       "DummyRegressor                                                             -0.00   \n",
       "SGDRegressor                                             -5107586991522949120.00   \n",
       "Lars                          -4015477913198231598010423081607596804565174343...   \n",
       "\n",
       "                                                                       R-Squared  \\\n",
       "Model                                                                              \n",
       "ExtraTreesRegressor                                                         0.98   \n",
       "ExtraTreeRegressor                                                          0.97   \n",
       "KNeighborsRegressor                                                         0.97   \n",
       "LGBMRegressor                                                               0.96   \n",
       "MLPRegressor                                                                0.96   \n",
       "HistGradientBoostingRegressor                                               0.95   \n",
       "GradientBoostingRegressor                                                   0.89   \n",
       "BayesianRidge                                                               0.86   \n",
       "RidgeCV                                                                     0.86   \n",
       "Ridge                                                                       0.86   \n",
       "TransformedTargetRegressor                                                  0.86   \n",
       "LinearRegression                                                            0.86   \n",
       "PoissonRegressor                                                            0.86   \n",
       "LassoCV                                                                     0.86   \n",
       "LassoLarsIC                                                                 0.85   \n",
       "LassoLarsCV                                                                 0.85   \n",
       "ElasticNetCV                                                                0.85   \n",
       "HuberRegressor                                                              0.84   \n",
       "LinearSVR                                                                   0.83   \n",
       "OrthogonalMatchingPursuitCV                                                 0.81   \n",
       "OrthogonalMatchingPursuit                                                   0.81   \n",
       "PassiveAggressiveRegressor                                                  0.77   \n",
       "LassoLars                                                                   0.76   \n",
       "Lasso                                                                       0.76   \n",
       "TweedieRegressor                                                            0.74   \n",
       "RandomForestRegressor                                                       0.74   \n",
       "BaggingRegressor                                                            0.74   \n",
       "GammaRegressor                                                              0.74   \n",
       "DecisionTreeRegressor                                                       0.74   \n",
       "ElasticNet                                                                  0.73   \n",
       "RANSACRegressor                                                             0.72   \n",
       "LarsCV                                                                      0.71   \n",
       "XGBRegressor                                                                0.67   \n",
       "AdaBoostRegressor                                                           0.40   \n",
       "DummyRegressor                                                             -0.00   \n",
       "SGDRegressor                                             -5105585122673682432.00   \n",
       "Lars                          -4013904085838523011216779871112937876628255871...   \n",
       "\n",
       "                                                          RMSE  Time Taken  \n",
       "Model                                                                       \n",
       "ExtraTreesRegressor                                       3.41      539.32  \n",
       "ExtraTreeRegressor                                        3.94       13.62  \n",
       "KNeighborsRegressor                                       4.10     1019.17  \n",
       "LGBMRegressor                                             4.95       11.30  \n",
       "MLPRegressor                                              4.95     1350.02  \n",
       "HistGradientBoostingRegressor                             5.50       23.23  \n",
       "GradientBoostingRegressor                                 8.19      149.53  \n",
       "BayesianRidge                                             9.27       17.80  \n",
       "RidgeCV                                                   9.28       19.11  \n",
       "Ridge                                                     9.28        8.82  \n",
       "TransformedTargetRegressor                                9.28       13.14  \n",
       "LinearRegression                                          9.28       14.63  \n",
       "PoissonRegressor                                          9.29       13.26  \n",
       "LassoCV                                                   9.29      112.62  \n",
       "LassoLarsIC                                               9.41       16.77  \n",
       "LassoLarsCV                                               9.41       19.41  \n",
       "ElasticNetCV                                              9.42       44.39  \n",
       "HuberRegressor                                            9.86      102.53  \n",
       "LinearSVR                                                10.04      301.83  \n",
       "OrthogonalMatchingPursuitCV                              10.66       19.98  \n",
       "OrthogonalMatchingPursuit                                10.66        8.97  \n",
       "PassiveAggressiveRegressor                               11.66       12.41  \n",
       "LassoLars                                                11.95        9.03  \n",
       "Lasso                                                    11.99       14.59  \n",
       "TweedieRegressor                                         12.41        8.72  \n",
       "RandomForestRegressor                                    12.53      292.67  \n",
       "BaggingRegressor                                         12.54       47.58  \n",
       "GammaRegressor                                           12.55        8.75  \n",
       "DecisionTreeRegressor                                    12.60       12.39  \n",
       "ElasticNet                                               12.69       10.23  \n",
       "RANSACRegressor                                          12.94       32.86  \n",
       "LarsCV                                                   13.13       30.83  \n",
       "XGBRegressor                                             14.13       13.01  \n",
       "AdaBoostRegressor                                        19.06       98.53  \n",
       "DummyRegressor                                           24.54        7.48  \n",
       "SGDRegressor                                    55438074139.06       10.10  \n",
       "Lars                          15544217683395671830533505024.00       10.26  "
      ]
     },
     "execution_count": 15,
     "metadata": {},
     "output_type": "execute_result"
    }
   ],
   "source": [
    "all_models.sort_values(by=['R-Squared'], ascending=False)"
   ]
  },
  {
   "cell_type": "markdown",
   "metadata": {},
   "source": [
    "Models sorted by Time Taken"
   ]
  },
  {
   "cell_type": "code",
   "execution_count": 16,
   "metadata": {},
   "outputs": [
    {
     "data": {
      "text/html": [
       "<div>\n",
       "<style scoped>\n",
       "    .dataframe tbody tr th:only-of-type {\n",
       "        vertical-align: middle;\n",
       "    }\n",
       "\n",
       "    .dataframe tbody tr th {\n",
       "        vertical-align: top;\n",
       "    }\n",
       "\n",
       "    .dataframe thead th {\n",
       "        text-align: right;\n",
       "    }\n",
       "</style>\n",
       "<table border=\"1\" class=\"dataframe\">\n",
       "  <thead>\n",
       "    <tr style=\"text-align: right;\">\n",
       "      <th></th>\n",
       "      <th>Adjusted R-Squared</th>\n",
       "      <th>R-Squared</th>\n",
       "      <th>RMSE</th>\n",
       "      <th>Time Taken</th>\n",
       "    </tr>\n",
       "    <tr>\n",
       "      <th>Model</th>\n",
       "      <th></th>\n",
       "      <th></th>\n",
       "      <th></th>\n",
       "      <th></th>\n",
       "    </tr>\n",
       "  </thead>\n",
       "  <tbody>\n",
       "    <tr>\n",
       "      <th>MLPRegressor</th>\n",
       "      <td>0.96</td>\n",
       "      <td>0.96</td>\n",
       "      <td>4.95</td>\n",
       "      <td>1350.02</td>\n",
       "    </tr>\n",
       "    <tr>\n",
       "      <th>KNeighborsRegressor</th>\n",
       "      <td>0.97</td>\n",
       "      <td>0.97</td>\n",
       "      <td>4.10</td>\n",
       "      <td>1019.17</td>\n",
       "    </tr>\n",
       "    <tr>\n",
       "      <th>ExtraTreesRegressor</th>\n",
       "      <td>0.98</td>\n",
       "      <td>0.98</td>\n",
       "      <td>3.41</td>\n",
       "      <td>539.32</td>\n",
       "    </tr>\n",
       "    <tr>\n",
       "      <th>LinearSVR</th>\n",
       "      <td>0.83</td>\n",
       "      <td>0.83</td>\n",
       "      <td>10.04</td>\n",
       "      <td>301.83</td>\n",
       "    </tr>\n",
       "    <tr>\n",
       "      <th>RandomForestRegressor</th>\n",
       "      <td>0.74</td>\n",
       "      <td>0.74</td>\n",
       "      <td>12.53</td>\n",
       "      <td>292.67</td>\n",
       "    </tr>\n",
       "    <tr>\n",
       "      <th>GradientBoostingRegressor</th>\n",
       "      <td>0.89</td>\n",
       "      <td>0.89</td>\n",
       "      <td>8.19</td>\n",
       "      <td>149.53</td>\n",
       "    </tr>\n",
       "    <tr>\n",
       "      <th>LassoCV</th>\n",
       "      <td>0.86</td>\n",
       "      <td>0.86</td>\n",
       "      <td>9.29</td>\n",
       "      <td>112.62</td>\n",
       "    </tr>\n",
       "    <tr>\n",
       "      <th>HuberRegressor</th>\n",
       "      <td>0.84</td>\n",
       "      <td>0.84</td>\n",
       "      <td>9.86</td>\n",
       "      <td>102.53</td>\n",
       "    </tr>\n",
       "    <tr>\n",
       "      <th>AdaBoostRegressor</th>\n",
       "      <td>0.40</td>\n",
       "      <td>0.40</td>\n",
       "      <td>19.06</td>\n",
       "      <td>98.53</td>\n",
       "    </tr>\n",
       "    <tr>\n",
       "      <th>BaggingRegressor</th>\n",
       "      <td>0.74</td>\n",
       "      <td>0.74</td>\n",
       "      <td>12.54</td>\n",
       "      <td>47.58</td>\n",
       "    </tr>\n",
       "    <tr>\n",
       "      <th>ElasticNetCV</th>\n",
       "      <td>0.85</td>\n",
       "      <td>0.85</td>\n",
       "      <td>9.42</td>\n",
       "      <td>44.39</td>\n",
       "    </tr>\n",
       "    <tr>\n",
       "      <th>RANSACRegressor</th>\n",
       "      <td>0.72</td>\n",
       "      <td>0.72</td>\n",
       "      <td>12.94</td>\n",
       "      <td>32.86</td>\n",
       "    </tr>\n",
       "    <tr>\n",
       "      <th>LarsCV</th>\n",
       "      <td>0.71</td>\n",
       "      <td>0.71</td>\n",
       "      <td>13.13</td>\n",
       "      <td>30.83</td>\n",
       "    </tr>\n",
       "    <tr>\n",
       "      <th>HistGradientBoostingRegressor</th>\n",
       "      <td>0.95</td>\n",
       "      <td>0.95</td>\n",
       "      <td>5.50</td>\n",
       "      <td>23.23</td>\n",
       "    </tr>\n",
       "    <tr>\n",
       "      <th>OrthogonalMatchingPursuitCV</th>\n",
       "      <td>0.81</td>\n",
       "      <td>0.81</td>\n",
       "      <td>10.66</td>\n",
       "      <td>19.98</td>\n",
       "    </tr>\n",
       "    <tr>\n",
       "      <th>LassoLarsCV</th>\n",
       "      <td>0.85</td>\n",
       "      <td>0.85</td>\n",
       "      <td>9.41</td>\n",
       "      <td>19.41</td>\n",
       "    </tr>\n",
       "    <tr>\n",
       "      <th>RidgeCV</th>\n",
       "      <td>0.86</td>\n",
       "      <td>0.86</td>\n",
       "      <td>9.28</td>\n",
       "      <td>19.11</td>\n",
       "    </tr>\n",
       "    <tr>\n",
       "      <th>BayesianRidge</th>\n",
       "      <td>0.86</td>\n",
       "      <td>0.86</td>\n",
       "      <td>9.27</td>\n",
       "      <td>17.80</td>\n",
       "    </tr>\n",
       "    <tr>\n",
       "      <th>LassoLarsIC</th>\n",
       "      <td>0.85</td>\n",
       "      <td>0.85</td>\n",
       "      <td>9.41</td>\n",
       "      <td>16.77</td>\n",
       "    </tr>\n",
       "    <tr>\n",
       "      <th>LinearRegression</th>\n",
       "      <td>0.86</td>\n",
       "      <td>0.86</td>\n",
       "      <td>9.28</td>\n",
       "      <td>14.63</td>\n",
       "    </tr>\n",
       "    <tr>\n",
       "      <th>Lasso</th>\n",
       "      <td>0.76</td>\n",
       "      <td>0.76</td>\n",
       "      <td>11.99</td>\n",
       "      <td>14.59</td>\n",
       "    </tr>\n",
       "    <tr>\n",
       "      <th>ExtraTreeRegressor</th>\n",
       "      <td>0.97</td>\n",
       "      <td>0.97</td>\n",
       "      <td>3.94</td>\n",
       "      <td>13.62</td>\n",
       "    </tr>\n",
       "    <tr>\n",
       "      <th>PoissonRegressor</th>\n",
       "      <td>0.86</td>\n",
       "      <td>0.86</td>\n",
       "      <td>9.29</td>\n",
       "      <td>13.26</td>\n",
       "    </tr>\n",
       "    <tr>\n",
       "      <th>TransformedTargetRegressor</th>\n",
       "      <td>0.86</td>\n",
       "      <td>0.86</td>\n",
       "      <td>9.28</td>\n",
       "      <td>13.14</td>\n",
       "    </tr>\n",
       "    <tr>\n",
       "      <th>XGBRegressor</th>\n",
       "      <td>0.67</td>\n",
       "      <td>0.67</td>\n",
       "      <td>14.13</td>\n",
       "      <td>13.01</td>\n",
       "    </tr>\n",
       "    <tr>\n",
       "      <th>PassiveAggressiveRegressor</th>\n",
       "      <td>0.77</td>\n",
       "      <td>0.77</td>\n",
       "      <td>11.66</td>\n",
       "      <td>12.41</td>\n",
       "    </tr>\n",
       "    <tr>\n",
       "      <th>DecisionTreeRegressor</th>\n",
       "      <td>0.74</td>\n",
       "      <td>0.74</td>\n",
       "      <td>12.60</td>\n",
       "      <td>12.39</td>\n",
       "    </tr>\n",
       "    <tr>\n",
       "      <th>LGBMRegressor</th>\n",
       "      <td>0.96</td>\n",
       "      <td>0.96</td>\n",
       "      <td>4.95</td>\n",
       "      <td>11.30</td>\n",
       "    </tr>\n",
       "    <tr>\n",
       "      <th>Lars</th>\n",
       "      <td>-4015477913198231598010423081607596804565174343...</td>\n",
       "      <td>-4013904085838523011216779871112937876628255871...</td>\n",
       "      <td>15544217683395671830533505024.00</td>\n",
       "      <td>10.26</td>\n",
       "    </tr>\n",
       "    <tr>\n",
       "      <th>ElasticNet</th>\n",
       "      <td>0.73</td>\n",
       "      <td>0.73</td>\n",
       "      <td>12.69</td>\n",
       "      <td>10.23</td>\n",
       "    </tr>\n",
       "    <tr>\n",
       "      <th>SGDRegressor</th>\n",
       "      <td>-5107586991522949120.00</td>\n",
       "      <td>-5105585122673682432.00</td>\n",
       "      <td>55438074139.06</td>\n",
       "      <td>10.10</td>\n",
       "    </tr>\n",
       "    <tr>\n",
       "      <th>LassoLars</th>\n",
       "      <td>0.76</td>\n",
       "      <td>0.76</td>\n",
       "      <td>11.95</td>\n",
       "      <td>9.03</td>\n",
       "    </tr>\n",
       "    <tr>\n",
       "      <th>OrthogonalMatchingPursuit</th>\n",
       "      <td>0.81</td>\n",
       "      <td>0.81</td>\n",
       "      <td>10.66</td>\n",
       "      <td>8.97</td>\n",
       "    </tr>\n",
       "    <tr>\n",
       "      <th>Ridge</th>\n",
       "      <td>0.86</td>\n",
       "      <td>0.86</td>\n",
       "      <td>9.28</td>\n",
       "      <td>8.82</td>\n",
       "    </tr>\n",
       "    <tr>\n",
       "      <th>GammaRegressor</th>\n",
       "      <td>0.74</td>\n",
       "      <td>0.74</td>\n",
       "      <td>12.55</td>\n",
       "      <td>8.75</td>\n",
       "    </tr>\n",
       "    <tr>\n",
       "      <th>TweedieRegressor</th>\n",
       "      <td>0.74</td>\n",
       "      <td>0.74</td>\n",
       "      <td>12.41</td>\n",
       "      <td>8.72</td>\n",
       "    </tr>\n",
       "    <tr>\n",
       "      <th>DummyRegressor</th>\n",
       "      <td>-0.00</td>\n",
       "      <td>-0.00</td>\n",
       "      <td>24.54</td>\n",
       "      <td>7.48</td>\n",
       "    </tr>\n",
       "  </tbody>\n",
       "</table>\n",
       "</div>"
      ],
      "text/plain": [
       "                                                              Adjusted R-Squared  \\\n",
       "Model                                                                              \n",
       "MLPRegressor                                                                0.96   \n",
       "KNeighborsRegressor                                                         0.97   \n",
       "ExtraTreesRegressor                                                         0.98   \n",
       "LinearSVR                                                                   0.83   \n",
       "RandomForestRegressor                                                       0.74   \n",
       "GradientBoostingRegressor                                                   0.89   \n",
       "LassoCV                                                                     0.86   \n",
       "HuberRegressor                                                              0.84   \n",
       "AdaBoostRegressor                                                           0.40   \n",
       "BaggingRegressor                                                            0.74   \n",
       "ElasticNetCV                                                                0.85   \n",
       "RANSACRegressor                                                             0.72   \n",
       "LarsCV                                                                      0.71   \n",
       "HistGradientBoostingRegressor                                               0.95   \n",
       "OrthogonalMatchingPursuitCV                                                 0.81   \n",
       "LassoLarsCV                                                                 0.85   \n",
       "RidgeCV                                                                     0.86   \n",
       "BayesianRidge                                                               0.86   \n",
       "LassoLarsIC                                                                 0.85   \n",
       "LinearRegression                                                            0.86   \n",
       "Lasso                                                                       0.76   \n",
       "ExtraTreeRegressor                                                          0.97   \n",
       "PoissonRegressor                                                            0.86   \n",
       "TransformedTargetRegressor                                                  0.86   \n",
       "XGBRegressor                                                                0.67   \n",
       "PassiveAggressiveRegressor                                                  0.77   \n",
       "DecisionTreeRegressor                                                       0.74   \n",
       "LGBMRegressor                                                               0.96   \n",
       "Lars                          -4015477913198231598010423081607596804565174343...   \n",
       "ElasticNet                                                                  0.73   \n",
       "SGDRegressor                                             -5107586991522949120.00   \n",
       "LassoLars                                                                   0.76   \n",
       "OrthogonalMatchingPursuit                                                   0.81   \n",
       "Ridge                                                                       0.86   \n",
       "GammaRegressor                                                              0.74   \n",
       "TweedieRegressor                                                            0.74   \n",
       "DummyRegressor                                                             -0.00   \n",
       "\n",
       "                                                                       R-Squared  \\\n",
       "Model                                                                              \n",
       "MLPRegressor                                                                0.96   \n",
       "KNeighborsRegressor                                                         0.97   \n",
       "ExtraTreesRegressor                                                         0.98   \n",
       "LinearSVR                                                                   0.83   \n",
       "RandomForestRegressor                                                       0.74   \n",
       "GradientBoostingRegressor                                                   0.89   \n",
       "LassoCV                                                                     0.86   \n",
       "HuberRegressor                                                              0.84   \n",
       "AdaBoostRegressor                                                           0.40   \n",
       "BaggingRegressor                                                            0.74   \n",
       "ElasticNetCV                                                                0.85   \n",
       "RANSACRegressor                                                             0.72   \n",
       "LarsCV                                                                      0.71   \n",
       "HistGradientBoostingRegressor                                               0.95   \n",
       "OrthogonalMatchingPursuitCV                                                 0.81   \n",
       "LassoLarsCV                                                                 0.85   \n",
       "RidgeCV                                                                     0.86   \n",
       "BayesianRidge                                                               0.86   \n",
       "LassoLarsIC                                                                 0.85   \n",
       "LinearRegression                                                            0.86   \n",
       "Lasso                                                                       0.76   \n",
       "ExtraTreeRegressor                                                          0.97   \n",
       "PoissonRegressor                                                            0.86   \n",
       "TransformedTargetRegressor                                                  0.86   \n",
       "XGBRegressor                                                                0.67   \n",
       "PassiveAggressiveRegressor                                                  0.77   \n",
       "DecisionTreeRegressor                                                       0.74   \n",
       "LGBMRegressor                                                               0.96   \n",
       "Lars                          -4013904085838523011216779871112937876628255871...   \n",
       "ElasticNet                                                                  0.73   \n",
       "SGDRegressor                                             -5105585122673682432.00   \n",
       "LassoLars                                                                   0.76   \n",
       "OrthogonalMatchingPursuit                                                   0.81   \n",
       "Ridge                                                                       0.86   \n",
       "GammaRegressor                                                              0.74   \n",
       "TweedieRegressor                                                            0.74   \n",
       "DummyRegressor                                                             -0.00   \n",
       "\n",
       "                                                          RMSE  Time Taken  \n",
       "Model                                                                       \n",
       "MLPRegressor                                              4.95     1350.02  \n",
       "KNeighborsRegressor                                       4.10     1019.17  \n",
       "ExtraTreesRegressor                                       3.41      539.32  \n",
       "LinearSVR                                                10.04      301.83  \n",
       "RandomForestRegressor                                    12.53      292.67  \n",
       "GradientBoostingRegressor                                 8.19      149.53  \n",
       "LassoCV                                                   9.29      112.62  \n",
       "HuberRegressor                                            9.86      102.53  \n",
       "AdaBoostRegressor                                        19.06       98.53  \n",
       "BaggingRegressor                                         12.54       47.58  \n",
       "ElasticNetCV                                              9.42       44.39  \n",
       "RANSACRegressor                                          12.94       32.86  \n",
       "LarsCV                                                   13.13       30.83  \n",
       "HistGradientBoostingRegressor                             5.50       23.23  \n",
       "OrthogonalMatchingPursuitCV                              10.66       19.98  \n",
       "LassoLarsCV                                               9.41       19.41  \n",
       "RidgeCV                                                   9.28       19.11  \n",
       "BayesianRidge                                             9.27       17.80  \n",
       "LassoLarsIC                                               9.41       16.77  \n",
       "LinearRegression                                          9.28       14.63  \n",
       "Lasso                                                    11.99       14.59  \n",
       "ExtraTreeRegressor                                        3.94       13.62  \n",
       "PoissonRegressor                                          9.29       13.26  \n",
       "TransformedTargetRegressor                                9.28       13.14  \n",
       "XGBRegressor                                             14.13       13.01  \n",
       "PassiveAggressiveRegressor                               11.66       12.41  \n",
       "DecisionTreeRegressor                                    12.60       12.39  \n",
       "LGBMRegressor                                             4.95       11.30  \n",
       "Lars                          15544217683395671830533505024.00       10.26  \n",
       "ElasticNet                                               12.69       10.23  \n",
       "SGDRegressor                                    55438074139.06       10.10  \n",
       "LassoLars                                                11.95        9.03  \n",
       "OrthogonalMatchingPursuit                                10.66        8.97  \n",
       "Ridge                                                     9.28        8.82  \n",
       "GammaRegressor                                           12.55        8.75  \n",
       "TweedieRegressor                                         12.41        8.72  \n",
       "DummyRegressor                                           24.54        7.48  "
      ]
     },
     "execution_count": 16,
     "metadata": {},
     "output_type": "execute_result"
    }
   ],
   "source": [
    "all_models.sort_values(by=['Time Taken'], ascending=False)"
   ]
  },
  {
   "cell_type": "code",
   "execution_count": 17,
   "metadata": {},
   "outputs": [
    {
     "data": {
      "text/plain": [
       "['files/output/models/2025_03_13-lazy_predict_chunks.pkl']"
      ]
     },
     "execution_count": 17,
     "metadata": {},
     "output_type": "execute_result"
    }
   ],
   "source": [
    "joblib.dump(lazy_predict_chunks, f\"{OUTPUT_DIR}models/{current_date}-lazy_predict_chunks.pkl\")"
   ]
  },
  {
   "cell_type": "code",
   "execution_count": 49,
   "metadata": {},
   "outputs": [],
   "source": [
    "model = joblib.load(f\"{OUTPUT_DIR}models/2025_03_13-lazy-ExtraTreesRegressor.pkl\")"
   ]
  },
  {
   "cell_type": "code",
   "execution_count": 50,
   "metadata": {},
   "outputs": [
    {
     "data": {
      "text/plain": [
       "array([169.        , 143.98      , 177.16      , ..., 165.91      ,\n",
       "       163.28309028, 200.55      ])"
      ]
     },
     "execution_count": 50,
     "metadata": {},
     "output_type": "execute_result"
    }
   ],
   "source": [
    "y_pred = model.predict(X_test)\n",
    "y_pred"
   ]
  },
  {
   "cell_type": "code",
   "execution_count": 52,
   "metadata": {},
   "outputs": [
    {
     "data": {
      "text/plain": [
       "11.630973078074135"
      ]
     },
     "execution_count": 52,
     "metadata": {},
     "output_type": "execute_result"
    }
   ],
   "source": [
    "from sklearn.metrics import mean_squared_error\n",
    "\n",
    "mean_squared_error_reg = mean_squared_error(y_true=y_test, y_pred=y_pred)\n",
    "mean_squared_error_reg"
   ]
  },
  {
   "cell_type": "code",
   "execution_count": 53,
   "metadata": {},
   "outputs": [
    {
     "data": {
      "text/plain": [
       "3.4104212464260386"
      ]
     },
     "execution_count": 53,
     "metadata": {},
     "output_type": "execute_result"
    }
   ],
   "source": [
    "from sklearn.metrics import root_mean_squared_error\n",
    "\n",
    "root_mean_squared_error_reg = root_mean_squared_error(y_true=y_test, y_pred=y_pred)\n",
    "root_mean_squared_error_reg"
   ]
  },
  {
   "cell_type": "code",
   "execution_count": 54,
   "metadata": {},
   "outputs": [
    {
     "data": {
      "text/plain": [
       "0.980678301456946"
      ]
     },
     "execution_count": 54,
     "metadata": {},
     "output_type": "execute_result"
    }
   ],
   "source": [
    "from sklearn.metrics import r2_score\n",
    "\n",
    "r2_score_reg = r2_score(y_true=y_test, y_pred=y_pred)\n",
    "r2_score_reg"
   ]
  }
 ],
 "metadata": {
  "kernelspec": {
   "display_name": "venv",
   "language": "python",
   "name": "python3"
  },
  "language_info": {
   "codemirror_mode": {
    "name": "ipython",
    "version": 3
   },
   "file_extension": ".py",
   "mimetype": "text/x-python",
   "name": "python",
   "nbconvert_exporter": "python",
   "pygments_lexer": "ipython3",
   "version": "3.9.11"
  }
 },
 "nbformat": 4,
 "nbformat_minor": 2
}
