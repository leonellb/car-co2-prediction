{
 "cells": [
  {
   "cell_type": "markdown",
   "metadata": {},
   "source": [
    "This file should serve to read in the prepared data, separate it into X and y and try out the first models"
   ]
  },
  {
   "cell_type": "code",
   "execution_count": null,
   "metadata": {},
   "outputs": [],
   "source": [
    "import pandas as pd\n",
    "import numpy as np\n",
    "import matplotlib.pyplot as plt\n",
    "import seaborn as sns\n",
    "dateiName = #\n",
    "df = pd.read_csv(dateiName, sep = \",\", header = 0)\n",
    "df.info()\n",
    "\n",
    "# Assuming we take fuel_consumption as target\n",
    "X = df.drop(columns = \"fuel_consumption\")\n",
    "y = df[\"fuel_consumption\"]"
   ]
  },
  {
   "cell_type": "code",
   "execution_count": null,
   "metadata": {},
   "outputs": [],
   "source": [
    "# Split the data in train and a test setz\n",
    "from sklearn.model_selection import train_test_split\n",
    "\n",
    "X_train, X_test, y_train, y_test = train_test_split(X, y, test_size = 0.2)"
   ]
  },
  {
   "cell_type": "code",
   "execution_count": null,
   "metadata": {},
   "outputs": [],
   "source": [
    "# to get a first impression of several models we could try\n",
    "# very computing intensive\n",
    "import lazypredict\n",
    "from lazypredict.Supervised import LazyRegressor\n",
    "\n",
    "clf = LazyRegressor(verbose=0, ignore_warnings=True, custom_metric=None)\n",
    "models, predictions = clf.fit(X_train, X_test, y_train, y_test)\n",
    "print(models)"
   ]
  },
  {
   "cell_type": "code",
   "execution_count": null,
   "metadata": {},
   "outputs": [],
   "source": [
    "# Trying out LinearRegression\n",
    "from sklearn.model_selection import train_test_split\n",
    "from sklearn.linear_model import LinearRegression\n",
    "from sklearn.metrics import mean_squared_error, r2_score\n",
    "# Testing LinearRegression for predicting the CO2-emission   \n",
    "\n",
    "X_train, X_test, y_train, y_test = train_test_split(X, y, test_size = 0.2)\n",
    "lr = LinearRegression()\n",
    "lr.fit(X_train, y_train)\n",
    "\n",
    "#score of LinearRegression\n",
    "score_train = lr.score(X_train, y_train)\n",
    "score_test = lr.score(X_test, y_test)\n",
    "print(\"score_train:\",score_train)\n",
    "print(\"score_test:\",score_test)\n",
    "\n",
    "# mean squared Error\n",
    "y_pred_tr = lr.predict(X_train)\n",
    "y_pred_te = lr.predict(X_test)\n",
    "mse_tr = mean_squared_error(y_pred_tr, y_train )\n",
    "mse_te = mean_squared_error(y_pred_te, y_test)\n",
    "print(\"mse training data: \", mse_tr)\n",
    "print(\"mse test data: \", mse_te)\n"
   ]
  },
  {
   "cell_type": "code",
   "execution_count": null,
   "metadata": {},
   "outputs": [],
   "source": [
    "#trying out RidgeCV\n",
    "from sklearn.linear_model import RidgeCV\n",
    "ridge_reg = RidgeCV(alphas =[0.001, 0.01, 0.1, 0.3, 0.7, 1, 10, 50, 100])\n",
    "ridge_reg.fit(X_train, y_train)\n",
    "print(\"alpha used:\",ridge_reg.alpha_)\n",
    "sc_train = ridge_reg.score(X_train, y_train)\n",
    "sc_test = ridge_reg.score(X_test, y_test)\n",
    "print(\"score: \", sc_test)\n",
    "print(\"score: \", sc_train)\n",
    "\n",
    "# mean squared Error\n",
    "y_pred_tr = ridge_reg.predict(X_train)\n",
    "y_pred_te = ridge_reg.predict(X_test)\n",
    "mse_tr = mean_squared_error(y_pred_tr, y_train )\n",
    "mse_te = mean_squared_error(y_pred_te, y_test)\n",
    "print(\"mse training data: \", mse_tr)\n",
    "print(\"mse test data: \", mse_te)"
   ]
  },
  {
   "cell_type": "code",
   "execution_count": null,
   "metadata": {},
   "outputs": [],
   "source": [
    "#trying out lasso  regression\n",
    "from sklearn.linear_model import LassoCV\n",
    "lasso_r = LassoCV()\n",
    "lasso_r.fit(X_train, y_train)\n",
    "#lasso coefficients:\n",
    "print(lasso_r.coef_)\n",
    "print(\"alpha used: \", lasso_r.alpha_)\n",
    "\n",
    "#scores\n",
    "sc_train = lasso_r.score(X_train, y_train)\n",
    "sc_test = lasso_r.score(X_test, y_test)\n",
    "print(\"score: \", sc_test)\n",
    "print(\"score: \", sc_train)\n",
    "\n",
    "# mean squared Error\n",
    "y_pred_tr = lasso_r.predict(X_train)\n",
    "y_pred_te = lasso_r.predict(X_test)\n",
    "mse_tr = mean_squared_error(y_pred_tr, y_train )\n",
    "mse_te = mean_squared_error(y_pred_te, y_test)\n",
    "print(\"mse training data: \", mse_tr)\n",
    "print(\"mse test data: \", mse_te)\n",
    "\n",
    "feats = list(X_train.columns)\n",
    "coeffs = list(lasso_r.coef_)\n",
    "df_res=pd.DataFrame({'alphas': coeffs}, index=feats)\n",
    "df_res"
   ]
  }
 ],
 "metadata": {
  "kernelspec": {
   "display_name": "venv",
   "language": "python",
   "name": "python3"
  },
  "language_info": {
   "name": "python",
   "version": "3.12.0"
  }
 },
 "nbformat": 4,
 "nbformat_minor": 2
}
